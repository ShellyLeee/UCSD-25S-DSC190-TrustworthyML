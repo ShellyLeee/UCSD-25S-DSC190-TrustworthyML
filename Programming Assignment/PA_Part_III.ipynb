{
 "cells": [
  {
   "cell_type": "markdown",
   "metadata": {
    "id": "hjRM13EAuL3g"
   },
   "source": [
    "# ***PA - Part III: Training a Robust Model - Optional/Bonus*** (10pt)\n",
    "\n",
    "**Keywords**: Adversarial Robustness Training\n",
    "\n",
    "**About the dataset**: \\\n",
    "The [MNIST](https://en.wikipedia.org/wiki/MNIST_database) database (Modified National Institute of Standards and Technology database) is a large database of handwritten digits that is commonly used for training various image processing systems.\\\n",
    "The MNIST database contains 70,000 labeled images. Each datapoint is a $28\\times 28$ pixels grayscale image.\n",
    "\n",
    "**Agenda**:\n",
    "* The PA is split into three parts, the first part dealing with miniature models which we will build from scratch, the second part dealing with modern architectures and the bonus third part dealing with training vision models robust to adversarial attacks.\n",
    "* In this part, you will train a 2-hidden layer neural network which is robust to adversarial attacks.\n",
    "* You will train models on adversarial examples generated using FGSM and PGD.\n",
    "\n",
    "**Note:**\n",
    "* Hardware acceleration (GPU) is recommended but not required for this part.\n",
    "* A note on working with GPU:\n",
    "  * Take care that whenever declaring new tensors, set `device=device` in parameters.\n",
    "  * You can also move a declared torch tensor/model to device using `.to(device)`.\n",
    "  * To move a torch model/tensor to cpu, use `.to('cpu')`\n",
    "  * Keep in mind that all the tensors/model involved in a computation have to be on the same device (CPU/GPU).\n",
    "* Run all the cells in order.\n",
    "* Only **add your code** to cells marked with \"TODO:\" or with \"...\"\n",
    "* You should not have to change variable names where provided, but you are free to if required for your implementation."
   ]
  },
  {
   "cell_type": "markdown",
   "metadata": {
    "id": "bFWii5HbsA4r"
   },
   "source": [
    "### ***Setup: Imports and Utils***"
   ]
  },
  {
   "cell_type": "code",
   "execution_count": 1,
   "metadata": {
    "colab": {
     "base_uri": "https://localhost:8080/"
    },
    "id": "N1FBs7WdqrID",
    "outputId": "43c94d64-8574-48d4-c763-124530b96a58"
   },
   "outputs": [
    {
     "name": "stdout",
     "output_type": "stream",
     "text": [
      "Requirement already satisfied: gdown in /usr/local/lib/python3.11/dist-packages (5.2.0)\n",
      "Requirement already satisfied: beautifulsoup4 in /usr/local/lib/python3.11/dist-packages (from gdown) (4.13.4)\n",
      "Requirement already satisfied: filelock in /usr/local/lib/python3.11/dist-packages (from gdown) (3.18.0)\n",
      "Requirement already satisfied: requests[socks] in /usr/local/lib/python3.11/dist-packages (from gdown) (2.32.3)\n",
      "Requirement already satisfied: tqdm in /usr/local/lib/python3.11/dist-packages (from gdown) (4.67.1)\n",
      "Requirement already satisfied: soupsieve>1.2 in /usr/local/lib/python3.11/dist-packages (from beautifulsoup4->gdown) (2.7)\n",
      "Requirement already satisfied: typing-extensions>=4.0.0 in /usr/local/lib/python3.11/dist-packages (from beautifulsoup4->gdown) (4.13.2)\n",
      "Requirement already satisfied: charset-normalizer<4,>=2 in /usr/local/lib/python3.11/dist-packages (from requests[socks]->gdown) (3.4.1)\n",
      "Requirement already satisfied: idna<4,>=2.5 in /usr/local/lib/python3.11/dist-packages (from requests[socks]->gdown) (3.10)\n",
      "Requirement already satisfied: urllib3<3,>=1.21.1 in /usr/local/lib/python3.11/dist-packages (from requests[socks]->gdown) (2.3.0)\n",
      "Requirement already satisfied: certifi>=2017.4.17 in /usr/local/lib/python3.11/dist-packages (from requests[socks]->gdown) (2025.1.31)\n",
      "Requirement already satisfied: PySocks!=1.5.7,>=1.5.6 in /usr/local/lib/python3.11/dist-packages (from requests[socks]->gdown) (1.7.1)\n"
     ]
    }
   ],
   "source": [
    "# install this library\n",
    "!pip install gdown"
   ]
  },
  {
   "cell_type": "code",
   "execution_count": 2,
   "metadata": {
    "execution": {
     "iopub.execute_input": "2022-05-13T02:49:35.930120Z",
     "iopub.status.busy": "2022-05-13T02:49:35.929583Z",
     "iopub.status.idle": "2022-05-13T02:49:45.968342Z",
     "shell.execute_reply": "2022-05-13T02:49:45.967617Z",
     "shell.execute_reply.started": "2022-05-13T02:49:35.930035Z"
    },
    "id": "qNtGmOhl1I_m"
   },
   "outputs": [],
   "source": [
    "# imports\n",
    "import torch\n",
    "import torch.nn as nn\n",
    "import numpy as np\n",
    "import requests\n",
    "from torchvision import datasets, transforms\n",
    "from torch.utils.data import DataLoader\n",
    "import matplotlib.pyplot as plt\n",
    "from tqdm.notebook import tqdm\n",
    "import gdown\n",
    "from zipfile import ZipFile\n",
    "\n",
    "# set device\n",
    "device = torch.device(\"cuda:0\" if torch.cuda.is_available() else \"cpu\")\n",
    "\n",
    "# loading the dataset full MNIST dataset\n",
    "mnist_train = datasets.MNIST(\"./data\", train=True, download=True, transform=transforms.ToTensor())\n",
    "mnist_test = datasets.MNIST(\"./data\", train=False, download=True, transform=transforms.ToTensor())\n",
    "\n",
    "mnist_train.data = mnist_train.data.to(device)\n",
    "mnist_test.data = mnist_test.data.to(device)\n",
    "\n",
    "mnist_train.targets = mnist_train.targets.to(device)\n",
    "mnist_test.targets = mnist_test.targets.to(device)\n",
    "\n",
    "# reshape and min-max scale\n",
    "X_train =  (mnist_train.data.reshape((mnist_train.data.shape[0], -1))/255).to(device)\n",
    "y_train = mnist_train.targets\n",
    "X_test = (mnist_test.data.reshape((mnist_test.data.shape[0], -1))/255).to(device)\n",
    "y_test = mnist_test.targets\n",
    "\n",
    "# first few examples\n",
    "example_data = mnist_test.data[:18]/255\n",
    "example_data_flattened  = example_data.view((example_data.shape[0], -1)).to(device) # needed for training\n",
    "example_labels = mnist_test.targets[:18].to(device)"
   ]
  },
  {
   "cell_type": "markdown",
   "metadata": {
    "id": "qBFXtet3mnXM"
   },
   "source": [
    "\n",
    "\n",
    "---\n",
    "\n",
    "\n",
    "\n",
    "---\n",
    "\n",
    "\n"
   ]
  },
  {
   "cell_type": "markdown",
   "metadata": {
    "id": "lu9K75vp9nI6"
   },
   "source": [
    "### **Adversarial training:**\n",
    "* To train robust models, the most intuitive strategy is to train on adversarial examples.\n",
    "* The adversarial (robust) loss function is defined as:\n",
    "$\\underset{\\theta}{\\min} \\frac{1}{|S|}\\sum_{x,y\\in S} \\underset{∥δ∥≤ϵ}{\\max}\\,ℓ(h_θ(x+δ),y)$, \\\n",
    "where $\\theta$ are the learnable parameters, $S$ is the set of training examples with $x$ representing the input example and $y$ the ground truth label, $h_\\theta$ is the score function (neural network model), $\\delta$ is the attack perturbation, and $\\epsilon$ is the attack budget.\n",
    "\n",
    "* This is also known as the min-max loss function. The gradient descent step now becomes:\\\n",
    "$\\theta:=\\theta-\\frac{\\alpha}{|B|}\\sum_{x,y\\in B} ∇_θ \\underset{∥δ∥≤ϵ}{\\max}\\,ℓ(h_θ(x+δ),y)$,\\\n",
    "where $B$ is the mini-batch and $\\alpha$ is the learning rate.\n",
    "\n",
    "* Now the question becomes how to solve the inner term: $∇_θ \\underset{∥δ∥≤ϵ}{\\max}\\,ℓ(h_θ(x+δ),y)$ of the gradient descent step.\n",
    "* For this, we can use **Danskin’s Theorem**, which states that to compute the (sub)gradient of a function containing a max term, we need to simply\n",
    "  1. find the maximum and,\n",
    "  2. compute the normal gradient evaluated at this point.\n",
    "* This holds only when you have the exact maximum.  Note that it is not possible to solve the inner maximization problem exactly (NP-hard). However, the better job we do of solving the inner maximization problem, the closer it seems that Danskin’s theorem starts to hold. That is why we can re-use methods such as FGSM/PGD to find approximate worst case examples.\n",
    "* In other words, we can perform the attack to find $δ^{*} = \\underset{∥δ∥≤ϵ}{\\arg\\max}ℓ(h_θ(x+δ),y)$, and then compute this term at the perturbed image: $∇_θℓ(h_θ(x+δ^{*}),y)$.\n",
    "\n",
    "In summary, we will create an adversarial example for each datapoint in the mini-batch and use the loss corresponding to these adversarial examples to compute the gradient.  "
   ]
  },
  {
   "cell_type": "markdown",
   "metadata": {
    "id": "f3KRlvNV8gB5"
   },
   "source": [
    "We explore two attacks to get the perturbration - Fast Gradient Sign Method (FGSM) and Projected Gradient Descent (PGD)\n",
    "\n",
    "* In the Fast Gradient Sign Method (FGSM), the perturbation $\\delta$ on an input example (e.g. input image) $X$ is given by $\\epsilon\\cdot \\text{sign}(g)$.\n",
    "  * Here, $g$ is the gradient of the loss function $g:=\\nabla_\\delta \\ell(h_\\theta (x+\\delta),y)$.\n",
    "  * $\\ell$ is the loss function, more precisely `nn.CrossEntropyLoss`. In the first timestep, this value of $\\delta$ is $0$.\n",
    "\n",
    "* For the Projected Gradient Descent (PGD) attack, you will create an adversarial example by iteratively performing **steepest descent** with a fixed step size $\\alpha$.\n",
    "  * The update rule is: $\\delta:=P(\\delta+\\alpha\\,\\text{sign}(\\nabla_\\delta \\ell(h_\\theta(x+\\delta),y)))$.\n",
    "  * Here $\\delta$ is the perturbation, $\\theta$ are the frozen DNN parameters, $x$ and $y$ is the training example and its ground truth label respectively.\n",
    "  * $h_\\theta$ is the score function and $\\ell$ denotes the loss function.\n",
    "  * $P$ denotes the projection onto a norm ball ($l_\\infty, l_1, l_2$, etc.) of interest. For $l_\\infty$ ball, this just means clamping the value of $\\delta$ between $-\\epsilon$ and $\\epsilon$.\n",
    "\n"
   ]
  },
  {
   "cell_type": "markdown",
   "metadata": {
    "id": "cOLLgUNtuHtk"
   },
   "source": [
    "\n",
    "\n",
    "---\n",
    "\n"
   ]
  },
  {
   "cell_type": "markdown",
   "metadata": {
    "id": "2oxntXnpDG0y"
   },
   "source": [
    "### *(a) Setup* (4pt)\n",
    "\n",
    "* In this part you will create a few adversarial examples using FGSM and PGD attacks. Use an attack budget $\\epsilon=0.05$.\n",
    "\n",
    "\n",
    "#### #1. Define the `fgsm` function\n",
    "\n",
    "* Define a function `fgsm` which takes as input the neural network model (`model`), test examples (`X`), target labels (`y`), and the attack budget (`epsilon`).\n",
    "* Return the value of the perturbation ($\\delta$) after one gradient descent step."
   ]
  },
  {
   "cell_type": "code",
   "execution_count": 3,
   "metadata": {
    "execution": {
     "iopub.execute_input": "2022-05-13T03:19:05.822659Z",
     "iopub.status.busy": "2022-05-13T03:19:05.822355Z",
     "iopub.status.idle": "2022-05-13T03:19:05.832077Z",
     "shell.execute_reply": "2022-05-13T03:19:05.831363Z",
     "shell.execute_reply.started": "2022-05-13T03:19:05.822616Z"
    },
    "id": "jY92MjbEDGf9"
   },
   "outputs": [],
   "source": [
    "#######\n",
    "#TODO:\n",
    "def fgsm(model, x, y, epsilon):\n",
    "    x.requires_grad = True\n",
    "    output = model(x)\n",
    "    model.zero_grad()\n",
    "    loss = nn.CrossEntropyLoss()(output, y) # Most Precisely: Cross Entropy loss\n",
    "    loss.backward()\n",
    "    delta = epsilon * x.grad.sign() # 𝛿 = 𝜖⋅sign(𝑔)\n",
    "    x_adv = x + delta\n",
    "    x_adv = torch.clamp(x_adv, 0, 1) # Ensure valid pixel range after adding perturbation: in MNIST: float between [0,1]\n",
    "    delta = x_adv - x\n",
    "    return delta\n",
    "#######"
   ]
  },
  {
   "cell_type": "markdown",
   "metadata": {
    "id": "zH6b-jia89TG"
   },
   "source": [
    "\n",
    "#### #2. Define the `pgd` function\n",
    "\n",
    "* Instead of using FGSM, now use Projected Gradient Descent (PGD) with projection on $l_\\infty$ ball for the attack.\n",
    "* Define a function `pgd` that takes as input the neural network model (`model`), training examples (`X`), target labels (`y`), step size (`alpha`), attack budget (`epsilon`), and number of iterations (`num_iter`).\n",
    "* Return the perturbation ($\\delta$) after `num_iter` gradient descent steps."
   ]
  },
  {
   "cell_type": "code",
   "execution_count": 4,
   "metadata": {
    "id": "CZIZJ0NK88Si"
   },
   "outputs": [],
   "source": [
    "#TODO:\n",
    "\n",
    "def pgd(model, x, y, alpha, epsilon, num_iter):\n",
    "    # random sampling uniformly between 0 and 1\n",
    "    delta = torch.rand_like(x) # Every element in tensor delta ~ U(0, 1)\n",
    "    # bring delta in -eps to eps range\n",
    "    # how? --> [0, 1] --> [0, 2*eps] --> [-eps, eps]\n",
    "    delta = delta * 2 * epsilon - epsilon\n",
    "    delta.requires_grad = True\n",
    "\n",
    "    for t in (range(num_iter)):\n",
    "        output = model(torch.clamp(x + delta, 0, 1)) # Ensure valid pixel range after adding perturbation: in MNIST: float between [0,1]\n",
    "        loss = nn.CrossEntropyLoss()(output, y)\n",
    "        model.zero_grad()\n",
    "        loss.backward()\n",
    "\n",
    "        delta.data = delta.data + alpha * torch.sign(delta.grad.data) # Update delta: 𝛿+𝛼sign(∇𝛿ℓ(ℎ𝜃(𝑥+𝛿),𝑦))\n",
    "        delta.data = torch.clamp(delta, -epsilon, epsilon) # Projection to [-ε, ε] l∞ ball: 𝛿:=𝑃(𝛿+𝛼sign(∇𝛿ℓ(ℎ𝜃(𝑥+𝛿),𝑦)))\n",
    "        delta.data = torch.clamp(x + delta, 0, 1) # Ensure valid pixel range after adding perturbation: in MNIST: float between [0,1]\n",
    "        delta.grad.zero_()\n",
    "\n",
    "    return delta"
   ]
  },
  {
   "cell_type": "markdown",
   "metadata": {
    "id": "hrHNjl-xDm7P"
   },
   "source": [
    "#### #3. Define a 2 hidden-layer NN in PyTorch\n",
    "\n",
    "* Create a 2-hidden-layer neural network model in PyTorch.\n",
    "* The input should be the size of the flattened MNIST image, and output layer should be of size 10, which is the number of target labels.\n",
    "* Each of the two hidden layers should be of size 1024 with ReLU activations between each subsequent layer except the last layer.\n",
    "\n",
    "You can refer to the structure of `NN_Model` from Part 1 (d) #5"
   ]
  },
  {
   "cell_type": "code",
   "execution_count": 5,
   "metadata": {
    "execution": {
     "iopub.execute_input": "2022-05-13T02:50:18.439215Z",
     "iopub.status.busy": "2022-05-13T02:50:18.438466Z",
     "iopub.status.idle": "2022-05-13T02:50:18.446367Z",
     "shell.execute_reply": "2022-05-13T02:50:18.445636Z",
     "shell.execute_reply.started": "2022-05-13T02:50:18.439150Z"
    },
    "id": "b0J-mW8gDmYl"
   },
   "outputs": [],
   "source": [
    "#######\n",
    "from torch.nn.functional import relu\n",
    "#TODO:\n",
    "class NN_Model(nn.Module):\n",
    "    def __init__(self):\n",
    "      super(NN_Model, self).__init__()\n",
    "      # Initalize various layers of model as instructed below\n",
    "      # 1. initialize three linear layers: num_features -> 32, 32 -> 16, 16 -> num_targets\n",
    "      self.fc1 = torch.nn.Linear(784, 32)\n",
    "      self.fc2 = torch.nn.Linear(32, 16)\n",
    "      self.out = torch.nn.Linear(16, 10)\n",
    "\n",
    "      # 2. initialize RELU\n",
    "      self.relu = torch.nn.ReLU()\n",
    "\n",
    "    def forward(self, X):\n",
    "      # 3. define the feedforward algorithm of the model and return the final output\n",
    "      # Apply non-linear ReLU activation between subsequent layers\n",
    "      x1 = self.relu(self.fc1(X)) # Hidden Layer 1 -> Hidden Layer 2: ReLU\n",
    "      x2 = self.relu(self.fc2(x1)) # Hidden Layer 2 -> Output: ReLU\n",
    "      output = self.out(x2) # Output Layer\n",
    "      return output\n",
    "\n",
    "#######"
   ]
  },
  {
   "cell_type": "markdown",
   "metadata": {
    "id": "NYq0cTMSE1Ta"
   },
   "source": [
    "#### #4. Adversarial Training Framework\n",
    "\n",
    "* Define a function `train_torch_model_adversarial`\n",
    "  * which takes as input: a PyTorch model (`model`), batch size (`batch_size`), loss function (`criterion`), maximum number of epochs (`max_epochs`), training data (`X_train, y_train`), learning rate (`lr`), tolerance for stopping (`tolerance`), adversarial strategy (`adversarial_strategy`: `None/'fgsm'/'pgd'`), and attack budget(`epsilon`).\n",
    "  * Note: use an SGD optimizer with the given learning rate (`lr`) to update all the model parameters.\n",
    "* If `adversarial_strategy` is `None`, don't train on adversarial examples.\n",
    "* This function will return a tuple of `(model, losses)`, where `model` is the trained model, and `losses` are a list of tuple of loss logged every epoch.\n",
    "* The only difference from the function `train_torch_model` that you wrote in Part 1 (c) #2 is that you find the adversarial noise using an attack (based on `adversarial strategy`) and add it to the input before training with it."
   ]
  },
  {
   "cell_type": "code",
   "execution_count": 6,
   "metadata": {
    "execution": {
     "iopub.execute_input": "2022-05-13T02:50:44.598192Z",
     "iopub.status.busy": "2022-05-13T02:50:44.597900Z",
     "iopub.status.idle": "2022-05-13T02:50:44.610522Z",
     "shell.execute_reply": "2022-05-13T02:50:44.609437Z",
     "shell.execute_reply.started": "2022-05-13T02:50:44.598160Z"
    },
    "id": "cJ22m_3uFwTK"
   },
   "outputs": [],
   "source": [
    "#######\n",
    "#TODO:\n",
    "def train_torch_model_adversarial(model, batch_size, criterion, max_epochs, \\\n",
    "                                  X_train, y_train, lr, tolerance, \\\n",
    "                                  adversarial_strategy, epsilon):\n",
    "    losses = []\n",
    "    num_batches = X_train.shape[0] // batch_size\n",
    "    prev_loss = float('inf')\n",
    "    optimizer = torch.optim.SGD(model.parameters(), lr=lr)\n",
    "\n",
    "    model.to(device)\n",
    "\n",
    "    for epoch in tqdm(range(max_epochs)):\n",
    "      for i in range(num_batches):\n",
    "        start = i * batch_size\n",
    "        end = start + batch_size\n",
    "        X_train_batch = X_train[start:end]\n",
    "        y_train_batch = y_train[start:end]\n",
    "\n",
    "        # Generate Adversarial noise using an attack (based on fgsm/pgd)\n",
    "        delta = 0\n",
    "\n",
    "        if adversarial_strategy is not None:\n",
    "          if adversarial_strategy == 'fgsm':\n",
    "            delta = fgsm(model, X_train_batch, y_train_batch, epsilon)\n",
    "          elif adversarial_strategy == 'pgd':\n",
    "            alpha = 0.01\n",
    "            num_iter = 40\n",
    "            delta = pgd(model, X_train_batch, y_train_batch, alpha, epsilon, num_iter)\n",
    "\n",
    "        X_train_batch = X_train_batch + delta\n",
    "        X_train_batch = torch.clamp(X_train_batch, 0, 1)\n",
    "\n",
    "        # Reset gradients\n",
    "        optimizer.zero_grad()\n",
    "\n",
    "        # Output\n",
    "        output = model(X_train_batch)\n",
    "\n",
    "        # Calculate loss\n",
    "        loss = criterion(output, y_train_batch)\n",
    "\n",
    "        # Backpropagate loss\n",
    "        loss.backward()\n",
    "\n",
    "        # Perform a single gradient update step\n",
    "        optimizer.step()\n",
    "\n",
    "    #######\n",
    "\n",
    "      # log loss every epoch and print every 5 epochs (including 20th epoch)\n",
    "      # Should we append the average loss of the epoch? or just in the last batch?\n",
    "      losses.append((epoch, loss.item()))\n",
    "      if epoch % 5 == 0 or epoch == max_epochs - 1:\n",
    "          print('Epoch: {}, Loss: {}'.format(epoch, loss.item()))\n",
    "\n",
    "      # break if decrease in loss is less than threshold\n",
    "      if abs(prev_loss - loss.item()) < tolerance:\n",
    "        print(f\"Break! Early stopping at epoch {epoch}\")\n",
    "        break\n",
    "      prev_loss = loss.item()\n",
    "\n",
    "    return model, losses\n",
    "\n",
    "#######"
   ]
  },
  {
   "cell_type": "markdown",
   "metadata": {
    "id": "kOiOT9BvuJmM"
   },
   "source": [
    "\n",
    "\n",
    "---\n",
    "\n"
   ]
  },
  {
   "cell_type": "markdown",
   "metadata": {
    "id": "UfrTRlDjHdpm"
   },
   "source": [
    "### *(b) Training and evaluation with different strategies (3 points)*\n",
    "\n",
    "####  #1. Standard, FGSM-based, and PGD-based training\n",
    "\n",
    "* Train three models:\n",
    "  * without adversarial training,\n",
    "  * with adversarial training using `fgsm`\n",
    "  * with adversarial training using `pgd`.\n",
    "* Hyperparameters\n",
    "  * Use attack budget `epsilon` of 0.05.\n",
    "  * Use a batch-size 512\n",
    "  * Train for 20 epochs with learning rate $10^{-2}$, and early stopping tolerance of $10^{-6}$.\n",
    "  * For `pgd`, use a step-size `alpha=0.01` and number of iterations `num_iter=40` when training.\n",
    "\n",
    "  Note: PGD implementation will be slow (1hr+) when using a non-GPU runtime."
   ]
  },
  {
   "cell_type": "code",
   "execution_count": 7,
   "metadata": {
    "colab": {
     "base_uri": "https://localhost:8080/",
     "height": 434,
     "referenced_widgets": [
      "662c975f8fb04a14be85e5547399d775",
      "fbc32b6318cb4d14a5510acc2bb87ca4",
      "f4bceedf54e143bc900876af56eb8169",
      "bff3ec84f5ea4e39a1c1e52b776b2f3f",
      "5bc1c8cbc6d84b05988d52319ce78fe0",
      "3cd91d7099af4e3ab0651629bf1bdc81",
      "4ca9cb6eb1624584a7c67bba52f775a4",
      "90a2a0ee12cc43bca917d786225fda29",
      "182de9d356c34552b58e75f64bc75092",
      "aba60db5ad8e4733babff3a117fedf3f",
      "43587677dae24df988e4d7ced9621fdb",
      "0ffb396a2b904aaa8f849ba95277d4ec",
      "fd71f4a2059247df9bdf79fad299fa4b",
      "a22b87428af34c17bf9f231ddd65d9b0",
      "e2002cddea974c6ea6fd81dbd5b6f22b",
      "1c002083f2c846b28718b9c16869c7d3",
      "3b0801921d3247b28db79acadc031332",
      "4b95127250cf4213a875da73020257d9",
      "6ff731859a7149af9879e80b86ebf156",
      "2f418692fd8f4e0185f6586b085a887c",
      "21f8e2ed46c14531ba26294120dbf8e2",
      "9229a1895ada4d90bdabf55e142569c3",
      "c656c754aab740b58c871c4fc6e9a668",
      "2440ea42c54344f3b5897ef96b1d7e3b",
      "665f961a77ee4df2a395caf9362e271d",
      "3bf6bf29d7824ef99b47a0185512572b",
      "33900d1baa6e46a797998220d5033c1a",
      "1dfab75fa2ba43d0bb5e5899fa3518c5",
      "7c7899fe8dbd4464b4a2769bb81d7ad3",
      "2fc661b9d65841658a6d7c47b9df4905",
      "44dc95010cfd4be2ad795949c88123ac",
      "2e1db771aa9e479c9b837f86a998006c",
      "0e71d54cbea441dcadf9c9e09bf5b758"
     ]
    },
    "execution": {
     "iopub.execute_input": "2022-05-13T03:08:29.883635Z",
     "iopub.status.busy": "2022-05-13T03:08:29.883351Z",
     "iopub.status.idle": "2022-05-13T03:14:57.798446Z",
     "shell.execute_reply": "2022-05-13T03:14:57.797639Z",
     "shell.execute_reply.started": "2022-05-13T03:08:29.883587Z"
    },
    "id": "bq7g7Se_HdSM",
    "outputId": "2ed480c7-7425-49b8-8c01-ea086a5a93b1"
   },
   "outputs": [
    {
     "data": {
      "application/vnd.jupyter.widget-view+json": {
       "model_id": "662c975f8fb04a14be85e5547399d775",
       "version_major": 2,
       "version_minor": 0
      },
      "text/plain": [
       "  0%|          | 0/20 [00:00<?, ?it/s]"
      ]
     },
     "metadata": {},
     "output_type": "display_data"
    },
    {
     "name": "stdout",
     "output_type": "stream",
     "text": [
      "Epoch: 0, Loss: 2.260551929473877\n",
      "Epoch: 5, Loss: 1.3876010179519653\n",
      "Epoch: 10, Loss: 0.6220462918281555\n",
      "Epoch: 15, Loss: 0.4118281602859497\n",
      "Epoch: 19, Loss: 0.34017112851142883\n",
      "Final training loss for None model: 0.34017112851142883\n"
     ]
    },
    {
     "data": {
      "application/vnd.jupyter.widget-view+json": {
       "model_id": "0ffb396a2b904aaa8f849ba95277d4ec",
       "version_major": 2,
       "version_minor": 0
      },
      "text/plain": [
       "  0%|          | 0/20 [00:00<?, ?it/s]"
      ]
     },
     "metadata": {},
     "output_type": "display_data"
    },
    {
     "name": "stdout",
     "output_type": "stream",
     "text": [
      "Epoch: 0, Loss: 2.323639392852783\n",
      "Epoch: 5, Loss: 2.2986323833465576\n",
      "Epoch: 10, Loss: 2.2233450412750244\n",
      "Epoch: 15, Loss: 1.7211644649505615\n",
      "Epoch: 19, Loss: 1.1605569124221802\n",
      "Final training loss for fgsm model: 1.1605569124221802\n"
     ]
    },
    {
     "data": {
      "application/vnd.jupyter.widget-view+json": {
       "model_id": "c656c754aab740b58c871c4fc6e9a668",
       "version_major": 2,
       "version_minor": 0
      },
      "text/plain": [
       "  0%|          | 0/20 [00:00<?, ?it/s]"
      ]
     },
     "metadata": {},
     "output_type": "display_data"
    },
    {
     "name": "stdout",
     "output_type": "stream",
     "text": [
      "Epoch: 0, Loss: 2.3188986778259277\n",
      "Epoch: 5, Loss: 2.018470048904419\n",
      "Epoch: 10, Loss: 0.9669334888458252\n",
      "Epoch: 15, Loss: 0.6305801868438721\n",
      "Epoch: 19, Loss: 0.5118045806884766\n",
      "Final training loss for pgd model: 0.5118045806884766\n"
     ]
    }
   ],
   "source": [
    "#######\n",
    "#TODO: To put three trained model into a standard training process\n",
    "trained_models = {}\n",
    "batch_size = 512\n",
    "tolerance = 1e-6\n",
    "lr = 1e-2\n",
    "max_epochs = 20\n",
    "epsilon = 0.05\n",
    "\n",
    "train_with_clean = False\n",
    "\n",
    "model = NN_Model()\n",
    "criterion = nn.CrossEntropyLoss()\n",
    "model, losses = train_torch_model_adversarial(\n",
    "    model=model,\n",
    "    batch_size=batch_size,\n",
    "    criterion=criterion,\n",
    "    max_epochs=max_epochs,\n",
    "    X_train=X_train,\n",
    "    y_train=y_train,\n",
    "    lr=lr,\n",
    "    tolerance=tolerance,\n",
    "    adversarial_strategy=None,\n",
    "    epsilon=epsilon\n",
    ")\n",
    "trained_models['None']=(model, losses)\n",
    "print('Final training loss for None model:', losses[-1][1]) # Record the loss after training the last epoch\n",
    "\n",
    "model = NN_Model()\n",
    "criterion = nn.CrossEntropyLoss()\n",
    "model, losses = train_torch_model_adversarial(\n",
    "    model=model,\n",
    "    batch_size=batch_size,\n",
    "    criterion=criterion,\n",
    "    max_epochs=max_epochs,\n",
    "    X_train=X_train,\n",
    "    y_train=y_train,\n",
    "    lr=lr,\n",
    "    tolerance=tolerance,\n",
    "    adversarial_strategy='fgsm',\n",
    "    epsilon=epsilon\n",
    ")\n",
    "trained_models['fgsm'] = (model, losses)\n",
    "print('Final training loss for fgsm model:', losses[-1][1])\n",
    "\n",
    "model = NN_Model()\n",
    "criterion = nn.CrossEntropyLoss()\n",
    "model, losses = train_torch_model_adversarial(\n",
    "    model=model,\n",
    "    batch_size=batch_size,\n",
    "    criterion=criterion,\n",
    "    max_epochs=max_epochs,\n",
    "    X_train=X_train,\n",
    "    y_train=y_train,\n",
    "    lr=lr,\n",
    "    tolerance=tolerance,\n",
    "    adversarial_strategy='pgd',\n",
    "    epsilon=epsilon\n",
    ")\n",
    "trained_models['pgd'] = (model, losses)\n",
    "print('Final training loss for pgd model:', losses[-1][1])\n",
    "\n",
    "#######"
   ]
  },
  {
   "cell_type": "markdown",
   "metadata": {
    "id": "ju_Ie0ouxiWD"
   },
   "source": [
    "#### #2. Measuring Standard Performance\n",
    "* Compute and print the accuracy of each of the three trained models on the clean test dataset.\n",
    "* You can implement a function similar to the `print_accuracies_torch` function from HW1-Q1 (but compute accuracy only for the test set)."
   ]
  },
  {
   "cell_type": "code",
   "execution_count": 8,
   "metadata": {
    "colab": {
     "base_uri": "https://localhost:8080/"
    },
    "execution": {
     "iopub.execute_input": "2022-05-13T03:24:56.568318Z",
     "iopub.status.busy": "2022-05-13T03:24:56.567590Z",
     "iopub.status.idle": "2022-05-13T03:24:57.880933Z",
     "shell.execute_reply": "2022-05-13T03:24:57.880188Z",
     "shell.execute_reply.started": "2022-05-13T03:24:56.568280Z"
    },
    "id": "gKvndMOogCkm",
    "outputId": "39042304-2e3d-477f-a12d-cbdac172b7dc"
   },
   "outputs": [
    {
     "name": "stdout",
     "output_type": "stream",
     "text": [
      "Accuracy of None model on clean test dataset: 0.8746\n",
      "Accuracy of fgsm model on clean test dataset: 0.6588\n",
      "Accuracy of pgd model on clean test dataset: 0.8334\n"
     ]
    }
   ],
   "source": [
    "#######\n",
    "from sklearn.metrics import accuracy_score\n",
    "\n",
    "#TODO:\n",
    "def get_accuracies_torch(model, X, y):\n",
    "    predictions_train = model(X)\n",
    "    y_train_pred = torch.argmax(predictions_train, dim=1).cpu().numpy()\n",
    "    y = y.cpu().numpy()\n",
    "    accuracy = accuracy_score(y_train_pred, np.asarray(y, dtype=np.float32))\n",
    "    return accuracy\n",
    "\n",
    "\n",
    "for key in trained_models:\n",
    "    model, _ = trained_models[key]\n",
    "    acc = get_accuracies_torch(model, X_test, y_test)\n",
    "    print('Accuracy of {} model on clean test dataset: {}'.format(key, acc))\n",
    "\n",
    "#######\n"
   ]
  },
  {
   "cell_type": "markdown",
   "metadata": {
    "id": "ubzMsNqt-cXF"
   },
   "source": [
    "#### #3. Measuring Adversarial Robustness\n",
    "\n",
    "* Using the same test dataset, perform adversarial attack to compute robust accuracy for each of the three models. Report the robust accuracy of each of the three models for both:\n",
    "  * FGSM attack\n",
    "  * PGD attack\n",
    "* Note: In total, you need to report 6 robust accuracies here (3 models * 2 attacks).\n",
    "* To create PGD attack examples, use `alpha=0.01`, `num_iter=40`."
   ]
  },
  {
   "cell_type": "code",
   "execution_count": 9,
   "metadata": {
    "colab": {
     "base_uri": "https://localhost:8080/"
    },
    "id": "4z3T3nvR_M0o",
    "outputId": "ea2ef6e5-3977-4b4b-f637-2f149c0c2064"
   },
   "outputs": [
    {
     "name": "stdout",
     "output_type": "stream",
     "text": [
      "Robust accuracy of None model on fgsm attack: 0.656499981880188\n",
      "Robust accuracy of None model on pgd attack: 0.7795000076293945\n",
      "Robust accuracy of fgsm model on fgsm attack: 0.5807999968528748\n",
      "Robust accuracy of fgsm model on pgd attack: 0.6125999689102173\n",
      "Robust accuracy of pgd model on fgsm attack: 0.7073999643325806\n",
      "Robust accuracy of pgd model on pgd attack: 0.7849000096321106\n"
     ]
    }
   ],
   "source": [
    "#######\n",
    "#TODO:\n",
    "for key in trained_models:\n",
    "    model, _ = trained_models[key]\n",
    "    model.eval()\n",
    "\n",
    "    # for fgsm\n",
    "    delta_fgsm = fgsm(model, X_test, y_test, epsilon=0.05)\n",
    "    X_adv_fgsm = torch.clamp(X_test + delta_fgsm, 0, 1)\n",
    "    preds_fgsm = torch.argmax(model(X_adv_fgsm), dim=1)\n",
    "    score = (preds_fgsm == y_test).float().mean().item()\n",
    "    print('Robust accuracy of {} model on fgsm attack: {}'.format(key, score))\n",
    "\n",
    "    # for pgd\n",
    "    delta_pgd = pgd(model, X_test, y_test, alpha=0.01, epsilon=0.05, num_iter=40)\n",
    "    X_adv_pgd = torch.clamp(X_test + delta_pgd, 0, 1)\n",
    "    preds_pgd = torch.argmax(model(X_adv_pgd), dim=1)\n",
    "    score = (preds_pgd == y_test).float().mean().item()\n",
    "    print('Robust accuracy of {} model on pgd attack: {}'.format(key, score))\n",
    "\n",
    "#######"
   ]
  },
  {
   "cell_type": "markdown",
   "metadata": {
    "id": "w9kDgnHkYFPq"
   },
   "source": [
    "### *(c) Evaluate the robust trained models at different epsilon (1.5 points)*\n",
    "\n",
    "* Report the robust accuracy of each of the three models (standard-trained, FGSM-trained and PGD-trained from **(b)**) using FGSM and PGD attacks at `epsilon = [0, 0.01, 0.02, ..., 0.09, 0.1]`.\n",
    "* Plot a (single) graph of robust accuracy vs. `epsilon` (i.e. six curves, since we have 3 models and 2 attacks)."
   ]
  },
  {
   "cell_type": "code",
   "execution_count": 10,
   "metadata": {
    "id": "lFrbzH0wYE71"
   },
   "outputs": [],
   "source": [
    "from re import X\n",
    "#######\n",
    "# TODO:\n",
    "\n",
    "eps_list = np.arange(0, 0.11, 0.01)\n",
    "\n",
    "std_model_fgsm = list()\n",
    "std_model_pgd = list()\n",
    "fgsm_model_fgsm = list()\n",
    "fgsm_model_pgd = list()\n",
    "pgd_model_fgsm = list()\n",
    "pgd_model_pgd = list()\n",
    "\n",
    "for eps in eps_list:\n",
    "    for key in trained_models:\n",
    "        model, _ = trained_models[key]\n",
    "        model.eval()\n",
    "\n",
    "        # FGSM Attack\n",
    "        delta_fgsm = fgsm(model, X_test, y_test, epsilon=eps)\n",
    "        X_fgsm = torch.clamp(X_test + delta_fgsm, 0, 1)\n",
    "        preds = torch.argmax(model(X_fgsm), dim=1)\n",
    "        acc = (preds == y_test).float().mean().item()\n",
    "\n",
    "        if key == 'None':\n",
    "            std_model_fgsm.append(acc)\n",
    "        elif key == 'fgsm':\n",
    "            fgsm_model_fgsm.append(acc)\n",
    "        elif key == 'pgd':\n",
    "            pgd_model_fgsm.append(acc)\n",
    "\n",
    "        # PGD Attack\n",
    "        delta_pgd = pgd(model, X_test, y_test, alpha=0.01, epsilon=eps, num_iter=40)\n",
    "        X_pgd = torch.clamp(X_test + delta_pgd, 0, 1)\n",
    "        preds = torch.argmax(model(X_pgd), dim=1)\n",
    "        acc = (preds == y_test).float().mean().item()\n",
    "\n",
    "        if key == 'None':\n",
    "            std_model_pgd.append(acc)\n",
    "        elif key == 'fgsm':\n",
    "            fgsm_model_pgd.append(acc)\n",
    "        elif key == 'pgd':\n",
    "            pgd_model_pgd.append(acc)\n",
    "\n",
    "#######"
   ]
  },
  {
   "cell_type": "code",
   "execution_count": 11,
   "metadata": {
    "colab": {
     "base_uri": "https://localhost:8080/",
     "height": 454
    },
    "id": "LRRs1QgZZlJD",
    "outputId": "3d509b66-85d8-41d8-b38e-bf5fd87bbff6"
   },
   "outputs": [
    {
     "data": {
      "image/png": "[encoded data removed]",
      "text/plain": [
       "<Figure size 640x480 with 1 Axes>"
      ]
     },
     "metadata": {},
     "output_type": "display_data"
    }
   ],
   "source": [
    "plt.plot(eps_list, std_model_fgsm, label='Std-trained FGSM acc.')\n",
    "plt.plot(eps_list, std_model_pgd, label='Std-trained PGD acc.')\n",
    "\n",
    "plt.plot(eps_list, fgsm_model_fgsm, label='FGSM-trained FGSM acc.')\n",
    "plt.plot(eps_list, fgsm_model_pgd, label='FGSM-trained PGD acc.')\n",
    "\n",
    "plt.plot(eps_list, pgd_model_fgsm, label='PGD-trained FGSM acc.')\n",
    "plt.plot(eps_list, pgd_model_pgd, label='PGD-trained PGD acc.')\n",
    "\n",
    "plt.xlabel('epsilon')\n",
    "plt.ylabel('robust acc.')\n",
    "plt.legend()\n",
    "plt.show()"
   ]
  },
  {
   "cell_type": "markdown",
   "metadata": {
    "id": "rgShzkVfYHB0"
   },
   "source": [
    "### *(d) Analysis of results (1.5 points)*\n",
    "\n",
    "Describe and analyze the observations from the graph that you plotted in the previous question **(c)**.\n",
    "\n",
    "**Overall Tendency**\n",
    "\n",
    "1. **Observation:** Across all model types, robust accuracy consistently decreases as epsilon increases from 0 to 0.1.\n",
    "   \n",
    "- Analysis: It is consistent with our knowledge that, the bigger the perturbation is, the harder for models to maintain accurate predictions.\n",
    "\n",
    "**Diffrent Robust Training Method**\n",
    "\n",
    "1. **Blue line and Orange line Observation:** The robust accuracy of the standard training model drop sharply when epsilon is bigger than 0.02.\n",
    "   \n",
    "- Analysis: The standard model has little robustness, and it will be easily attacked.\n",
    "\n",
    "\n",
    "2. **Green line and Red line Observation:**\n",
    "FGSM-trained model has lower standard performance compared to the Standard and PGD-trained models. It is robust when facing attack with small epsilon (accuracy slowly decrease), but has a relatively low robust accuracy when the epsilon is big (bigger than 0.08).\n",
    "    \n",
    "- Analysis: The poor initial performance may be due to insufficient training (e.g., only 20 epochs). With extended training (e.g., 40 epochs), the loss converges more effectively, leading to improved standard and robust accuracy. However, the robustness of FGSM-trained models does not generalize well to stronger attacks or larger perturbations, suggesting limited scalability of this method.\n",
    "\n",
    "3. **Purple line and Brown line Observation:** PGD-trained model is the most robust when facing PGD attack (Brown line); and it is also robust when facing FGSM attack (Purple line), although the robust accuracy declines sightly faster under FGSM attack.\n",
    "   \n",
    "- Analysis: PGD-trained model learns stable features through pgd_attacked_dataset, thus yielding the strongest robustness among three models. And this method is effective at teaching the model to generalize against different perturbation patterns compared to FGSM-trained method.\n",
    "\n"
   ]
  },
  {
   "cell_type": "markdown",
   "metadata": {
    "id": "J0_L-VhvuMVq"
   },
   "source": [
    "\n",
    "\n",
    "---\n",
    "\n",
    "\n",
    "\n",
    "---\n",
    "\n"
   ]
  }
 ],
 "metadata": {
  "accelerator": "GPU",
  "colab": {
   "gpuType": "T4",
   "provenance": []
  },
  "kernelspec": {
   "display_name": "Python 3 (ipykernel)",
   "language": "python",
   "name": "python3"
  },
  "language_info": {
   "codemirror_mode": {
    "name": "ipython",
    "version": 3
   },
   "file_extension": ".py",
   "mimetype": "text/x-python",
   "name": "python",
   "nbconvert_exporter": "python",
   "pygments_lexer": "ipython3",
   "version": "3.11.5"
  },
  "widgets": {
   "application/vnd.jupyter.widget-state+json": {
    "0e71d54cbea441dcadf9c9e09bf5b758": {
     "model_module": "@jupyter-widgets/controls",
     "model_module_version": "1.5.0",
     "model_name": "DescriptionStyleModel",
     "state": {
      "_model_module": "@jupyter-widgets/controls",
      "_model_module_version": "1.5.0",
      "_model_name": "DescriptionStyleModel",
      "_view_count": null,
      "_view_module": "@jupyter-widgets/base",
      "_view_module_version": "1.2.0",
      "_view_name": "StyleView",
      "description_width": ""
     }
    },
    "0ffb396a2b904aaa8f849ba95277d4ec": {
     "model_module": "@jupyter-widgets/controls",
     "model_module_version": "1.5.0",
     "model_name": "HBoxModel",
     "state": {
      "_dom_classes": [],
      "_model_module": "@jupyter-widgets/controls",
      "_model_module_version": "1.5.0",
      "_model_name": "HBoxModel",
      "_view_count": null,
      "_view_module": "@jupyter-widgets/controls",
      "_view_module_version": "1.5.0",
      "_view_name": "HBoxView",
      "box_style": "",
      "children": [
       "IPY_MODEL_fd71f4a2059247df9bdf79fad299fa4b",
       "IPY_MODEL_a22b87428af34c17bf9f231ddd65d9b0",
       "IPY_MODEL_e2002cddea974c6ea6fd81dbd5b6f22b"
      ],
      "layout": "IPY_MODEL_1c002083f2c846b28718b9c16869c7d3"
     }
    },
    "182de9d356c34552b58e75f64bc75092": {
     "model_module": "@jupyter-widgets/controls",
     "model_module_version": "1.5.0",
     "model_name": "ProgressStyleModel",
     "state": {
      "_model_module": "@jupyter-widgets/controls",
      "_model_module_version": "1.5.0",
      "_model_name": "ProgressStyleModel",
      "_view_count": null,
      "_view_module": "@jupyter-widgets/base",
      "_view_module_version": "1.2.0",
      "_view_name": "StyleView",
      "bar_color": null,
      "description_width": ""
     }
    },
    "1c002083f2c846b28718b9c16869c7d3": {
     "model_module": "@jupyter-widgets/base",
     "model_module_version": "1.2.0",
     "model_name": "LayoutModel",
     "state": {
      "_model_module": "@jupyter-widgets/base",
      "_model_module_version": "1.2.0",
      "_model_name": "LayoutModel",
      "_view_count": null,
      "_view_module": "@jupyter-widgets/base",
      "_view_module_version": "1.2.0",
      "_view_name": "LayoutView",
      "align_content": null,
      "align_items": null,
      "align_self": null,
      "border": null,
      "bottom": null,
      "display": null,
      "flex": null,
      "flex_flow": null,
      "grid_area": null,
      "grid_auto_columns": null,
      "grid_auto_flow": null,
      "grid_auto_rows": null,
      "grid_column": null,
      "grid_gap": null,
      "grid_row": null,
      "grid_template_areas": null,
      "grid_template_columns": null,
      "grid_template_rows": null,
      "height": null,
      "justify_content": null,
      "justify_items": null,
      "left": null,
      "margin": null,
      "max_height": null,
      "max_width": null,
      "min_height": null,
      "min_width": null,
      "object_fit": null,
      "object_position": null,
      "order": null,
      "overflow": null,
      "overflow_x": null,
      "overflow_y": null,
      "padding": null,
      "right": null,
      "top": null,
      "visibility": null,
      "width": null
     }
    },
    "1dfab75fa2ba43d0bb5e5899fa3518c5": {
     "model_module": "@jupyter-widgets/base",
     "model_module_version": "1.2.0",
     "model_name": "LayoutModel",
     "state": {
      "_model_module": "@jupyter-widgets/base",
      "_model_module_version": "1.2.0",
      "_model_name": "LayoutModel",
      "_view_count": null,
      "_view_module": "@jupyter-widgets/base",
      "_view_module_version": "1.2.0",
      "_view_name": "LayoutView",
      "align_content": null,
      "align_items": null,
      "align_self": null,
      "border": null,
      "bottom": null,
      "display": null,
      "flex": null,
      "flex_flow": null,
      "grid_area": null,
      "grid_auto_columns": null,
      "grid_auto_flow": null,
      "grid_auto_rows": null,
      "grid_column": null,
      "grid_gap": null,
      "grid_row": null,
      "grid_template_areas": null,
      "grid_template_columns": null,
      "grid_template_rows": null,
      "height": null,
      "justify_content": null,
      "justify_items": null,
      "left": null,
      "margin": null,
      "max_height": null,
      "max_width": null,
      "min_height": null,
      "min_width": null,
      "object_fit": null,
      "object_position": null,
      "order": null,
      "overflow": null,
      "overflow_x": null,
      "overflow_y": null,
      "padding": null,
      "right": null,
      "top": null,
      "visibility": null,
      "width": null
     }
    },
    "21f8e2ed46c14531ba26294120dbf8e2": {
     "model_module": "@jupyter-widgets/base",
     "model_module_version": "1.2.0",
     "model_name": "LayoutModel",
     "state": {
      "_model_module": "@jupyter-widgets/base",
      "_model_module_version": "1.2.0",
      "_model_name": "LayoutModel",
      "_view_count": null,
      "_view_module": "@jupyter-widgets/base",
      "_view_module_version": "1.2.0",
      "_view_name": "LayoutView",
      "align_content": null,
      "align_items": null,
      "align_self": null,
      "border": null,
      "bottom": null,
      "display": null,
      "flex": null,
      "flex_flow": null,
      "grid_area": null,
      "grid_auto_columns": null,
      "grid_auto_flow": null,
      "grid_auto_rows": null,
      "grid_column": null,
      "grid_gap": null,
      "grid_row": null,
      "grid_template_areas": null,
      "grid_template_columns": null,
      "grid_template_rows": null,
      "height": null,
      "justify_content": null,
      "justify_items": null,
      "left": null,
      "margin": null,
      "max_height": null,
      "max_width": null,
      "min_height": null,
      "min_width": null,
      "object_fit": null,
      "object_position": null,
      "order": null,
      "overflow": null,
      "overflow_x": null,
      "overflow_y": null,
      "padding": null,
      "right": null,
      "top": null,
      "visibility": null,
      "width": null
     }
    },
    "2440ea42c54344f3b5897ef96b1d7e3b": {
     "model_module": "@jupyter-widgets/controls",
     "model_module_version": "1.5.0",
     "model_name": "HTMLModel",
     "state": {
      "_dom_classes": [],
      "_model_module": "@jupyter-widgets/controls",
      "_model_module_version": "1.5.0",
      "_model_name": "HTMLModel",
      "_view_count": null,
      "_view_module": "@jupyter-widgets/controls",
      "_view_module_version": "1.5.0",
      "_view_name": "HTMLView",
      "description": "",
      "description_tooltip": null,
      "layout": "IPY_MODEL_1dfab75fa2ba43d0bb5e5899fa3518c5",
      "placeholder": "​",
      "style": "IPY_MODEL_7c7899fe8dbd4464b4a2769bb81d7ad3",
      "value": "100%"
     }
    },
    "2e1db771aa9e479c9b837f86a998006c": {
     "model_module": "@jupyter-widgets/base",
     "model_module_version": "1.2.0",
     "model_name": "LayoutModel",
     "state": {
      "_model_module": "@jupyter-widgets/base",
      "_model_module_version": "1.2.0",
      "_model_name": "LayoutModel",
      "_view_count": null,
      "_view_module": "@jupyter-widgets/base",
      "_view_module_version": "1.2.0",
      "_view_name": "LayoutView",
      "align_content": null,
      "align_items": null,
      "align_self": null,
      "border": null,
      "bottom": null,
      "display": null,
      "flex": null,
      "flex_flow": null,
      "grid_area": null,
      "grid_auto_columns": null,
      "grid_auto_flow": null,
      "grid_auto_rows": null,
      "grid_column": null,
      "grid_gap": null,
      "grid_row": null,
      "grid_template_areas": null,
      "grid_template_columns": null,
      "grid_template_rows": null,
      "height": null,
      "justify_content": null,
      "justify_items": null,
      "left": null,
      "margin": null,
      "max_height": null,
      "max_width": null,
      "min_height": null,
      "min_width": null,
      "object_fit": null,
      "object_position": null,
      "order": null,
      "overflow": null,
      "overflow_x": null,
      "overflow_y": null,
      "padding": null,
      "right": null,
      "top": null,
      "visibility": null,
      "width": null
     }
    },
    "2f418692fd8f4e0185f6586b085a887c": {
     "model_module": "@jupyter-widgets/controls",
     "model_module_version": "1.5.0",
     "model_name": "ProgressStyleModel",
     "state": {
      "_model_module": "@jupyter-widgets/controls",
      "_model_module_version": "1.5.0",
      "_model_name": "ProgressStyleModel",
      "_view_count": null,
      "_view_module": "@jupyter-widgets/base",
      "_view_module_version": "1.2.0",
      "_view_name": "StyleView",
      "bar_color": null,
      "description_width": ""
     }
    },
    "2fc661b9d65841658a6d7c47b9df4905": {
     "model_module": "@jupyter-widgets/base",
     "model_module_version": "1.2.0",
     "model_name": "LayoutModel",
     "state": {
      "_model_module": "@jupyter-widgets/base",
      "_model_module_version": "1.2.0",
      "_model_name": "LayoutModel",
      "_view_count": null,
      "_view_module": "@jupyter-widgets/base",
      "_view_module_version": "1.2.0",
      "_view_name": "LayoutView",
      "align_content": null,
      "align_items": null,
      "align_self": null,
      "border": null,
      "bottom": null,
      "display": null,
      "flex": null,
      "flex_flow": null,
      "grid_area": null,
      "grid_auto_columns": null,
      "grid_auto_flow": null,
      "grid_auto_rows": null,
      "grid_column": null,
      "grid_gap": null,
      "grid_row": null,
      "grid_template_areas": null,
      "grid_template_columns": null,
      "grid_template_rows": null,
      "height": null,
      "justify_content": null,
      "justify_items": null,
      "left": null,
      "margin": null,
      "max_height": null,
      "max_width": null,
      "min_height": null,
      "min_width": null,
      "object_fit": null,
      "object_position": null,
      "order": null,
      "overflow": null,
      "overflow_x": null,
      "overflow_y": null,
      "padding": null,
      "right": null,
      "top": null,
      "visibility": null,
      "width": null
     }
    },
    "33900d1baa6e46a797998220d5033c1a": {
     "model_module": "@jupyter-widgets/base",
     "model_module_version": "1.2.0",
     "model_name": "LayoutModel",
     "state": {
      "_model_module": "@jupyter-widgets/base",
      "_model_module_version": "1.2.0",
      "_model_name": "LayoutModel",
      "_view_count": null,
      "_view_module": "@jupyter-widgets/base",
      "_view_module_version": "1.2.0",
      "_view_name": "LayoutView",
      "align_content": null,
      "align_items": null,
      "align_self": null,
      "border": null,
      "bottom": null,
      "display": null,
      "flex": null,
      "flex_flow": null,
      "grid_area": null,
      "grid_auto_columns": null,
      "grid_auto_flow": null,
      "grid_auto_rows": null,
      "grid_column": null,
      "grid_gap": null,
      "grid_row": null,
      "grid_template_areas": null,
      "grid_template_columns": null,
      "grid_template_rows": null,
      "height": null,
      "justify_content": null,
      "justify_items": null,
      "left": null,
      "margin": null,
      "max_height": null,
      "max_width": null,
      "min_height": null,
      "min_width": null,
      "object_fit": null,
      "object_position": null,
      "order": null,
      "overflow": null,
      "overflow_x": null,
      "overflow_y": null,
      "padding": null,
      "right": null,
      "top": null,
      "visibility": null,
      "width": null
     }
    },
    "3b0801921d3247b28db79acadc031332": {
     "model_module": "@jupyter-widgets/base",
     "model_module_version": "1.2.0",
     "model_name": "LayoutModel",
     "state": {
      "_model_module": "@jupyter-widgets/base",
      "_model_module_version": "1.2.0",
      "_model_name": "LayoutModel",
      "_view_count": null,
      "_view_module": "@jupyter-widgets/base",
      "_view_module_version": "1.2.0",
      "_view_name": "LayoutView",
      "align_content": null,
      "align_items": null,
      "align_self": null,
      "border": null,
      "bottom": null,
      "display": null,
      "flex": null,
      "flex_flow": null,
      "grid_area": null,
      "grid_auto_columns": null,
      "grid_auto_flow": null,
      "grid_auto_rows": null,
      "grid_column": null,
      "grid_gap": null,
      "grid_row": null,
      "grid_template_areas": null,
      "grid_template_columns": null,
      "grid_template_rows": null,
      "height": null,
      "justify_content": null,
      "justify_items": null,
      "left": null,
      "margin": null,
      "max_height": null,
      "max_width": null,
      "min_height": null,
      "min_width": null,
      "object_fit": null,
      "object_position": null,
      "order": null,
      "overflow": null,
      "overflow_x": null,
      "overflow_y": null,
      "padding": null,
      "right": null,
      "top": null,
      "visibility": null,
      "width": null
     }
    },
    "3bf6bf29d7824ef99b47a0185512572b": {
     "model_module": "@jupyter-widgets/controls",
     "model_module_version": "1.5.0",
     "model_name": "HTMLModel",
     "state": {
      "_dom_classes": [],
      "_model_module": "@jupyter-widgets/controls",
      "_model_module_version": "1.5.0",
      "_model_name": "HTMLModel",
      "_view_count": null,
      "_view_module": "@jupyter-widgets/controls",
      "_view_module_version": "1.5.0",
      "_view_name": "HTMLView",
      "description": "",
      "description_tooltip": null,
      "layout": "IPY_MODEL_2e1db771aa9e479c9b837f86a998006c",
      "placeholder": "​",
      "style": "IPY_MODEL_0e71d54cbea441dcadf9c9e09bf5b758",
      "value": " 20/20 [02:00&lt;00:00,  6.57s/it]"
     }
    },
    "3cd91d7099af4e3ab0651629bf1bdc81": {
     "model_module": "@jupyter-widgets/base",
     "model_module_version": "1.2.0",
     "model_name": "LayoutModel",
     "state": {
      "_model_module": "@jupyter-widgets/base",
      "_model_module_version": "1.2.0",
      "_model_name": "LayoutModel",
      "_view_count": null,
      "_view_module": "@jupyter-widgets/base",
      "_view_module_version": "1.2.0",
      "_view_name": "LayoutView",
      "align_content": null,
      "align_items": null,
      "align_self": null,
      "border": null,
      "bottom": null,
      "display": null,
      "flex": null,
      "flex_flow": null,
      "grid_area": null,
      "grid_auto_columns": null,
      "grid_auto_flow": null,
      "grid_auto_rows": null,
      "grid_column": null,
      "grid_gap": null,
      "grid_row": null,
      "grid_template_areas": null,
      "grid_template_columns": null,
      "grid_template_rows": null,
      "height": null,
      "justify_content": null,
      "justify_items": null,
      "left": null,
      "margin": null,
      "max_height": null,
      "max_width": null,
      "min_height": null,
      "min_width": null,
      "object_fit": null,
      "object_position": null,
      "order": null,
      "overflow": null,
      "overflow_x": null,
      "overflow_y": null,
      "padding": null,
      "right": null,
      "top": null,
      "visibility": null,
      "width": null
     }
    },
    "43587677dae24df988e4d7ced9621fdb": {
     "model_module": "@jupyter-widgets/controls",
     "model_module_version": "1.5.0",
     "model_name": "DescriptionStyleModel",
     "state": {
      "_model_module": "@jupyter-widgets/controls",
      "_model_module_version": "1.5.0",
      "_model_name": "DescriptionStyleModel",
      "_view_count": null,
      "_view_module": "@jupyter-widgets/base",
      "_view_module_version": "1.2.0",
      "_view_name": "StyleView",
      "description_width": ""
     }
    },
    "44dc95010cfd4be2ad795949c88123ac": {
     "model_module": "@jupyter-widgets/controls",
     "model_module_version": "1.5.0",
     "model_name": "ProgressStyleModel",
     "state": {
      "_model_module": "@jupyter-widgets/controls",
      "_model_module_version": "1.5.0",
      "_model_name": "ProgressStyleModel",
      "_view_count": null,
      "_view_module": "@jupyter-widgets/base",
      "_view_module_version": "1.2.0",
      "_view_name": "StyleView",
      "bar_color": null,
      "description_width": ""
     }
    },
    "4b95127250cf4213a875da73020257d9": {
     "model_module": "@jupyter-widgets/controls",
     "model_module_version": "1.5.0",
     "model_name": "DescriptionStyleModel",
     "state": {
      "_model_module": "@jupyter-widgets/controls",
      "_model_module_version": "1.5.0",
      "_model_name": "DescriptionStyleModel",
      "_view_count": null,
      "_view_module": "@jupyter-widgets/base",
      "_view_module_version": "1.2.0",
      "_view_name": "StyleView",
      "description_width": ""
     }
    },
    "4ca9cb6eb1624584a7c67bba52f775a4": {
     "model_module": "@jupyter-widgets/controls",
     "model_module_version": "1.5.0",
     "model_name": "DescriptionStyleModel",
     "state": {
      "_model_module": "@jupyter-widgets/controls",
      "_model_module_version": "1.5.0",
      "_model_name": "DescriptionStyleModel",
      "_view_count": null,
      "_view_module": "@jupyter-widgets/base",
      "_view_module_version": "1.2.0",
      "_view_name": "StyleView",
      "description_width": ""
     }
    },
    "5bc1c8cbc6d84b05988d52319ce78fe0": {
     "model_module": "@jupyter-widgets/base",
     "model_module_version": "1.2.0",
     "model_name": "LayoutModel",
     "state": {
      "_model_module": "@jupyter-widgets/base",
      "_model_module_version": "1.2.0",
      "_model_name": "LayoutModel",
      "_view_count": null,
      "_view_module": "@jupyter-widgets/base",
      "_view_module_version": "1.2.0",
      "_view_name": "LayoutView",
      "align_content": null,
      "align_items": null,
      "align_self": null,
      "border": null,
      "bottom": null,
      "display": null,
      "flex": null,
      "flex_flow": null,
      "grid_area": null,
      "grid_auto_columns": null,
      "grid_auto_flow": null,
      "grid_auto_rows": null,
      "grid_column": null,
      "grid_gap": null,
      "grid_row": null,
      "grid_template_areas": null,
      "grid_template_columns": null,
      "grid_template_rows": null,
      "height": null,
      "justify_content": null,
      "justify_items": null,
      "left": null,
      "margin": null,
      "max_height": null,
      "max_width": null,
      "min_height": null,
      "min_width": null,
      "object_fit": null,
      "object_position": null,
      "order": null,
      "overflow": null,
      "overflow_x": null,
      "overflow_y": null,
      "padding": null,
      "right": null,
      "top": null,
      "visibility": null,
      "width": null
     }
    },
    "662c975f8fb04a14be85e5547399d775": {
     "model_module": "@jupyter-widgets/controls",
     "model_module_version": "1.5.0",
     "model_name": "HBoxModel",
     "state": {
      "_dom_classes": [],
      "_model_module": "@jupyter-widgets/controls",
      "_model_module_version": "1.5.0",
      "_model_name": "HBoxModel",
      "_view_count": null,
      "_view_module": "@jupyter-widgets/controls",
      "_view_module_version": "1.5.0",
      "_view_name": "HBoxView",
      "box_style": "",
      "children": [
       "IPY_MODEL_fbc32b6318cb4d14a5510acc2bb87ca4",
       "IPY_MODEL_f4bceedf54e143bc900876af56eb8169",
       "IPY_MODEL_bff3ec84f5ea4e39a1c1e52b776b2f3f"
      ],
      "layout": "IPY_MODEL_5bc1c8cbc6d84b05988d52319ce78fe0"
     }
    },
    "665f961a77ee4df2a395caf9362e271d": {
     "model_module": "@jupyter-widgets/controls",
     "model_module_version": "1.5.0",
     "model_name": "FloatProgressModel",
     "state": {
      "_dom_classes": [],
      "_model_module": "@jupyter-widgets/controls",
      "_model_module_version": "1.5.0",
      "_model_name": "FloatProgressModel",
      "_view_count": null,
      "_view_module": "@jupyter-widgets/controls",
      "_view_module_version": "1.5.0",
      "_view_name": "ProgressView",
      "bar_style": "success",
      "description": "",
      "description_tooltip": null,
      "layout": "IPY_MODEL_2fc661b9d65841658a6d7c47b9df4905",
      "max": 20,
      "min": 0,
      "orientation": "horizontal",
      "style": "IPY_MODEL_44dc95010cfd4be2ad795949c88123ac",
      "value": 20
     }
    },
    "6ff731859a7149af9879e80b86ebf156": {
     "model_module": "@jupyter-widgets/base",
     "model_module_version": "1.2.0",
     "model_name": "LayoutModel",
     "state": {
      "_model_module": "@jupyter-widgets/base",
      "_model_module_version": "1.2.0",
      "_model_name": "LayoutModel",
      "_view_count": null,
      "_view_module": "@jupyter-widgets/base",
      "_view_module_version": "1.2.0",
      "_view_name": "LayoutView",
      "align_content": null,
      "align_items": null,
      "align_self": null,
      "border": null,
      "bottom": null,
      "display": null,
      "flex": null,
      "flex_flow": null,
      "grid_area": null,
      "grid_auto_columns": null,
      "grid_auto_flow": null,
      "grid_auto_rows": null,
      "grid_column": null,
      "grid_gap": null,
      "grid_row": null,
      "grid_template_areas": null,
      "grid_template_columns": null,
      "grid_template_rows": null,
      "height": null,
      "justify_content": null,
      "justify_items": null,
      "left": null,
      "margin": null,
      "max_height": null,
      "max_width": null,
      "min_height": null,
      "min_width": null,
      "object_fit": null,
      "object_position": null,
      "order": null,
      "overflow": null,
      "overflow_x": null,
      "overflow_y": null,
      "padding": null,
      "right": null,
      "top": null,
      "visibility": null,
      "width": null
     }
    },
    "7c7899fe8dbd4464b4a2769bb81d7ad3": {
     "model_module": "@jupyter-widgets/controls",
     "model_module_version": "1.5.0",
     "model_name": "DescriptionStyleModel",
     "state": {
      "_model_module": "@jupyter-widgets/controls",
      "_model_module_version": "1.5.0",
      "_model_name": "DescriptionStyleModel",
      "_view_count": null,
      "_view_module": "@jupyter-widgets/base",
      "_view_module_version": "1.2.0",
      "_view_name": "StyleView",
      "description_width": ""
     }
    },
    "90a2a0ee12cc43bca917d786225fda29": {
     "model_module": "@jupyter-widgets/base",
     "model_module_version": "1.2.0",
     "model_name": "LayoutModel",
     "state": {
      "_model_module": "@jupyter-widgets/base",
      "_model_module_version": "1.2.0",
      "_model_name": "LayoutModel",
      "_view_count": null,
      "_view_module": "@jupyter-widgets/base",
      "_view_module_version": "1.2.0",
      "_view_name": "LayoutView",
      "align_content": null,
      "align_items": null,
      "align_self": null,
      "border": null,
      "bottom": null,
      "display": null,
      "flex": null,
      "flex_flow": null,
      "grid_area": null,
      "grid_auto_columns": null,
      "grid_auto_flow": null,
      "grid_auto_rows": null,
      "grid_column": null,
      "grid_gap": null,
      "grid_row": null,
      "grid_template_areas": null,
      "grid_template_columns": null,
      "grid_template_rows": null,
      "height": null,
      "justify_content": null,
      "justify_items": null,
      "left": null,
      "margin": null,
      "max_height": null,
      "max_width": null,
      "min_height": null,
      "min_width": null,
      "object_fit": null,
      "object_position": null,
      "order": null,
      "overflow": null,
      "overflow_x": null,
      "overflow_y": null,
      "padding": null,
      "right": null,
      "top": null,
      "visibility": null,
      "width": null
     }
    },
    "9229a1895ada4d90bdabf55e142569c3": {
     "model_module": "@jupyter-widgets/controls",
     "model_module_version": "1.5.0",
     "model_name": "DescriptionStyleModel",
     "state": {
      "_model_module": "@jupyter-widgets/controls",
      "_model_module_version": "1.5.0",
      "_model_name": "DescriptionStyleModel",
      "_view_count": null,
      "_view_module": "@jupyter-widgets/base",
      "_view_module_version": "1.2.0",
      "_view_name": "StyleView",
      "description_width": ""
     }
    },
    "a22b87428af34c17bf9f231ddd65d9b0": {
     "model_module": "@jupyter-widgets/controls",
     "model_module_version": "1.5.0",
     "model_name": "FloatProgressModel",
     "state": {
      "_dom_classes": [],
      "_model_module": "@jupyter-widgets/controls",
      "_model_module_version": "1.5.0",
      "_model_name": "FloatProgressModel",
      "_view_count": null,
      "_view_module": "@jupyter-widgets/controls",
      "_view_module_version": "1.5.0",
      "_view_name": "ProgressView",
      "bar_style": "success",
      "description": "",
      "description_tooltip": null,
      "layout": "IPY_MODEL_6ff731859a7149af9879e80b86ebf156",
      "max": 20,
      "min": 0,
      "orientation": "horizontal",
      "style": "IPY_MODEL_2f418692fd8f4e0185f6586b085a887c",
      "value": 20
     }
    },
    "aba60db5ad8e4733babff3a117fedf3f": {
     "model_module": "@jupyter-widgets/base",
     "model_module_version": "1.2.0",
     "model_name": "LayoutModel",
     "state": {
      "_model_module": "@jupyter-widgets/base",
      "_model_module_version": "1.2.0",
      "_model_name": "LayoutModel",
      "_view_count": null,
      "_view_module": "@jupyter-widgets/base",
      "_view_module_version": "1.2.0",
      "_view_name": "LayoutView",
      "align_content": null,
      "align_items": null,
      "align_self": null,
      "border": null,
      "bottom": null,
      "display": null,
      "flex": null,
      "flex_flow": null,
      "grid_area": null,
      "grid_auto_columns": null,
      "grid_auto_flow": null,
      "grid_auto_rows": null,
      "grid_column": null,
      "grid_gap": null,
      "grid_row": null,
      "grid_template_areas": null,
      "grid_template_columns": null,
      "grid_template_rows": null,
      "height": null,
      "justify_content": null,
      "justify_items": null,
      "left": null,
      "margin": null,
      "max_height": null,
      "max_width": null,
      "min_height": null,
      "min_width": null,
      "object_fit": null,
      "object_position": null,
      "order": null,
      "overflow": null,
      "overflow_x": null,
      "overflow_y": null,
      "padding": null,
      "right": null,
      "top": null,
      "visibility": null,
      "width": null
     }
    },
    "bff3ec84f5ea4e39a1c1e52b776b2f3f": {
     "model_module": "@jupyter-widgets/controls",
     "model_module_version": "1.5.0",
     "model_name": "HTMLModel",
     "state": {
      "_dom_classes": [],
      "_model_module": "@jupyter-widgets/controls",
      "_model_module_version": "1.5.0",
      "_model_name": "HTMLModel",
      "_view_count": null,
      "_view_module": "@jupyter-widgets/controls",
      "_view_module_version": "1.5.0",
      "_view_name": "HTMLView",
      "description": "",
      "description_tooltip": null,
      "layout": "IPY_MODEL_aba60db5ad8e4733babff3a117fedf3f",
      "placeholder": "​",
      "style": "IPY_MODEL_43587677dae24df988e4d7ced9621fdb",
      "value": " 20/20 [00:05&lt;00:00,  2.79it/s]"
     }
    },
    "c656c754aab740b58c871c4fc6e9a668": {
     "model_module": "@jupyter-widgets/controls",
     "model_module_version": "1.5.0",
     "model_name": "HBoxModel",
     "state": {
      "_dom_classes": [],
      "_model_module": "@jupyter-widgets/controls",
      "_model_module_version": "1.5.0",
      "_model_name": "HBoxModel",
      "_view_count": null,
      "_view_module": "@jupyter-widgets/controls",
      "_view_module_version": "1.5.0",
      "_view_name": "HBoxView",
      "box_style": "",
      "children": [
       "IPY_MODEL_2440ea42c54344f3b5897ef96b1d7e3b",
       "IPY_MODEL_665f961a77ee4df2a395caf9362e271d",
       "IPY_MODEL_3bf6bf29d7824ef99b47a0185512572b"
      ],
      "layout": "IPY_MODEL_33900d1baa6e46a797998220d5033c1a"
     }
    },
    "e2002cddea974c6ea6fd81dbd5b6f22b": {
     "model_module": "@jupyter-widgets/controls",
     "model_module_version": "1.5.0",
     "model_name": "HTMLModel",
     "state": {
      "_dom_classes": [],
      "_model_module": "@jupyter-widgets/controls",
      "_model_module_version": "1.5.0",
      "_model_name": "HTMLModel",
      "_view_count": null,
      "_view_module": "@jupyter-widgets/controls",
      "_view_module_version": "1.5.0",
      "_view_name": "HTMLView",
      "description": "",
      "description_tooltip": null,
      "layout": "IPY_MODEL_21f8e2ed46c14531ba26294120dbf8e2",
      "placeholder": "​",
      "style": "IPY_MODEL_9229a1895ada4d90bdabf55e142569c3",
      "value": " 20/20 [00:10&lt;00:00,  2.44it/s]"
     }
    },
    "f4bceedf54e143bc900876af56eb8169": {
     "model_module": "@jupyter-widgets/controls",
     "model_module_version": "1.5.0",
     "model_name": "FloatProgressModel",
     "state": {
      "_dom_classes": [],
      "_model_module": "@jupyter-widgets/controls",
      "_model_module_version": "1.5.0",
      "_model_name": "FloatProgressModel",
      "_view_count": null,
      "_view_module": "@jupyter-widgets/controls",
      "_view_module_version": "1.5.0",
      "_view_name": "ProgressView",
      "bar_style": "success",
      "description": "",
      "description_tooltip": null,
      "layout": "IPY_MODEL_90a2a0ee12cc43bca917d786225fda29",
      "max": 20,
      "min": 0,
      "orientation": "horizontal",
      "style": "IPY_MODEL_182de9d356c34552b58e75f64bc75092",
      "value": 20
     }
    },
    "fbc32b6318cb4d14a5510acc2bb87ca4": {
     "model_module": "@jupyter-widgets/controls",
     "model_module_version": "1.5.0",
     "model_name": "HTMLModel",
     "state": {
      "_dom_classes": [],
      "_model_module": "@jupyter-widgets/controls",
      "_model_module_version": "1.5.0",
      "_model_name": "HTMLModel",
      "_view_count": null,
      "_view_module": "@jupyter-widgets/controls",
      "_view_module_version": "1.5.0",
      "_view_name": "HTMLView",
      "description": "",
      "description_tooltip": null,
      "layout": "IPY_MODEL_3cd91d7099af4e3ab0651629bf1bdc81",
      "placeholder": "​",
      "style": "IPY_MODEL_4ca9cb6eb1624584a7c67bba52f775a4",
      "value": "100%"
     }
    },
    "fd71f4a2059247df9bdf79fad299fa4b": {
     "model_module": "@jupyter-widgets/controls",
     "model_module_version": "1.5.0",
     "model_name": "HTMLModel",
     "state": {
      "_dom_classes": [],
      "_model_module": "@jupyter-widgets/controls",
      "_model_module_version": "1.5.0",
      "_model_name": "HTMLModel",
      "_view_count": null,
      "_view_module": "@jupyter-widgets/controls",
      "_view_module_version": "1.5.0",
      "_view_name": "HTMLView",
      "description": "",
      "description_tooltip": null,
      "layout": "IPY_MODEL_3b0801921d3247b28db79acadc031332",
      "placeholder": "​",
      "style": "IPY_MODEL_4b95127250cf4213a875da73020257d9",
      "value": "100%"
     }
    }
   }
  }
 },
 "nbformat": 4,
 "nbformat_minor": 4
}
