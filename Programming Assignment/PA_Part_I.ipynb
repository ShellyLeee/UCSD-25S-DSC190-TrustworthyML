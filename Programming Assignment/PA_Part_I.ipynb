{
 "cells": [
  {
   "cell_type": "markdown",
   "metadata": {
    "id": "hjRM13EAuL3g"
   },
   "source": [
    "# ***PA - Part I: Basic Vision Models [Experiments with MNIST]*** (55pt)\n",
    "\n",
    "**Keywords**: Multiclass Image Classification, Neural Networks, PyTorch\n",
    "\n",
    "**MNIST**\n",
    "* The [MNIST](https://en.wikipedia.org/wiki/MNIST_database) database (Modified National Institute of Standards and Technology database) is a large database of handwritten digits that is commonly used for training various image processing systems.\n",
    "* The MNIST database contains 70,000 labeled images. Each datapoint is a $28\\times 28$ pixels grayscale image.\n",
    "* However to speed up computations, we will use a much smaller dataset with size $8\\times 8$ images. These images are loaded from `sklearn.datasets`.\n",
    "\n",
    "**Agenda**:\n",
    "* The PA is split into three parts, the first part dealing with miniature models which we will build from scratch, the second part dealing with modern architectures and the bonus third part dealing with training vision models robust to adversarial attacks.\n",
    "* In this part, we will be performing multiclass classification on the simplified MNIST dataset from scratch.\n",
    "* We will be applying and analysing different loss functions, optimization techniques and learning methods.\n",
    "\n",
    "* We will be using PyTorch to do most of the heavylifting for modeling and training.\n",
    "\n",
    "**Note:**\n",
    "* Hardware acceleration (GPU) is recommended but not required for this part.\n",
    "* A note on working with GPU:\n",
    "  * Take care that whenever declaring new tensors, set `device=device` in parameters.\n",
    "  * You can also move a declared torch tensor/model to device using `.to(device)`.\n",
    "  * To move a torch model/tensor to cpu, use `.to('cpu')`\n",
    "  * Keep in mind that all the tensors/model involved in a computation have to be on the same device (CPU/GPU).\n",
    "* Run all the cells in order.\n",
    "* Only **add your code** to cells marked with \"TODO:\" or with \"...\"\n",
    "* You should not have to change variable names where provided, but you are free to if required for your implementation."
   ]
  },
  {
   "cell_type": "markdown",
   "metadata": {
    "id": "ZUJgYttwjmpK"
   },
   "source": [
    "\n",
    "\n",
    "---\n",
    "\n"
   ]
  },
  {
   "cell_type": "markdown",
   "metadata": {
    "id": "VSpZjZUd9iF4"
   },
   "source": [
    "### ***Setup: Imports and Utils***"
   ]
  },
  {
   "cell_type": "code",
   "execution_count": 86,
   "metadata": {
    "colab": {
     "base_uri": "https://localhost:8080/"
    },
    "id": "qNtGmOhl1I_m",
    "outputId": "f78411ab-6abb-441e-8bca-487d9f306bc2"
   },
   "outputs": [
    {
     "name": "stdout",
     "output_type": "stream",
     "text": [
      "Number of images: 1797\n",
      "Number of features per image: 64\n"
     ]
    }
   ],
   "source": [
    "# imports\n",
    "import torch\n",
    "import numpy as np\n",
    "import math\n",
    "from tqdm.notebook import tqdm\n",
    "import matplotlib.pyplot as plt\n",
    "from sklearn.datasets import load_digits\n",
    "from sklearn.model_selection import train_test_split\n",
    "from sklearn.metrics import accuracy_score\n",
    "\n",
    "# loading the dataset directly from the scikit-learn library\n",
    "dataset = load_digits()\n",
    "X = dataset.data\n",
    "y = dataset.target\n",
    "print('Number of images:', X.shape[0])\n",
    "print('Number of features per image:', X.shape[1])"
   ]
  },
  {
   "cell_type": "code",
   "execution_count": 87,
   "metadata": {
    "colab": {
     "base_uri": "https://localhost:8080/",
     "height": 358
    },
    "id": "qDy8xSdXyJI3",
    "outputId": "5cf62beb-f4f1-47b9-f2a8-0c767967daf1"
   },
   "outputs": [
    {
     "data": {
      "image/png": "[encoded data removed]",
      "text/plain": [
       "<Figure size 1000x600 with 10 Axes>"
      ]
     },
     "metadata": {},
     "output_type": "display_data"
    }
   ],
   "source": [
    "# utility function to plot gallery of images\n",
    "def plot_gallery(images, titles, height, width, n_row=2, n_col=4):\n",
    "    plt.figure(figsize=(2* n_col, 3 * n_row))\n",
    "    plt.subplots_adjust(bottom=0, left=0.01, right=0.99, top=0.90, hspace=0.35)\n",
    "    for i in range(n_row * n_col):\n",
    "        plt.subplot(n_row, n_col, i + 1)\n",
    "        plt.imshow(images[i].reshape((height, width)), cmap=plt.cm.gray)\n",
    "        plt.title(titles[i], size=12)\n",
    "        plt.xticks(())\n",
    "        plt.yticks(())\n",
    "\n",
    "# visualize some of the images of the MNIST dataset\n",
    "plot_gallery(X, y, 8, 8, 2, 5)"
   ]
  },
  {
   "cell_type": "code",
   "execution_count": 88,
   "metadata": {
    "colab": {
     "base_uri": "https://localhost:8080/"
    },
    "id": "lLRlr0wNOKI1",
    "outputId": "3f489950-752d-4536-d70b-980d8ece81f5"
   },
   "outputs": [
    {
     "name": "stdout",
     "output_type": "stream",
     "text": [
      "Shape of train dataset: (1437, 64)\n",
      "Shape of evaluation dataset: (360, 64)\n"
     ]
    }
   ],
   "source": [
    "# Let us split the dataset into training and test sets in a stratified manner.\n",
    "# Note that we are not creating evaluation datset as we will not be tuning hyper-parameters\n",
    "# The split ratio is 4:1\n",
    "X_train, X_test, y_train, y_test = train_test_split(X, y, test_size=0.2, random_state=42, stratify=y)\n",
    "print('Shape of train dataset:', X_train.shape)\n",
    "print('Shape of evaluation dataset:', X_test.shape)"
   ]
  },
  {
   "cell_type": "code",
   "execution_count": 89,
   "metadata": {
    "id": "T6Jam6RdFeIm"
   },
   "outputs": [],
   "source": [
    "# define some constants - useful for later\n",
    "num_classes = len(np.unique(y)) # number of target classes = 10 -- (0,1,2,3,4,5,6,7,8,9)\n",
    "num_features = X.shape[1]       # number of features = 64\n",
    "max_epochs = 100000             # max number of epochs for training\n",
    "lr = 1e-2                       # learning rate\n",
    "tolerance = 1e-6                # tolerance for early stopping during training"
   ]
  },
  {
   "cell_type": "code",
   "execution_count": 90,
   "metadata": {
    "id": "hgMgGeeUUFb-"
   },
   "outputs": [],
   "source": [
    "# Hardware Acceleration: to set device if using GPU.\n",
    "# You can change runtime in colab by naviagting to (Runtime->Change runtime type), and selecting GPU in hardware accelarator.\n",
    "# NOTE that you can run this homework without GPU.\n",
    "device = 'cuda' if torch.cuda.is_available() else 'cpu'"
   ]
  },
  {
   "cell_type": "markdown",
   "metadata": {
    "id": "BBvXcyFhmLvU"
   },
   "source": [
    "\n",
    "\n",
    "---\n",
    "\n"
   ]
  },
  {
   "cell_type": "markdown",
   "metadata": {
    "id": "Va9kDfkC00K-"
   },
   "source": [
    "### *(a) Utils and pre-processing* (5pt)\n",
    "\n",
    "* Scale the image data between 0 and 1\n",
    "* One-hot encode the target data\n",
    "* Convert the data to tensors and move them to the required device"
   ]
  },
  {
   "cell_type": "code",
   "execution_count": 91,
   "metadata": {
    "colab": {
     "base_uri": "https://localhost:8080/"
    },
    "id": "cQGB7Y9cUO2V",
    "outputId": "5dcdd928-754c-4cf9-c5b2-37ac51c73a06"
   },
   "outputs": [
    {
     "name": "stdout",
     "output_type": "stream",
     "text": [
      "[[0.     0.     0.6875 ... 0.125  0.     0.    ]\n",
      " [0.     0.     0.125  ... 0.0625 0.     0.    ]\n",
      " [0.     0.125  0.9375 ... 0.     0.     0.    ]\n",
      " ...\n",
      " [0.     0.     0.0625 ... 0.1875 0.     0.    ]\n",
      " [0.     0.     0.25   ... 0.     0.     0.    ]\n",
      " [0.     0.     0.1875 ... 1.     1.     0.1875]]\n",
      "[[0.         0.         0.5        ... 0.25       0.         0.        ]\n",
      " [0.         0.42857143 1.         ... 0.5        0.1875     0.        ]\n",
      " [0.         0.         0.125      ... 0.0625     0.         0.        ]\n",
      " ...\n",
      " [0.         0.         0.625      ... 0.1875     0.         0.        ]\n",
      " [0.         0.         0.4375     ... 0.75       0.         0.        ]\n",
      " [0.         0.         0.         ... 0.125      0.         0.        ]]\n"
     ]
    }
   ],
   "source": [
    "# 1. Scale the features between 0 and 1\n",
    "# To scale, you can directly use the MinMaxScaler from sklearn.\n",
    "#######\n",
    "#TODO:\n",
    "from sklearn.preprocessing import MinMaxScaler\n",
    "\n",
    "scaler = MinMaxScaler(feature_range = (0,1))\n",
    "X_train = scaler.fit_transform(X_train)\n",
    "X_test = scaler.fit_transform(X_test)\n",
    "\n",
    "# output variable names -  X_train, X_test\n",
    "#######\n",
    "print(X_train)\n",
    "print(X_test)"
   ]
  },
  {
   "cell_type": "code",
   "execution_count": 92,
   "metadata": {
    "colab": {
     "base_uri": "https://localhost:8080/"
    },
    "id": "iZRF8HumUlen",
    "outputId": "d6b1c546-054c-4d62-8a84-da92e0bac2b3"
   },
   "outputs": [
    {
     "name": "stdout",
     "output_type": "stream",
     "text": [
      "Shape of y_train_ohe: (1437, 10)\n",
      "Shape of y_test_ohe: (360, 10)\n",
      "tensor([[0.0000, 0.0000, 0.6875,  ..., 0.1250, 0.0000, 0.0000],\n",
      "        [0.0000, 0.0000, 0.1250,  ..., 0.0625, 0.0000, 0.0000],\n",
      "        [0.0000, 0.1250, 0.9375,  ..., 0.0000, 0.0000, 0.0000],\n",
      "        ...,\n",
      "        [0.0000, 0.0000, 0.0625,  ..., 0.1875, 0.0000, 0.0000],\n",
      "        [0.0000, 0.0000, 0.2500,  ..., 0.0000, 0.0000, 0.0000],\n",
      "        [0.0000, 0.0000, 0.1875,  ..., 1.0000, 1.0000, 0.1875]],\n",
      "       device='cuda:0')\n",
      "tensor([[0.0000, 0.0000, 0.5000,  ..., 0.2500, 0.0000, 0.0000],\n",
      "        [0.0000, 0.4286, 1.0000,  ..., 0.5000, 0.1875, 0.0000],\n",
      "        [0.0000, 0.0000, 0.1250,  ..., 0.0625, 0.0000, 0.0000],\n",
      "        ...,\n",
      "        [0.0000, 0.0000, 0.6250,  ..., 0.1875, 0.0000, 0.0000],\n",
      "        [0.0000, 0.0000, 0.4375,  ..., 0.7500, 0.0000, 0.0000],\n",
      "        [0.0000, 0.0000, 0.0000,  ..., 0.1250, 0.0000, 0.0000]],\n",
      "       device='cuda:0')\n",
      "tensor([[0., 0., 0.,  ..., 0., 0., 0.],\n",
      "        [1., 0., 0.,  ..., 0., 0., 0.],\n",
      "        [0., 0., 0.,  ..., 0., 0., 0.],\n",
      "        ...,\n",
      "        [0., 0., 0.,  ..., 0., 0., 1.],\n",
      "        [0., 0., 0.,  ..., 1., 0., 0.],\n",
      "        [0., 0., 0.,  ..., 0., 0., 1.]], device='cuda:0')\n",
      "tensor([[0., 0., 0.,  ..., 0., 0., 0.],\n",
      "        [0., 0., 1.,  ..., 0., 0., 0.],\n",
      "        [0., 0., 0.,  ..., 0., 1., 0.],\n",
      "        ...,\n",
      "        [1., 0., 0.,  ..., 0., 0., 0.],\n",
      "        [0., 0., 0.,  ..., 0., 0., 0.],\n",
      "        [0., 0., 0.,  ..., 0., 0., 0.]], device='cuda:0')\n"
     ]
    }
   ],
   "source": [
    "# 2. One-Hot encode the target labels\n",
    "# To one-hot encode, you can use the OneHotEncoder from sklearn\n",
    "#######\n",
    "#TODO:\n",
    "from sklearn.preprocessing import OneHotEncoder\n",
    "\n",
    "ohe = OneHotEncoder(sparse_output=False) # To make the ohe not sparse (to avoid the ambiguous length of the sparse array when converting them to torch)\n",
    "y_train_ohe = ohe.fit_transform(y_train.reshape(-1,1)) # Reshape: ohe need a 2d-array input\n",
    "y_test_ohe = ohe.fit_transform(y_test.reshape(-1,1))\n",
    "\n",
    "# output variable names -  y_train_ohe, y_test_ohe\n",
    "#######\n",
    "print('Shape of y_train_ohe:',y_train_ohe.shape)\n",
    "print('Shape of y_test_ohe:',y_test_ohe.shape)\n",
    "\n",
    "\n",
    "# move X and y to the defined device and convert them to torch.float32\n",
    "X_train_torch = torch.tensor(X_train, dtype=torch.float32, device=device)\n",
    "X_test_torch = torch.tensor(X_test, dtype=torch.float32, device=device)\n",
    "y_train_ohe_torch = torch.tensor(y_train_ohe, dtype=torch.float32, device=device)\n",
    "y_test_ohe_torch = torch.tensor(y_test_ohe, dtype=torch.float32, device=device)\n",
    "\n",
    "# output variable names -  X_train_torch, X_test_torch, y_train_ohe_torch, y_test_ohe_torch\n",
    "print(X_train_torch)\n",
    "print(X_test_torch)\n",
    "print(y_train_ohe_torch)\n",
    "print(y_test_ohe_torch)"
   ]
  },
  {
   "cell_type": "markdown",
   "metadata": {
    "id": "nhpUZN-ES_e0"
   },
   "source": [
    "### *(b) Implement Multi-Class Logistic Regression from scratch* (15pt)\n",
    "\n",
    "In this problem, we will apply multiclass logistic regression from scratch  trained using gradient descent (GD) with Mean Squared Error (MSE) loss as the objective.\n",
    "\n",
    "We will be using a linear model $y^{(i)} = W \\mathbf{x}^{(i)}$, with the following notations:\n",
    "\n",
    "* Weight matrix:\n",
    "$ W_{p\\times n}= \\begin{bmatrix}\n",
    "\\leftarrow & \\mathbf{w}_1^\\top & \\rightarrow \\\\\n",
    "\\leftarrow & \\mathbf{w}_2^\\top & \\rightarrow\\\\\n",
    " & \\vdots &  \\\\\n",
    "\\leftarrow & \\mathbf{w}_p^\\top & \\rightarrow \\\\\n",
    "\\end{bmatrix}$, where $p$ is the number of target classes\n",
    "\n",
    "* data points: $\\mathbf{x}^{(i)}\\in \\mathbb{R}^n, y^{(i)}\\in \\mathbb{R}$, and $X = \\begin{bmatrix}\n",
    "\\uparrow &  \\uparrow & \\dotsm &  \\uparrow\\\\\n",
    "\\mathbf{x}^{(1)} & \\mathbf{x}^{(2)} & \\dotsm & \\mathbf{x}^{(m)} \\\\\n",
    "\\downarrow & \\downarrow  & \\dotsm & \\downarrow  \\\\\n",
    "\\end{bmatrix}, Y = \\begin{bmatrix}\n",
    "y^{(1)}\\\\\n",
    "y^{(2)} \\\\\n",
    "\\vdots \\\\\n",
    "y^{(m)} \\\\\n",
    "\\end{bmatrix}$, where $m$ is the number of datapoints."
   ]
  },
  {
   "cell_type": "markdown",
   "metadata": {
    "id": "lJN3wY7CXe10"
   },
   "source": [
    "**Note:** Here we need to define the model prediction. The input matrix is $X_{n\\times m}$ where $m$ is the number of examples, and $n$ is the number of features. The linear predictions can be given by: $Y = WX + b$ where $W$ is a $p\\times n$ weight matrix and $b$ is a $p$ size bias vector. $p$ is the number of target classes."
   ]
  },
  {
   "cell_type": "markdown",
   "metadata": {
    "id": "AztFFkzUuHW1"
   },
   "source": [
    "#### #1. Define a function `linear_model`\n",
    "\n",
    "* This function takes as input a weight matrix (`W`), bias vector (`b`), and input data matrix of size $m\\times n$ (`XT`).\n",
    "* This function should return the predictions $\\hat{y}$, which is an $m\\times p$ matrix. For each datapoint row which is a $1 \\times p$ vector, the prediction can be seen as the scores that the model gives each target class for that datapoint"
   ]
  },
  {
   "cell_type": "code",
   "execution_count": 93,
   "metadata": {
    "id": "75DOhP-EVsRs"
   },
   "outputs": [],
   "source": [
    "#######\n",
    "def linear_model(W, b, XT):\n",
    "    #TODO:\n",
    "    y_hat = XT @ W.T + b\n",
    "    return y_hat\n",
    "\n",
    "#######"
   ]
  },
  {
   "cell_type": "markdown",
   "metadata": {
    "id": "ejbSxyl2du2L"
   },
   "source": [
    "**Note:** The loss function that we would be using is the Mean Square Error (L2) Loss:\\\n",
    "$\\displaystyle MSE = \\frac{1}{m}\\sum_{i=1}^m(\\hat{y}^{(i)}-y^{(i)})^2$, where $m$ is the number of examples, $\\hat{y}^{(i)}$ is the\n",
    "predicted value of $x^{(i)}$ and $y^{(i)}$ is the ground truth of $x^{(i)}$."
   ]
  },
  {
   "cell_type": "markdown",
   "metadata": {
    "id": "8snSDdp4u49o"
   },
   "source": [
    "#### #2. Define a function `mse_loss`\n",
    "\n",
    "* This function takes as input prediction (`y_pred`) and ground-truth label (`y`), and returns the MSE loss."
   ]
  },
  {
   "cell_type": "code",
   "execution_count": 94,
   "metadata": {
    "id": "MGjd_pYPduV0"
   },
   "outputs": [],
   "source": [
    "#######\n",
    "def mse_loss(y_pred, y):\n",
    "    #TODO:\n",
    "    loss = torch.mean((y_pred - y) ** 2)\n",
    "    return loss\n",
    "\n",
    "#######"
   ]
  },
  {
   "cell_type": "markdown",
   "metadata": {
    "id": "d27EoDd1vIA7"
   },
   "source": [
    "\n",
    "#### #3. Define a function: `initializeWeightsAndBiases`\n",
    "\n",
    "In this part, we will do some setup required for training (such as initializing weights and biases) and move everything to torch tensors.\n",
    "\n",
    "\n",
    "* This function returns tuple `(W, b)`, where `W` is a randomly generated torch tensor of size `num_classes x num_features`, and `b` is a randomly generated torch vector of size `num_classes`.\n",
    "* For both the tensors, set `requires_grad=True` in parameters.\n",
    "\n"
   ]
  },
  {
   "cell_type": "code",
   "execution_count": 95,
   "metadata": {
    "id": "yF-F0XbQjhYF"
   },
   "outputs": [],
   "source": [
    "#######\n",
    "def initializeWeightsAndBiases(num_classes, num_features):\n",
    "    #TODO:\n",
    "    W = torch.randn(num_classes, num_features, device=device, requires_grad=True) # requires_grad: allow Gradient Updates\n",
    "    b = torch.randn(num_classes, device=device, requires_grad=True)\n",
    "    return W, b\n",
    "#######"
   ]
  },
  {
   "cell_type": "markdown",
   "metadata": {
    "id": "wpiEdcLYg6Vb"
   },
   "source": [
    "#### #4 Training code\n",
    "\n",
    "* Given below is a function: `train_linear_regression_model` that takes as inputs as max number of epochs (`max_epochs`), weights (`W`), biases (`b`), training data (`X_train, y_train`), learning rate (`lr`), tolerance for stopping (`tolerance`).\n",
    "* This function returns a tuple `(W,b,losses)` where `W,b` are the trained weights and biases respectively, and `losses` is a list of tuples of loss logged every $100^{th}$  epoch.\n",
    "* You can go through [this](https://pytorch.org/tutorials/beginner/pytorch_with_examples.html#pytorch-tensors-and-autograd) article for reference."
   ]
  },
  {
   "cell_type": "code",
   "execution_count": 96,
   "metadata": {
    "id": "xZrxj7NEJhiw"
   },
   "outputs": [],
   "source": [
    "# Define a function train_linear_regression_model\n",
    "def train_linear_regression_model(max_epochs, W, b, X_train, y_train, lr, tolerance):\n",
    "  #TODO:\n",
    "  losses = []\n",
    "  prev_loss = float('inf')\n",
    "\n",
    "  for epoch in tqdm(range(max_epochs)):\n",
    "\n",
    "      #######\n",
    "      # 7. do prediction\n",
    "      y_pred = linear_model(W, b, X_train)\n",
    "\n",
    "      # 8. get the loss\n",
    "      loss = mse_loss(y_pred, y_train)\n",
    "\n",
    "      # 9. backpropagate loss\n",
    "      loss.backward()\n",
    "\n",
    "      # 10. update the weights and biasees\n",
    "      with torch.no_grad():\n",
    "        W -= lr * W.grad\n",
    "        b -= lr * b.grad\n",
    "\n",
    "      # 11. set the gradients to zero\n",
    "      W.grad = None # Equivalent to W.grad.zero()\n",
    "      b.grad = None\n",
    "\n",
    "      #######\n",
    "\n",
    "      # log the loss every 100th epoch and print every 5000th epoch:\n",
    "      if epoch%100==0:\n",
    "        losses.append((epoch, loss.item())) # loss.item(): tensor -> float num\n",
    "        if epoch%5000==0:\n",
    "          print('Epoch: {}, Loss: {}'.format(epoch, loss.item()))\n",
    "\n",
    "      # break if decrease in loss is less than threshold\n",
    "      if abs(prev_loss - loss.item()) < tolerance:\n",
    "        print(f\"Break! Early stopping at epoch {epoch} due to low improvement in loss.\")\n",
    "        break\n",
    "      prev_loss = loss.item()\n",
    "\n",
    "  # return updated weights, biases, and logged losses\n",
    "  return W, b, losses"
   ]
  },
  {
   "cell_type": "markdown",
   "metadata": {
    "id": "QFJ-tBGgeOdw"
   },
   "source": [
    "#### #5. Initialize parameters and train your own model\n",
    "\n",
    "* Initialize weights and biases using the `initializeWeightsAndBiases` function that you defined earlier\n",
    "* Train your model using function `train_linear_regression_model` defined above.\n",
    "* Use full batch (set `batch_size=len(X_train)` for training (Gradient Descent).\n",
    "* Also plot the graph of loss vs number of epochs (Recall that values for learning rate (`lr`) and tolerance (`tolerance`) are already defined above)."
   ]
  },
  {
   "cell_type": "code",
   "execution_count": 97,
   "metadata": {
    "colab": {
     "base_uri": "https://localhost:8080/",
     "height": 736,
     "referenced_widgets": [
      "00b6d062b6d6465e8f861cc52b9a80d2",
      "44dbc77cb86545859209fa42e8062076",
      "d3d8cf0eab64442d8319fbfe71516811",
      "99f6a4a23f5846f2afe7c4abaeee8ef8",
      "c5b5345ab62549ed877dc9599e1efb93",
      "5662dd17aabc429badbf1597ea09603f",
      "4cb551550fcf44368e1a4b6ac03b3fe0",
      "9160020957fa4355a6ae0c28a66abaf2",
      "2c84f670481047f79ef5c26809fc67a8",
      "bd7a28cd46fc4e9c9c5adcde74f07c67",
      "958b7dc948aa4eea8d37cb6461fe984e"
     ]
    },
    "id": "zHfBioX0K294",
    "outputId": "7358e424-18cf-4a6f-ef94-1188d0dd47a0"
   },
   "outputs": [
    {
     "data": {
      "application/vnd.jupyter.widget-view+json": {
       "model_id": "00b6d062b6d6465e8f861cc52b9a80d2",
       "version_major": 2,
       "version_minor": 0
      },
      "text/plain": [
       "  0%|          | 0/100000 [00:00<?, ?it/s]"
      ]
     },
     "metadata": {},
     "output_type": "display_data"
    },
    {
     "name": "stdout",
     "output_type": "stream",
     "text": [
      "Epoch: 0, Loss: 17.706771850585938\n",
      "Epoch: 5000, Loss: 0.5214282870292664\n",
      "Epoch: 10000, Loss: 0.2865198254585266\n",
      "Epoch: 15000, Loss: 0.19979605078697205\n",
      "Epoch: 20000, Loss: 0.15468721091747284\n",
      "Epoch: 25000, Loss: 0.12691180408000946\n",
      "Epoch: 30000, Loss: 0.1080709770321846\n",
      "Epoch: 35000, Loss: 0.09449117630720139\n",
      "Epoch: 40000, Loss: 0.08429207652807236\n",
      "Epoch: 45000, Loss: 0.07640080899000168\n",
      "Epoch: 50000, Loss: 0.07015533745288849\n",
      "Break! Early stopping at epoch 52374 due to low improvement in loss.\n"
     ]
    },
    {
     "data": {
      "text/plain": [
       "Text(0.5, 1.0, 'loss vs epochs')"
      ]
     },
     "execution_count": 97,
     "metadata": {},
     "output_type": "execute_result"
    },
    {
     "data": {
      "image/png": "[encoded data removed]",
      "text/plain": [
       "<Figure size 640x480 with 1 Axes>"
      ]
     },
     "metadata": {},
     "output_type": "display_data"
    }
   ],
   "source": [
    "#######\n",
    "#TODO:\n",
    "W, b = initializeWeightsAndBiases(num_classes, num_features)\n",
    "\n",
    "W, b, losses = train_linear_regression_model(\n",
    "    max_epochs=max_epochs,\n",
    "    W=W,\n",
    "    b=b,\n",
    "    X_train=X_train_torch,\n",
    "    y_train=y_train_ohe_torch,\n",
    "    lr=lr,\n",
    "    tolerance=tolerance\n",
    ")\n",
    "\n",
    "import matplotlib.pyplot as plt\n",
    "plt.plot([x[0] for x in losses],[x[1] for x in losses])\n",
    "plt.xlabel('epochs')\n",
    "plt.ylabel('loss')\n",
    "plt.title('loss vs epochs')\n",
    "#######"
   ]
  },
  {
   "cell_type": "code",
   "execution_count": 98,
   "metadata": {
    "colab": {
     "base_uri": "https://localhost:8080/"
    },
    "id": "QIDhQXpTYX9T",
    "outputId": "17b7b3ec-1c89-4abe-a07f-8fae413e47a4"
   },
   "outputs": [
    {
     "name": "stdout",
     "output_type": "stream",
     "text": [
      "Train accuracy: 0.8413361169102297\n",
      "Test accuracy: 0.7861111111111111\n"
     ]
    }
   ],
   "source": [
    "# print accuracies of model\n",
    "predictions_train = linear_model(W, b, X_train_torch)\n",
    "predictions_test = linear_model(W, b, X_test_torch)\n",
    "\n",
    "# Get the predicted label with the maximum score in score matrix\n",
    "y_train_pred = torch.argmax(predictions_train, dim=1).cpu().numpy() # accuracy_score() can only process np.ndarray\n",
    "y_test_pred = torch.argmax(predictions_test, dim=1).cpu().numpy()\n",
    "\n",
    "print(\"Train accuracy:\",accuracy_score(y_train_pred, np.asarray(y_train, dtype=np.float32)))\n",
    "print(\"Test accuracy:\",accuracy_score(y_test_pred, np.asarray(y_test, dtype=np.float32)))"
   ]
  },
  {
   "cell_type": "markdown",
   "metadata": {
    "id": "iz8cNUXR5DOu"
   },
   "source": [
    "### *(c) Use PyTorch for training* (10pt)\n",
    "\n",
    "* In the previous part, we defined the model, loss, and even the gradient update step. We also had to manually set the gradients to zero.\n",
    "* In this part, we will re-implement the linear model and see how we can directly use Pytorch to do all this for us in a few simple steps."
   ]
  },
  {
   "cell_type": "code",
   "execution_count": 99,
   "metadata": {
    "id": "Lwm9t0K0lbvl"
   },
   "outputs": [],
   "source": [
    "# common utility function to print accuracies\n",
    "def print_accuracies_torch(model, X_train_torch, X_test_torch, y_train, y_test):\n",
    "  predictions_train = model(X_train_torch)\n",
    "  predictions_test = model(X_test_torch)\n",
    "  y_train_pred = torch.argmax(predictions_train, dim=1).cpu().numpy()\n",
    "  y_test_pred = torch.argmax(predictions_test, dim=1).cpu().numpy()\n",
    "  print(\"Train accuracy:\",accuracy_score(y_train_pred, np.asarray(y_train, dtype=np.float32)))\n",
    "  print(\"Test accuracy:\",accuracy_score(y_test_pred, np.asarray(y_test, dtype=np.float32)))"
   ]
  },
  {
   "cell_type": "markdown",
   "metadata": {
    "id": "MSjn0TlT0_X5"
   },
   "source": [
    "#### #1. Define the linear model using PyTorch\n",
    "\n",
    "* Use the inbuilt PyTorch `torch.nn.Module` to define a model class.\n",
    "* Use the `torch.nn.Linear` to define the linear layer of the model"
   ]
  },
  {
   "cell_type": "code",
   "execution_count": 100,
   "metadata": {
    "id": "tAVqYskI4ohI"
   },
   "outputs": [],
   "source": [
    "#######\n",
    "\n",
    "# Define a model class using torch.nn\n",
    "class Linear_Model(torch.nn.Module):\n",
    "  def __init__(self):\n",
    "    super(Linear_Model, self).__init__()\n",
    "    # Initalize various layers of model as below\n",
    "    # 1. initialze one linear layer: num_features -> num_targets\n",
    "    self.linear = torch.nn.Linear(num_features, num_classes)\n",
    "\n",
    "  def forward(self, X):\n",
    "    # 2. define the feedforward algorithm of the model and return the final output\n",
    "    output = self.linear(X)\n",
    "    return output\n",
    "\n",
    "#######"
   ]
  },
  {
   "cell_type": "markdown",
   "metadata": {
    "id": "9zyx8lVTFq8q"
   },
   "source": [
    "#### #2. A general function for training a PyTorch model.\n",
    "\n",
    "Define a general training function: `train_torch_model`.\n",
    "* This function takes as input an initialized torch model (`model`), batch size (`batch_size`), initialized loss (`criterion`), max number of epochs (`max_epochs`), training data (`X_train, y_train`), learning rate (`lr`), tolerance for stopping (`tolerance`).\n",
    "* This function will return a tuple `(model, losses)`, where `model` is the trained model, and `losses` is a list of tuples of loss logged every $100^{th}$ epoch.\n",
    "\n",
    "Note: You can reuse a lot of components from the `train_linear_regression_model` function from the previous section\n",
    "\n",
    "You can go through [this](https://pytorch.org/tutorials/beginner/pytorch_with_examples.html#pytorch-optim) article for reference."
   ]
  },
  {
   "cell_type": "code",
   "execution_count": 101,
   "metadata": {
    "id": "4T04zQPE53rS"
   },
   "outputs": [],
   "source": [
    "# Define a function train_torch_model\n",
    "def train_torch_model(model, batch_size, criterion, max_epochs, X_train, y_train, lr, tolerance):\n",
    "  losses = []\n",
    "  prev_loss = float('inf')\n",
    "  number_of_batches = math.ceil(len(X_train)/batch_size)\n",
    "\n",
    "  #######\n",
    "  # 3. move model to device\n",
    "  model.to(device)\n",
    "\n",
    "  # 4. define optimizer (use torch.optim.SGD (Stochastic Gradient Descent))\n",
    "  # Set learning rate to lr and also set model parameters\n",
    "  optimizer = torch.optim.SGD(model.parameters(), lr=lr)\n",
    "\n",
    "  for epoch in tqdm(range(max_epochs)):\n",
    "    for i in range(number_of_batches):\n",
    "      start = i * batch_size\n",
    "      end = start + batch_size\n",
    "      X_train_batch = X_train[start:end]\n",
    "      y_train_batch = y_train[start:end]\n",
    "\n",
    "      # 5. reset gradients\n",
    "      optimizer.zero_grad()\n",
    "\n",
    "      # 6. prediction\n",
    "      prediction = model(X_train_batch)\n",
    "\n",
    "      # 7. calculate loss\n",
    "      loss = criterion(prediction, y_train_batch)\n",
    "\n",
    "      # 8. backpropagate loss\n",
    "      loss.backward()\n",
    "\n",
    "      # 9. perform a single gradient update step\n",
    "      optimizer.step()\n",
    "\n",
    "  #######\n",
    "\n",
    "    # log loss every 100th epoch and print every 5000th epoch:\n",
    "    if epoch%100==0:\n",
    "      losses.append((epoch, loss.item()))\n",
    "      if epoch%5000==0:\n",
    "        print('Epoch: {}, Loss: {}'.format(epoch, loss.item()))\n",
    "\n",
    "    # break if decrease in loss is less than threshold\n",
    "    if abs(prev_loss - loss.item()) < tolerance:\n",
    "      print(f\"Break! Early stopping at epoch {epoch}\")\n",
    "      break\n",
    "    prev_loss = loss.item()\n",
    "\n",
    "  # return updated model and logged losses\n",
    "  return model, losses"
   ]
  },
  {
   "cell_type": "markdown",
   "metadata": {
    "id": "eMXOadCpkufn"
   },
   "source": [
    "### *(d) Working with different model types* (15pt)\n",
    "* Now, we retrain the above model with `batch_size=64`\n",
    "* Use Stochastic/Mini-batch Gradient Descent and keep everything else the same.\n",
    "* Like before, we plot the graph between loss and number of epochs."
   ]
  },
  {
   "cell_type": "markdown",
   "metadata": {
    "id": "Y7RzDMajj8sc"
   },
   "source": [
    "#### #1. MSE Loss and Gradient Descent (GD)\n",
    "* Use `nn.MSELoss`.\n",
    "* Use full batch for training (Gradient Descent).\n",
    "* Also plot the graph of loss vs number of epochs."
   ]
  },
  {
   "cell_type": "code",
   "execution_count": 102,
   "metadata": {
    "colab": {
     "base_uri": "https://localhost:8080/",
     "height": 575,
     "referenced_widgets": [
      "e91291fd0693405e975ef399ca353090",
      "2fd30c88c52e4365bffb8accad5e2176",
      "fb356783a26f4d6bad9ae0dd5f7aaa58",
      "6d4d701c914b406ba024c27e751a6d6d",
      "964a173c845a4dfeb175555e7bf72cb9",
      "24d72a5de9924f58b4da9f54082ca15e",
      "6dcbc3eae4f74e6a860640ff30883efc",
      "acb336f016e6459bb5098df1bce768c0",
      "2c3ea4af6e804d00832ec42b1e1d366b",
      "615781eddfc34a9482acc8106529fcc8",
      "cc19b8e9350b45fdba43edf5bfcc085f"
     ]
    },
    "id": "LDm0__pE6edF",
    "outputId": "d67ce7eb-5f10-4919-f3fa-df39d8ef551b"
   },
   "outputs": [
    {
     "data": {
      "application/vnd.jupyter.widget-view+json": {
       "model_id": "e91291fd0693405e975ef399ca353090",
       "version_major": 2,
       "version_minor": 0
      },
      "text/plain": [
       "  0%|          | 0/100000 [00:00<?, ?it/s]"
      ]
     },
     "metadata": {},
     "output_type": "display_data"
    },
    {
     "name": "stdout",
     "output_type": "stream",
     "text": [
      "Epoch: 0, Loss: 0.14073053002357483\n",
      "Epoch: 5000, Loss: 0.03942379355430603\n",
      "Break! Early stopping at epoch 6200\n"
     ]
    },
    {
     "data": {
      "text/plain": [
       "Text(0.5, 1.0, 'loss vs epochs')"
      ]
     },
     "execution_count": 102,
     "metadata": {},
     "output_type": "execute_result"
    },
    {
     "data": {
      "image/png": "[encoded data removed]",
      "text/plain": [
       "<Figure size 640x480 with 1 Axes>"
      ]
     },
     "metadata": {},
     "output_type": "display_data"
    }
   ],
   "source": [
    "#######\n",
    "model = Linear_Model()\n",
    "criterion = torch.nn.MSELoss()\n",
    "batch_size = X_train_torch.shape[0] # Full batch: GD\n",
    "\n",
    "model, losses = train_torch_model(\n",
    "    model=model,\n",
    "    batch_size=batch_size,\n",
    "    criterion=criterion,\n",
    "    max_epochs=max_epochs,\n",
    "    X_train=X_train_torch,\n",
    "    y_train=y_train_ohe_torch,\n",
    "    lr=lr,\n",
    "    tolerance=tolerance\n",
    ")\n",
    "\n",
    "import matplotlib.pyplot as plt\n",
    "plt.plot([x[0] for x in losses],[x[1] for x in losses])\n",
    "plt.xlabel('epochs')\n",
    "plt.ylabel('loss')\n",
    "plt.title('loss vs epochs')\n",
    "#######"
   ]
  },
  {
   "cell_type": "code",
   "execution_count": 103,
   "metadata": {
    "colab": {
     "base_uri": "https://localhost:8080/"
    },
    "id": "TIMHwStJ8zzl",
    "outputId": "46fb832e-1126-43f9-dbc4-e49bcdf03710"
   },
   "outputs": [
    {
     "name": "stdout",
     "output_type": "stream",
     "text": [
      "Train accuracy: 0.9290187891440501\n",
      "Test accuracy: 0.9361111111111111\n"
     ]
    }
   ],
   "source": [
    "# print accuracies of model\n",
    "print_accuracies_torch(model, X_train_torch, X_test_torch, y_train, y_test)"
   ]
  },
  {
   "cell_type": "markdown",
   "metadata": {
    "id": "eJ9wHXQx7uDg"
   },
   "source": [
    "#### #2. MSE Loss and Stochastic Gradient Descent (SGD)\n",
    "* Use `nn.MSELoss`.\n",
    "* Use `batch_size=64` for training\n",
    "* Also plot the graph of loss vs number of epochs."
   ]
  },
  {
   "cell_type": "code",
   "execution_count": 104,
   "metadata": {
    "colab": {
     "base_uri": "https://localhost:8080/",
     "height": 558,
     "referenced_widgets": [
      "48bc48fbb0a845d584aefaa3ab8abe83",
      "215ceb95a59f4fab8ee482d3e928b035",
      "c73da06c21eb4989937baebe13be8c33",
      "77a616d072664fb0933fbbe34d9d4b1b",
      "36ad271f92dc4822bddcb10b61fa14b3",
      "4c86a5047a014174b350a0526c149f2b",
      "ce166b812f314580ab254c6a4f1adcf6",
      "1d42beb396d145f9b8994df395b2915e",
      "238d78c6f83c42fba7e5f7398270b927",
      "668ae4dfe29647a2a155f966dcbe1b41",
      "6a0ad28822d14fec9994ed502b2b9f29"
     ]
    },
    "id": "xsj_apLOkt17",
    "outputId": "093ca992-a8cb-428c-d689-426c97bb64ba"
   },
   "outputs": [
    {
     "data": {
      "application/vnd.jupyter.widget-view+json": {
       "model_id": "48bc48fbb0a845d584aefaa3ab8abe83",
       "version_major": 2,
       "version_minor": 0
      },
      "text/plain": [
       "  0%|          | 0/100000 [00:00<?, ?it/s]"
      ]
     },
     "metadata": {},
     "output_type": "display_data"
    },
    {
     "name": "stdout",
     "output_type": "stream",
     "text": [
      "Epoch: 0, Loss: 0.13629525899887085\n",
      "Break! Early stopping at epoch 1678\n"
     ]
    },
    {
     "data": {
      "text/plain": [
       "Text(0.5, 1.0, 'loss vs epochs')"
      ]
     },
     "execution_count": 104,
     "metadata": {},
     "output_type": "execute_result"
    },
    {
     "data": {
      "image/png": "[encoded data removed]",
      "text/plain": [
       "<Figure size 640x480 with 1 Axes>"
      ]
     },
     "metadata": {},
     "output_type": "display_data"
    }
   ],
   "source": [
    "#######\n",
    "model = Linear_Model()\n",
    "criterion = torch.nn.MSELoss()\n",
    "batch_size = 64 # Small BatchL: SGD\n",
    "model, losses = train_torch_model(\n",
    "    model=model,\n",
    "    batch_size=batch_size,\n",
    "    criterion=criterion,\n",
    "    max_epochs=max_epochs,\n",
    "    X_train=X_train_torch,\n",
    "    y_train=y_train_ohe_torch,\n",
    "    lr=lr,\n",
    "    tolerance=tolerance\n",
    ")\n",
    "\n",
    "import matplotlib.pyplot as plt\n",
    "plt.plot([x[0] for x in losses],[x[1] for x in losses])\n",
    "plt.xlabel('epochs')\n",
    "plt.ylabel('loss')\n",
    "plt.title('loss vs epochs')\n",
    "#######"
   ]
  },
  {
   "cell_type": "code",
   "execution_count": 105,
   "metadata": {
    "colab": {
     "base_uri": "https://localhost:8080/"
    },
    "id": "cJHvwtH6k0F6",
    "outputId": "4fff8a15-9c96-4409-e6a6-233b2f97fabb"
   },
   "outputs": [
    {
     "name": "stdout",
     "output_type": "stream",
     "text": [
      "Train accuracy: 0.9450243562978428\n",
      "Test accuracy: 0.95\n"
     ]
    }
   ],
   "source": [
    "# print accuracies of model\n",
    "print_accuracies_torch(model, X_train_torch, X_test_torch, y_train, y_test)"
   ]
  },
  {
   "cell_type": "markdown",
   "metadata": {
    "id": "nYiv8O3emFgn"
   },
   "source": [
    "\n",
    "\n",
    "---\n",
    "\n"
   ]
  },
  {
   "cell_type": "markdown",
   "metadata": {
    "id": "QMXvLv81HPCM"
   },
   "source": [
    "#### **Cross-Entropy (CE) Loss with Linear Model**\n",
    "* Instead of using MSE Loss, we will use a much more natural loss function for the multi-class logistic regression task which is the Cross Entropy Loss.\n",
    "* CE loss converts the model scores of each class into a probability.\n",
    "* This model penalizes both choosing the wrong class as well as uncertainty (choosing the right class with low probability).\n",
    "* And we will use the same linear model defined in **(c)**.\n",
    "\n",
    "\n",
    "**Note:**\n",
    "The [Cross Entropy Loss](https://ebookreading.net/view/book/EB9781789130331_73.html) for multiclass classification is the mean of the negative log likelihood of the output logits after softmax:\\\n",
    "$L = \\underbrace{\\frac{1}{m} \\sum_{i=1}^m \\underbrace{-y^{(i)} \\underbrace{log \\underbrace{\\frac{e^{\\hat{y}^{(i)}}}{\\sum_{j=1}^p e^{\\hat{y}^{(j)}}}}_{\\text{Softmax}}}_{\\text{LogSoftmax}}}_{\\text{Negative Log Likelihood (NLL)}}}_{\\text{Cross Entropy (CE) Loss }}$,\n",
    "\n",
    "\n",
    "where $y^{(i)}$ is the ground truth, and $\\hat{y}^{(k)}$ (also called as *logits*) represent the outputs of the last linear layer of the model."
   ]
  },
  {
   "cell_type": "markdown",
   "metadata": {
    "id": "WQw1h-A3lCPp"
   },
   "source": [
    "#### #3. CE Loss and GD\n",
    "* Instead of `nn.MSELoss`, train the linear model with `nn.CrossEntropyLoss`.\n",
    "* Use **full-batch**.\n",
    "* Also plot the graph between loss and number of epochs."
   ]
  },
  {
   "cell_type": "code",
   "execution_count": 106,
   "metadata": {
    "colab": {
     "base_uri": "https://localhost:8080/",
     "height": 754,
     "referenced_widgets": [
      "b4271c9fcced452787f1718de30e2e7b",
      "12e1fe7855294fe98d650d5a9c175077",
      "a2bf6ab9ec6d48c49bfb4d8647d4d03f",
      "e3deec8f10554b828da62868bef34b18",
      "92ecb2094f7044948507aea9e8bcb4b2",
      "40af87f13b2541e4a3403b171bd91903",
      "8817f518a8734a36abb64ab6d2890a45",
      "1ac138490e2e4431923e1a5404f43075",
      "7ebf208966d44b34852057aef903c9e4",
      "e0b459c08f744a64bcbecc7886144267",
      "c33a87dc6dd74688a5f775fcf8767645"
     ]
    },
    "id": "VXmF1XD_9Irh",
    "outputId": "36b674c8-d15e-4278-84f1-c54aa032f04c"
   },
   "outputs": [
    {
     "data": {
      "application/vnd.jupyter.widget-view+json": {
       "model_id": "b4271c9fcced452787f1718de30e2e7b",
       "version_major": 2,
       "version_minor": 0
      },
      "text/plain": [
       "  0%|          | 0/100000 [00:00<?, ?it/s]"
      ]
     },
     "metadata": {},
     "output_type": "display_data"
    },
    {
     "name": "stdout",
     "output_type": "stream",
     "text": [
      "Epoch: 0, Loss: 2.3591091632843018\n",
      "Epoch: 5000, Loss: 0.40864360332489014\n",
      "Epoch: 10000, Loss: 0.27448174357414246\n",
      "Epoch: 15000, Loss: 0.22115346789360046\n",
      "Epoch: 20000, Loss: 0.1908445954322815\n",
      "Epoch: 25000, Loss: 0.17064359784126282\n",
      "Epoch: 30000, Loss: 0.15589269995689392\n",
      "Epoch: 35000, Loss: 0.1444670855998993\n",
      "Epoch: 40000, Loss: 0.13524574041366577\n",
      "Epoch: 45000, Loss: 0.12757539749145508\n",
      "Epoch: 50000, Loss: 0.1210467740893364\n",
      "Epoch: 55000, Loss: 0.11538895219564438\n",
      "Break! Early stopping at epoch 56144\n"
     ]
    },
    {
     "data": {
      "text/plain": [
       "Text(0.5, 1.0, 'loss vs epochs')"
      ]
     },
     "execution_count": 106,
     "metadata": {},
     "output_type": "execute_result"
    },
    {
     "data": {
      "image/png": "[encoded data removed]",
      "text/plain": [
       "<Figure size 640x480 with 1 Axes>"
      ]
     },
     "metadata": {},
     "output_type": "display_data"
    }
   ],
   "source": [
    "#######\n",
    "model = Linear_Model()\n",
    "criterion = torch.nn.CrossEntropyLoss()\n",
    "batch_size = X_train_torch.shape[0]\n",
    "model, losses = train_torch_model(\n",
    "    model=model,\n",
    "    batch_size=batch_size,\n",
    "    criterion=criterion,\n",
    "    max_epochs=max_epochs,\n",
    "    X_train=X_train_torch,\n",
    "    y_train=y_train_ohe_torch,\n",
    "    lr=lr,\n",
    "    tolerance=tolerance\n",
    ")\n",
    "\n",
    "import matplotlib.pyplot as plt\n",
    "plt.plot([x[0] for x in losses],[x[1] for x in losses])\n",
    "plt.xlabel('epochs')\n",
    "plt.ylabel('loss')\n",
    "plt.title('loss vs epochs')\n",
    "#######"
   ]
  },
  {
   "cell_type": "code",
   "execution_count": 107,
   "metadata": {
    "colab": {
     "base_uri": "https://localhost:8080/"
    },
    "id": "gOvC4HdUINQt",
    "outputId": "90e3d062-7518-4269-903f-dcf60f925b40"
   },
   "outputs": [
    {
     "name": "stdout",
     "output_type": "stream",
     "text": [
      "Train accuracy: 0.9798190675017397\n",
      "Test accuracy: 0.9638888888888889\n"
     ]
    }
   ],
   "source": [
    "# print accuracies of model\n",
    "print_accuracies_torch(model, X_train_torch, X_test_torch, y_train, y_test)"
   ]
  },
  {
   "cell_type": "markdown",
   "metadata": {
    "id": "KGQ_G6tHl8XP"
   },
   "source": [
    "#### #4. CE Loss and SGD\n",
    "* Use a different batch size, `batch_size=64` with the new loss and repeat the previous part #1.\n",
    "* Also plot the graph of loss vs epochs."
   ]
  },
  {
   "cell_type": "code",
   "execution_count": 108,
   "metadata": {
    "colab": {
     "base_uri": "https://localhost:8080/",
     "height": 629,
     "referenced_widgets": [
      "245eba5759064cc489766b0c7eeaf368",
      "e2b3657eefde48688cd4eeb1da2265ab",
      "2f3336f4a44c4a27b76534fcf5593bdf",
      "5c083813e4ba4d94ba472986b8cc5c7d",
      "fcfffd8915584b70b3b5b527a8599c10",
      "a47d032081d74ecda051d39afdcabe36",
      "b272c1dddcc84cb3ab9c8520c9761dc6",
      "af2b4899b1db41e596a9d76d7779c384",
      "80370be96b7843bb8d5045ae75a4d0bc",
      "25fdbba8bc374623bd56596753214d30",
      "a71d568d54014cbca07bbc86f3b2dc61"
     ]
    },
    "id": "6fNrbHH6IOiz",
    "outputId": "37780504-3582-419f-85ec-36ee71bd196e"
   },
   "outputs": [
    {
     "data": {
      "application/vnd.jupyter.widget-view+json": {
       "model_id": "245eba5759064cc489766b0c7eeaf368",
       "version_major": 2,
       "version_minor": 0
      },
      "text/plain": [
       "  0%|          | 0/100000 [00:00<?, ?it/s]"
      ]
     },
     "metadata": {},
     "output_type": "display_data"
    },
    {
     "name": "stdout",
     "output_type": "stream",
     "text": [
      "Epoch: 0, Loss: 2.277090311050415\n",
      "Epoch: 5000, Loss: 0.0869542807340622\n",
      "Epoch: 10000, Loss: 0.061202846467494965\n",
      "Epoch: 15000, Loss: 0.04852709919214249\n",
      "Epoch: 20000, Loss: 0.04068692773580551\n",
      "Break! Early stopping at epoch 23106\n"
     ]
    },
    {
     "data": {
      "text/plain": [
       "Text(0.5, 1.0, 'loss vs epochs')"
      ]
     },
     "execution_count": 108,
     "metadata": {},
     "output_type": "execute_result"
    },
    {
     "data": {
      "image/png": "[encoded data removed]",
      "text/plain": [
       "<Figure size 640x480 with 1 Axes>"
      ]
     },
     "metadata": {},
     "output_type": "display_data"
    }
   ],
   "source": [
    "#######\n",
    "model = Linear_Model()\n",
    "criterion = torch.nn.CrossEntropyLoss()\n",
    "batch_size = 64\n",
    "model, losses = train_torch_model(\n",
    "    model=model,\n",
    "    batch_size=batch_size,\n",
    "    criterion=criterion,\n",
    "    max_epochs=max_epochs,\n",
    "    X_train=X_train_torch,\n",
    "    y_train=y_train_ohe_torch,\n",
    "    lr=lr,\n",
    "    tolerance=tolerance\n",
    ")\n",
    "\n",
    "import matplotlib.pyplot as plt\n",
    "plt.plot([x[0] for x in losses],[x[1] for x in losses])\n",
    "plt.xlabel('epochs')\n",
    "plt.ylabel('loss')\n",
    "plt.title('loss vs epochs')\n",
    "#######"
   ]
  },
  {
   "cell_type": "code",
   "execution_count": 109,
   "metadata": {
    "colab": {
     "base_uri": "https://localhost:8080/"
    },
    "id": "0o04L-LNmCkp",
    "outputId": "63d4bf75-7f1f-49b3-8994-6179a009c8bf"
   },
   "outputs": [
    {
     "name": "stdout",
     "output_type": "stream",
     "text": [
      "Train accuracy: 0.9979123173277662\n",
      "Test accuracy: 0.9694444444444444\n"
     ]
    }
   ],
   "source": [
    "# print accuracies of model\n",
    "print_accuracies_torch(model, X_train_torch, X_test_torch, y_train, y_test)"
   ]
  },
  {
   "cell_type": "markdown",
   "metadata": {
    "id": "2HgoKWSV73xk"
   },
   "source": [
    "\n",
    "\n",
    "---\n",
    "\n"
   ]
  },
  {
   "cell_type": "markdown",
   "metadata": {
    "id": "flKPhgoccRcL"
   },
   "source": [
    "#### **Training a neural network model in PyTorch**\n",
    "\n",
    "* We will train a neural network in pytorch with two hidden layers of sizes 32 and 16 neurons.\n",
    "* We will use non-linear ReLU activations to effectively make it a non-linear model.\n",
    "* We will use this neural network model for multi-class classification with Cross Entropy Loss.\n",
    "\n",
    "**Note:** The neural network model output can be represented mathematically as below:\n",
    "$\\hat{y}^{(i)}_{10\\times1} = W^{(3)}_{10\\times 16}\\sigma(W^{(2)}_{16\\times 32}\\sigma(W^{(1)}_{32\\times 64}\\mathbf{x}^{(i)}_{64\\times1}+\\mathbf{b}^{(1)}_{32\\times1})+\\mathbf{b}^{(2)}_{16\\times1})+\\mathbf{b}^{(3)}_{10\\times1}$,\n",
    "where $\\sigma$ represents ReLU activation, $W^{(i)}$ is the weight of the $i^{th}$ linear layer, and $\\mathbf{b}^{(i)}$ is the layer's bias. We use the subscript to denote the dimension for clarity."
   ]
  },
  {
   "cell_type": "markdown",
   "metadata": {
    "id": "qXYnz6-eI8MG"
   },
   "source": [
    "#### #5. Define the 2 hidden-layer Neural Network (NN)"
   ]
  },
  {
   "cell_type": "code",
   "execution_count": 110,
   "metadata": {
    "colab": {
     "base_uri": "https://localhost:8080/"
    },
    "id": "d3PSTz2jcQ0j",
    "outputId": "55f42d81-7cc5-49ec-ccbb-e1c43401eb9c"
   },
   "outputs": [
    {
     "name": "stdout",
     "output_type": "stream",
     "text": [
      "torch.Size([1437, 64])\n",
      "64\n",
      "10\n"
     ]
    }
   ],
   "source": [
    "#######\n",
    "# Define a neural network model class using torch.nn\n",
    "class NN_Model(torch.nn.Module):\n",
    "  def __init__(self):\n",
    "    super(NN_Model, self).__init__()\n",
    "    # Initalize various layers of model as instructed below\n",
    "    # 1. initialize three linear layers: num_features -> 32, 32 -> 16, 16 -> num_targets\n",
    "    self.fc1 = torch.nn.Linear(num_features, 32)\n",
    "    self.fc2 = torch.nn.Linear(32, 16)\n",
    "    self.fc3 = torch.nn.Linear(16, num_classes)\n",
    "\n",
    "    # 2. initialize RELU\n",
    "    self.relu = torch.nn.ReLU()\n",
    "\n",
    "  def forward(self, X):\n",
    "    # 3. define the feedforward algorithm of the model and return the final output\n",
    "    # Apply non-linear ReLU activation between subsequent layers\n",
    "    x1 = self.relu(self.fc1(X)) # Layer 1 -> Layer 2\n",
    "    x2 = self.relu(self.fc2(x1)) # Layer 2 -> Layer 3\n",
    "    output = self.fc3(x2)\n",
    "    return output\n",
    "\n",
    "#######\n",
    "\n",
    "print(X_train_torch.shape)\n",
    "print(num_features)\n",
    "print(num_classes)"
   ]
  },
  {
   "cell_type": "markdown",
   "metadata": {
    "id": "mERRi4Eamze0"
   },
   "source": [
    "#### #6. NN with CE Loss and GD\n",
    "* Use Cross Entropy Loss.\n",
    "* Use full-batch and plot the graph of loss vs number of epochs.\n",
    "* Note that you can re-use the training function `train_torch_model` (from part (b))."
   ]
  },
  {
   "cell_type": "code",
   "execution_count": 135,
   "metadata": {
    "colab": {
     "base_uri": "https://localhost:8080/",
     "height": 665,
     "referenced_widgets": [
      "2633bb30001241a0a16516df51ac5828",
      "24563052fb334f3b84d72b60a776403c",
      "4591c083dc064a758815a3091e1de643",
      "02350442f8184c11aac2e6b44837996d",
      "6412f0bea5f1474198182792055e4c26",
      "bcd0ae28b25c4f239aea61373569adf8",
      "67f0d8993a024d66ab3ef4ce18be2b72",
      "b1806e25b3fb494d80c66c805823cf9e",
      "f0c9b97bf9e14387a78af58d07178743",
      "81b79522e2754392987cd9b8b122ef70",
      "9299bea8958340e48072027e42600470"
     ]
    },
    "id": "pliWaICdmzEB",
    "outputId": "877aa630-f80c-451b-a9c0-814b9c2045be"
   },
   "outputs": [
    {
     "data": {
      "application/vnd.jupyter.widget-view+json": {
       "model_id": "2633bb30001241a0a16516df51ac5828",
       "version_major": 2,
       "version_minor": 0
      },
      "text/plain": [
       "  0%|          | 0/100000 [00:00<?, ?it/s]"
      ]
     },
     "metadata": {},
     "output_type": "display_data"
    },
    {
     "name": "stdout",
     "output_type": "stream",
     "text": [
      "Epoch: 0, Loss: 2.3116660118103027\n",
      "Epoch: 5000, Loss: 0.20603753626346588\n",
      "Epoch: 10000, Loss: 0.09224589914083481\n",
      "Epoch: 15000, Loss: 0.055876996368169785\n",
      "Epoch: 20000, Loss: 0.03684386983513832\n",
      "Epoch: 25000, Loss: 0.025357631966471672\n",
      "Epoch: 30000, Loss: 0.01810634322464466\n",
      "Break! Early stopping at epoch 31236\n"
     ]
    },
    {
     "data": {
      "text/plain": [
       "Text(0.5, 1.0, 'loss vs epochs')"
      ]
     },
     "execution_count": 135,
     "metadata": {},
     "output_type": "execute_result"
    },
    {
     "data": {
      "image/png": "[encoded data removed]",
      "text/plain": [
       "<Figure size 640x480 with 1 Axes>"
      ]
     },
     "metadata": {},
     "output_type": "display_data"
    }
   ],
   "source": [
    "#######\n",
    "model = NN_Model()\n",
    "criterion = torch.nn.CrossEntropyLoss()\n",
    "batch_size = X_train_torch.shape[0]\n",
    "model, losses = train_torch_model(\n",
    "    model=model,\n",
    "    batch_size=batch_size,\n",
    "    criterion=criterion,\n",
    "    max_epochs=max_epochs,\n",
    "    X_train=X_train_torch,\n",
    "    y_train=y_train_ohe_torch,\n",
    "    lr=lr,\n",
    "    tolerance=tolerance\n",
    ")\n",
    "\n",
    "import matplotlib.pyplot as plt\n",
    "plt.plot([x[0] for x in losses],[x[1] for x in losses])\n",
    "plt.xlabel('epochs')\n",
    "plt.ylabel('loss')\n",
    "plt.title('loss vs epochs')\n",
    "#######"
   ]
  },
  {
   "cell_type": "code",
   "execution_count": 136,
   "metadata": {
    "colab": {
     "base_uri": "https://localhost:8080/"
    },
    "id": "EoRJpn8QnZrX",
    "outputId": "e1276de1-7ea2-4f20-c4c0-dd312d87314c"
   },
   "outputs": [
    {
     "name": "stdout",
     "output_type": "stream",
     "text": [
      "Train accuracy: 0.9993041057759221\n",
      "Test accuracy: 0.9555555555555556\n"
     ]
    }
   ],
   "source": [
    "# print accuracies of model\n",
    "print_accuracies_torch(model, X_train_torch, X_test_torch, y_train, y_test)"
   ]
  },
  {
   "cell_type": "markdown",
   "metadata": {
    "id": "TP-JX4IznLQL"
   },
   "source": [
    "#### #7. NN with CE Loss and SGD\n",
    "* Re-train the above model with `batch_size=64`.\n",
    "* Also plot the graph of loss vs epochs."
   ]
  },
  {
   "cell_type": "code",
   "execution_count": 128,
   "metadata": {
    "colab": {
     "base_uri": "https://localhost:8080/",
     "height": 558,
     "referenced_widgets": [
      "1ec0318af72141c5a004959ac70dd2e4",
      "6a723d24799d4e4d907390ff3466390a",
      "c0a63f8af6d14892a4538752f3854adf",
      "482b54afcaad40b4a017c8c26876041c",
      "47620a1e3904432191a8095cd4c81e84",
      "4508f91f58084ee1a32dcc72620088ae",
      "800c9bcc3e36464588c24772ec3d9831",
      "da43b553edc2483fa4633775f07f93db",
      "eaa5d2842f8e45b0a9d249b978c3bb58",
      "1befcea6b79d47169964052d58ce9ee1",
      "21d5456313024a88bfa8732ccaf1ac99"
     ]
    },
    "id": "Sx8e5dvJnK1n",
    "outputId": "44cd4931-35d1-48dc-f2fd-e63b485ea382"
   },
   "outputs": [
    {
     "data": {
      "application/vnd.jupyter.widget-view+json": {
       "model_id": "1ec0318af72141c5a004959ac70dd2e4",
       "version_major": 2,
       "version_minor": 0
      },
      "text/plain": [
       "  0%|          | 0/100000 [00:00<?, ?it/s]"
      ]
     },
     "metadata": {},
     "output_type": "display_data"
    },
    {
     "name": "stdout",
     "output_type": "stream",
     "text": [
      "Epoch: 0, Loss: 2.35133957862854\n",
      "Break! Early stopping at epoch 1312\n"
     ]
    },
    {
     "data": {
      "text/plain": [
       "Text(0.5, 1.0, 'loss vs epochs')"
      ]
     },
     "execution_count": 128,
     "metadata": {},
     "output_type": "execute_result"
    },
    {
     "data": {
      "image/png": "[encoded data removed]",
      "text/plain": [
       "<Figure size 640x480 with 1 Axes>"
      ]
     },
     "metadata": {},
     "output_type": "display_data"
    }
   ],
   "source": [
    "#######\n",
    "model = NN_Model()\n",
    "criterion = torch.nn.CrossEntropyLoss()\n",
    "batch_size = 64\n",
    "model, losses = train_torch_model(\n",
    "    model=model,\n",
    "    batch_size=batch_size,\n",
    "    criterion=criterion,\n",
    "    max_epochs=max_epochs,\n",
    "    X_train=X_train_torch,\n",
    "    y_train=y_train_ohe_torch,\n",
    "    lr=lr,\n",
    "    tolerance=tolerance\n",
    ")\n",
    "\n",
    "import matplotlib.pyplot as plt\n",
    "plt.plot([x[0] for x in losses],[x[1] for x in losses])\n",
    "plt.xlabel('epochs')\n",
    "plt.ylabel('loss')\n",
    "plt.title('loss vs epochs')\n",
    "#######"
   ]
  },
  {
   "cell_type": "code",
   "execution_count": 129,
   "metadata": {
    "colab": {
     "base_uri": "https://localhost:8080/"
    },
    "id": "mr7M3xyknaLp",
    "outputId": "23ca36cb-7967-44ad-c9ee-82c45dbe281f"
   },
   "outputs": [
    {
     "name": "stdout",
     "output_type": "stream",
     "text": [
      "Train accuracy: 0.9993041057759221\n",
      "Test accuracy: 0.9638888888888889\n"
     ]
    }
   ],
   "source": [
    "# print accuracies of model\n",
    "print_accuracies_torch(model, X_train_torch, X_test_torch, y_train, y_test)"
   ]
  },
  {
   "cell_type": "markdown",
   "metadata": {
    "id": "szUeNm2kotqY"
   },
   "source": [
    "\n",
    "\n",
    "---\n",
    "\n"
   ]
  },
  {
   "cell_type": "markdown",
   "metadata": {
    "id": "RJ1HXvh_ovQ_"
   },
   "source": [
    "### *(e) Analyze the results* (10pt)\n",
    "\n",
    "In the above few examples, we performed several experiments with different batch size and loss functions. Now it's time to analyze our observations from the results.\n",
    "\n",
    "Recall that we trained the following models in this tutorial:\n",
    "\n",
    "1.   Linear Model - Scratch + MSE Loss + Full Batch (GD)\n",
    "2.   Linear Model - PyTorch + MSE Loss + Full Batch\n",
    "3.   Linear Model - PyTorch + MSE Loss + Mini Batch (SGD)\n",
    "4.   Linear Model - PyTorch + CE Loss + Full Batch\n",
    "5.   Linear Model - PyTorch + CE Loss + Mini Batch\n",
    "6.   NN Model - PyTorch + CE Loss + Full Batch\n",
    "7.   NN Model - PyTorch + CE Loss + Mini Batch\n"
   ]
  },
  {
   "cell_type": "code",
   "execution_count": 2,
   "metadata": {
    "colab": {
     "base_uri": "https://localhost:8080/",
     "height": 542
    },
    "id": "a23mYhUF0aEx",
    "outputId": "e980abb9-f195-4d90-9044-490fc8d6d32f",
    "scrolled": true
   },
   "outputs": [
    {
     "data": {
      "image/png": "[encoded data removed]",
      "text/plain": [
       "<Figure size 1000x600 with 1 Axes>"
      ]
     },
     "metadata": {},
     "output_type": "display_data"
    }
   ],
   "source": [
    "import matplotlib.pyplot as plt\n",
    "\n",
    "xlabels = ['linear-scratch', 'linear-torch-full', 'linear-torch-batch', \n",
    "           'linear-celoss-full', 'linear-celoss-batch', 'nn-full', 'nn-batch']\n",
    "train_accuracies = [0.8413361169102297, 0.9290187891440501, 0.9450243562978428, \n",
    "                    0.9798190675017397, 0.9979123173277662, 0.9986082115518441, 0.9993041057759221]\n",
    "test_accuracies = [0.7861111111111111, 0.9361111111111111, 0.95, \n",
    "                   0.9638888888888889, 0.9694444444444444, 0.9555555555555556, 0.9638888888888889]\n",
    "\n",
    "plt.figure(figsize=(10, 6))\n",
    "plt.plot(xlabels, train_accuracies, marker='o', label='Train Accuracy')\n",
    "plt.plot(xlabels, test_accuracies, marker='o', label='Test Accuracy')\n",
    "\n",
    "plt.xticks(rotation=45)\n",
    "plt.ylim(0.75, 1.01)\n",
    "plt.title('Accuracy vs. Model')\n",
    "plt.xlabel('Model')\n",
    "plt.ylabel('Accuracy')\n",
    "plt.grid(True)\n",
    "plt.legend()\n",
    "plt.tight_layout()\n",
    "plt.show()"
   ]
  },
  {
   "cell_type": "markdown",
   "metadata": {
    "id": "k6e4sulhvLp5"
   },
   "source": [
    "#### #1.Analysis\n",
    "\n",
    " (Four Questions)\n",
    " \n",
    "**# Effect of using full vs. batch gradient descent:**\n",
    "\n",
    "**Effect:** Mini-batch gradient descent helps mitigate overfitting and generally leads to better generalization performance.\n",
    "\n",
    "**Experimental Evidence:** Comparisons between (2 vs 3), (4 vs 5), and (6 vs 7) show that, after applying mini-batch gradient descent:\n",
    "\n",
    "- Both MSE and Cross-Entropy (CE) losses exhibit a clear performance gain in linear models—likely due to improved generalization.\n",
    "- For neural networks (NN), the improvements are less significant.\n",
    "\n",
    "**Possible Reasons:**\n",
    "\n",
    "- Full-batch gradient descent calculates exact gradients based on the entire dataset, which provides a stable update direction but may get stuck in local optima and is more prone to overfitting. (Both linear model settings using full batch showed signs of overfitting.)\n",
    "\n",
    "- Mini-batch gradient descent uses small random subsets of data to approximate the gradient, resulting in more frequent updates. The noise introduced by the approximation can help models escape local minima and improve generalization. It may also accelerate convergence in practice.\n",
    "\n",
    "\n",
    "**# Effect of using different loss strategy:**\n",
    "\n",
    "**Effect:** Cross-Entropy loss is more suitable for classification tasks and tends to result in better test accuracy.\n",
    "\n",
    "**Experimental Evidence:**\n",
    "\n",
    "- (2 vs 4) Full-batch Linear Model: CE outperforms MSE\n",
    "\n",
    "- (3 vs 5) Mini-batch Linear Model: CE also outperforms MSE\n",
    "\n",
    "**Possible Reasons:**\n",
    "\n",
    "- Cross-Entropy measures the KL divergence between predicted and true label distributions, making it more effective for classification tasks.\n",
    "\n",
    "- In contrast, Mean Squared Error (MSE) simply measures L2 distance between two vectors. When applied to one-hot encoded labels, it penalizes all output dimensions, even when the prediction is very close to the correct class, leading to suboptimal loss signals.\n",
    "\n",
    "\n",
    "**# Effect of using linear vs. non-linear models:**\n",
    "\n",
    "**Effect:** Neural networks (non-linear model) are generally better at capturing nonlinear patterns and tend to outperform linear models on high-dimensional or complex data. However, in this experiment, the performance gain is limited (MNIST is a relatively easy task).\n",
    "\n",
    "**Experimental Evidence:**\n",
    "- (4 vs 6), (5 vs 7) comparisons show that both linear models and neural networks achieve similar performance on the MNIST classification task.\n",
    "\n",
    "**Possible Reasons:** MNIST is relatively simple and highly linearly separable. As a result, linear models already achieve strong performance, and the added nonlinearity of neural networks offers little benefit in this case. This suggests the task does not demand complex feature representations.\n",
    "\n",
    "\n",
    "**# Training time per epoch in different cases:**\n",
    "\n",
    "**Observation:**\n",
    "\n",
    "- SGD-based training typically takes longer than GD\n",
    "- Training linear models tends to take longer than training NNs\n",
    "- There is no significant time difference between using CE and MSE\n",
    "\n",
    "**Possible Reasons:**\n",
    "\n",
    "- SGD vs GD -> (2 vs 3), (4 vs 5), (6 vs 7): Although SGD introduces noisy updates, it helps models avoid getting trapped in local minima and results in more stable training. Due to its faster early descent (as seen in training curves), it often triggers early stopping after fewer epochs—typically about half as many as full GD. Despite faster per-step computations, the frequent updates in mini-batch training increase total update counts, often resulting in longer overall training time than GD.\n",
    "\n",
    "- Linear vs NN -> (4 vs 6), (5 vs 7): Neural networks converge more quickly because of their stronger learning capacity, which trigger early stopping sooner than linear models."
   ]
  }
 ],
 "metadata": {
  "accelerator": "GPU",
  "colab": {
   "collapsed_sections": [
    "flKPhgoccRcL"
   ],
   "gpuType": "T4",
   "provenance": []
  },
  "kernelspec": {
   "display_name": "Python 3 (ipykernel)",
   "language": "python",
   "name": "python3"
  },
  "language_info": {
   "codemirror_mode": {
    "name": "ipython",
    "version": 3
   },
   "file_extension": ".py",
   "mimetype": "text/x-python",
   "name": "python",
   "nbconvert_exporter": "python",
   "pygments_lexer": "ipython3",
   "version": "3.11.5"
  },
  "widgets": {
   "application/vnd.jupyter.widget-state+json": {
    "00b6d062b6d6465e8f861cc52b9a80d2": {
     "model_module": "@jupyter-widgets/controls",
     "model_module_version": "1.5.0",
     "model_name": "HBoxModel",
     "state": {
      "_dom_classes": [],
      "_model_module": "@jupyter-widgets/controls",
      "_model_module_version": "1.5.0",
      "_model_name": "HBoxModel",
      "_view_count": null,
      "_view_module": "@jupyter-widgets/controls",
      "_view_module_version": "1.5.0",
      "_view_name": "HBoxView",
      "box_style": "",
      "children": [
       "IPY_MODEL_44dbc77cb86545859209fa42e8062076",
       "IPY_MODEL_d3d8cf0eab64442d8319fbfe71516811",
       "IPY_MODEL_99f6a4a23f5846f2afe7c4abaeee8ef8"
      ],
      "layout": "IPY_MODEL_c5b5345ab62549ed877dc9599e1efb93"
     }
    },
    "02350442f8184c11aac2e6b44837996d": {
     "model_module": "@jupyter-widgets/controls",
     "model_module_version": "1.5.0",
     "model_name": "HTMLModel",
     "state": {
      "_dom_classes": [],
      "_model_module": "@jupyter-widgets/controls",
      "_model_module_version": "1.5.0",
      "_model_name": "HTMLModel",
      "_view_count": null,
      "_view_module": "@jupyter-widgets/controls",
      "_view_module_version": "1.5.0",
      "_view_name": "HTMLView",
      "description": "",
      "description_tooltip": null,
      "layout": "IPY_MODEL_81b79522e2754392987cd9b8b122ef70",
      "placeholder": "​",
      "style": "IPY_MODEL_9299bea8958340e48072027e42600470",
      "value": " 31236/100000 [00:48&lt;01:39, 691.93it/s]"
     }
    },
    "12e1fe7855294fe98d650d5a9c175077": {
     "model_module": "@jupyter-widgets/controls",
     "model_module_version": "1.5.0",
     "model_name": "HTMLModel",
     "state": {
      "_dom_classes": [],
      "_model_module": "@jupyter-widgets/controls",
      "_model_module_version": "1.5.0",
      "_model_name": "HTMLModel",
      "_view_count": null,
      "_view_module": "@jupyter-widgets/controls",
      "_view_module_version": "1.5.0",
      "_view_name": "HTMLView",
      "description": "",
      "description_tooltip": null,
      "layout": "IPY_MODEL_40af87f13b2541e4a3403b171bd91903",
      "placeholder": "​",
      "style": "IPY_MODEL_8817f518a8734a36abb64ab6d2890a45",
      "value": " 56%"
     }
    },
    "1ac138490e2e4431923e1a5404f43075": {
     "model_module": "@jupyter-widgets/base",
     "model_module_version": "1.2.0",
     "model_name": "LayoutModel",
     "state": {
      "_model_module": "@jupyter-widgets/base",
      "_model_module_version": "1.2.0",
      "_model_name": "LayoutModel",
      "_view_count": null,
      "_view_module": "@jupyter-widgets/base",
      "_view_module_version": "1.2.0",
      "_view_name": "LayoutView",
      "align_content": null,
      "align_items": null,
      "align_self": null,
      "border": null,
      "bottom": null,
      "display": null,
      "flex": null,
      "flex_flow": null,
      "grid_area": null,
      "grid_auto_columns": null,
      "grid_auto_flow": null,
      "grid_auto_rows": null,
      "grid_column": null,
      "grid_gap": null,
      "grid_row": null,
      "grid_template_areas": null,
      "grid_template_columns": null,
      "grid_template_rows": null,
      "height": null,
      "justify_content": null,
      "justify_items": null,
      "left": null,
      "margin": null,
      "max_height": null,
      "max_width": null,
      "min_height": null,
      "min_width": null,
      "object_fit": null,
      "object_position": null,
      "order": null,
      "overflow": null,
      "overflow_x": null,
      "overflow_y": null,
      "padding": null,
      "right": null,
      "top": null,
      "visibility": null,
      "width": null
     }
    },
    "1befcea6b79d47169964052d58ce9ee1": {
     "model_module": "@jupyter-widgets/base",
     "model_module_version": "1.2.0",
     "model_name": "LayoutModel",
     "state": {
      "_model_module": "@jupyter-widgets/base",
      "_model_module_version": "1.2.0",
      "_model_name": "LayoutModel",
      "_view_count": null,
      "_view_module": "@jupyter-widgets/base",
      "_view_module_version": "1.2.0",
      "_view_name": "LayoutView",
      "align_content": null,
      "align_items": null,
      "align_self": null,
      "border": null,
      "bottom": null,
      "display": null,
      "flex": null,
      "flex_flow": null,
      "grid_area": null,
      "grid_auto_columns": null,
      "grid_auto_flow": null,
      "grid_auto_rows": null,
      "grid_column": null,
      "grid_gap": null,
      "grid_row": null,
      "grid_template_areas": null,
      "grid_template_columns": null,
      "grid_template_rows": null,
      "height": null,
      "justify_content": null,
      "justify_items": null,
      "left": null,
      "margin": null,
      "max_height": null,
      "max_width": null,
      "min_height": null,
      "min_width": null,
      "object_fit": null,
      "object_position": null,
      "order": null,
      "overflow": null,
      "overflow_x": null,
      "overflow_y": null,
      "padding": null,
      "right": null,
      "top": null,
      "visibility": null,
      "width": null
     }
    },
    "1d42beb396d145f9b8994df395b2915e": {
     "model_module": "@jupyter-widgets/base",
     "model_module_version": "1.2.0",
     "model_name": "LayoutModel",
     "state": {
      "_model_module": "@jupyter-widgets/base",
      "_model_module_version": "1.2.0",
      "_model_name": "LayoutModel",
      "_view_count": null,
      "_view_module": "@jupyter-widgets/base",
      "_view_module_version": "1.2.0",
      "_view_name": "LayoutView",
      "align_content": null,
      "align_items": null,
      "align_self": null,
      "border": null,
      "bottom": null,
      "display": null,
      "flex": null,
      "flex_flow": null,
      "grid_area": null,
      "grid_auto_columns": null,
      "grid_auto_flow": null,
      "grid_auto_rows": null,
      "grid_column": null,
      "grid_gap": null,
      "grid_row": null,
      "grid_template_areas": null,
      "grid_template_columns": null,
      "grid_template_rows": null,
      "height": null,
      "justify_content": null,
      "justify_items": null,
      "left": null,
      "margin": null,
      "max_height": null,
      "max_width": null,
      "min_height": null,
      "min_width": null,
      "object_fit": null,
      "object_position": null,
      "order": null,
      "overflow": null,
      "overflow_x": null,
      "overflow_y": null,
      "padding": null,
      "right": null,
      "top": null,
      "visibility": null,
      "width": null
     }
    },
    "1ec0318af72141c5a004959ac70dd2e4": {
     "model_module": "@jupyter-widgets/controls",
     "model_module_version": "1.5.0",
     "model_name": "HBoxModel",
     "state": {
      "_dom_classes": [],
      "_model_module": "@jupyter-widgets/controls",
      "_model_module_version": "1.5.0",
      "_model_name": "HBoxModel",
      "_view_count": null,
      "_view_module": "@jupyter-widgets/controls",
      "_view_module_version": "1.5.0",
      "_view_name": "HBoxView",
      "box_style": "",
      "children": [
       "IPY_MODEL_6a723d24799d4e4d907390ff3466390a",
       "IPY_MODEL_c0a63f8af6d14892a4538752f3854adf",
       "IPY_MODEL_482b54afcaad40b4a017c8c26876041c"
      ],
      "layout": "IPY_MODEL_47620a1e3904432191a8095cd4c81e84"
     }
    },
    "215ceb95a59f4fab8ee482d3e928b035": {
     "model_module": "@jupyter-widgets/controls",
     "model_module_version": "1.5.0",
     "model_name": "HTMLModel",
     "state": {
      "_dom_classes": [],
      "_model_module": "@jupyter-widgets/controls",
      "_model_module_version": "1.5.0",
      "_model_name": "HTMLModel",
      "_view_count": null,
      "_view_module": "@jupyter-widgets/controls",
      "_view_module_version": "1.5.0",
      "_view_name": "HTMLView",
      "description": "",
      "description_tooltip": null,
      "layout": "IPY_MODEL_4c86a5047a014174b350a0526c149f2b",
      "placeholder": "​",
      "style": "IPY_MODEL_ce166b812f314580ab254c6a4f1adcf6",
      "value": "  2%"
     }
    },
    "21d5456313024a88bfa8732ccaf1ac99": {
     "model_module": "@jupyter-widgets/controls",
     "model_module_version": "1.5.0",
     "model_name": "DescriptionStyleModel",
     "state": {
      "_model_module": "@jupyter-widgets/controls",
      "_model_module_version": "1.5.0",
      "_model_name": "DescriptionStyleModel",
      "_view_count": null,
      "_view_module": "@jupyter-widgets/base",
      "_view_module_version": "1.2.0",
      "_view_name": "StyleView",
      "description_width": ""
     }
    },
    "238d78c6f83c42fba7e5f7398270b927": {
     "model_module": "@jupyter-widgets/controls",
     "model_module_version": "1.5.0",
     "model_name": "ProgressStyleModel",
     "state": {
      "_model_module": "@jupyter-widgets/controls",
      "_model_module_version": "1.5.0",
      "_model_name": "ProgressStyleModel",
      "_view_count": null,
      "_view_module": "@jupyter-widgets/base",
      "_view_module_version": "1.2.0",
      "_view_name": "StyleView",
      "bar_color": null,
      "description_width": ""
     }
    },
    "24563052fb334f3b84d72b60a776403c": {
     "model_module": "@jupyter-widgets/controls",
     "model_module_version": "1.5.0",
     "model_name": "HTMLModel",
     "state": {
      "_dom_classes": [],
      "_model_module": "@jupyter-widgets/controls",
      "_model_module_version": "1.5.0",
      "_model_name": "HTMLModel",
      "_view_count": null,
      "_view_module": "@jupyter-widgets/controls",
      "_view_module_version": "1.5.0",
      "_view_name": "HTMLView",
      "description": "",
      "description_tooltip": null,
      "layout": "IPY_MODEL_bcd0ae28b25c4f239aea61373569adf8",
      "placeholder": "​",
      "style": "IPY_MODEL_67f0d8993a024d66ab3ef4ce18be2b72",
      "value": " 31%"
     }
    },
    "245eba5759064cc489766b0c7eeaf368": {
     "model_module": "@jupyter-widgets/controls",
     "model_module_version": "1.5.0",
     "model_name": "HBoxModel",
     "state": {
      "_dom_classes": [],
      "_model_module": "@jupyter-widgets/controls",
      "_model_module_version": "1.5.0",
      "_model_name": "HBoxModel",
      "_view_count": null,
      "_view_module": "@jupyter-widgets/controls",
      "_view_module_version": "1.5.0",
      "_view_name": "HBoxView",
      "box_style": "",
      "children": [
       "IPY_MODEL_e2b3657eefde48688cd4eeb1da2265ab",
       "IPY_MODEL_2f3336f4a44c4a27b76534fcf5593bdf",
       "IPY_MODEL_5c083813e4ba4d94ba472986b8cc5c7d"
      ],
      "layout": "IPY_MODEL_fcfffd8915584b70b3b5b527a8599c10"
     }
    },
    "24d72a5de9924f58b4da9f54082ca15e": {
     "model_module": "@jupyter-widgets/base",
     "model_module_version": "1.2.0",
     "model_name": "LayoutModel",
     "state": {
      "_model_module": "@jupyter-widgets/base",
      "_model_module_version": "1.2.0",
      "_model_name": "LayoutModel",
      "_view_count": null,
      "_view_module": "@jupyter-widgets/base",
      "_view_module_version": "1.2.0",
      "_view_name": "LayoutView",
      "align_content": null,
      "align_items": null,
      "align_self": null,
      "border": null,
      "bottom": null,
      "display": null,
      "flex": null,
      "flex_flow": null,
      "grid_area": null,
      "grid_auto_columns": null,
      "grid_auto_flow": null,
      "grid_auto_rows": null,
      "grid_column": null,
      "grid_gap": null,
      "grid_row": null,
      "grid_template_areas": null,
      "grid_template_columns": null,
      "grid_template_rows": null,
      "height": null,
      "justify_content": null,
      "justify_items": null,
      "left": null,
      "margin": null,
      "max_height": null,
      "max_width": null,
      "min_height": null,
      "min_width": null,
      "object_fit": null,
      "object_position": null,
      "order": null,
      "overflow": null,
      "overflow_x": null,
      "overflow_y": null,
      "padding": null,
      "right": null,
      "top": null,
      "visibility": null,
      "width": null
     }
    },
    "25fdbba8bc374623bd56596753214d30": {
     "model_module": "@jupyter-widgets/base",
     "model_module_version": "1.2.0",
     "model_name": "LayoutModel",
     "state": {
      "_model_module": "@jupyter-widgets/base",
      "_model_module_version": "1.2.0",
      "_model_name": "LayoutModel",
      "_view_count": null,
      "_view_module": "@jupyter-widgets/base",
      "_view_module_version": "1.2.0",
      "_view_name": "LayoutView",
      "align_content": null,
      "align_items": null,
      "align_self": null,
      "border": null,
      "bottom": null,
      "display": null,
      "flex": null,
      "flex_flow": null,
      "grid_area": null,
      "grid_auto_columns": null,
      "grid_auto_flow": null,
      "grid_auto_rows": null,
      "grid_column": null,
      "grid_gap": null,
      "grid_row": null,
      "grid_template_areas": null,
      "grid_template_columns": null,
      "grid_template_rows": null,
      "height": null,
      "justify_content": null,
      "justify_items": null,
      "left": null,
      "margin": null,
      "max_height": null,
      "max_width": null,
      "min_height": null,
      "min_width": null,
      "object_fit": null,
      "object_position": null,
      "order": null,
      "overflow": null,
      "overflow_x": null,
      "overflow_y": null,
      "padding": null,
      "right": null,
      "top": null,
      "visibility": null,
      "width": null
     }
    },
    "2633bb30001241a0a16516df51ac5828": {
     "model_module": "@jupyter-widgets/controls",
     "model_module_version": "1.5.0",
     "model_name": "HBoxModel",
     "state": {
      "_dom_classes": [],
      "_model_module": "@jupyter-widgets/controls",
      "_model_module_version": "1.5.0",
      "_model_name": "HBoxModel",
      "_view_count": null,
      "_view_module": "@jupyter-widgets/controls",
      "_view_module_version": "1.5.0",
      "_view_name": "HBoxView",
      "box_style": "",
      "children": [
       "IPY_MODEL_24563052fb334f3b84d72b60a776403c",
       "IPY_MODEL_4591c083dc064a758815a3091e1de643",
       "IPY_MODEL_02350442f8184c11aac2e6b44837996d"
      ],
      "layout": "IPY_MODEL_6412f0bea5f1474198182792055e4c26"
     }
    },
    "2c3ea4af6e804d00832ec42b1e1d366b": {
     "model_module": "@jupyter-widgets/controls",
     "model_module_version": "1.5.0",
     "model_name": "ProgressStyleModel",
     "state": {
      "_model_module": "@jupyter-widgets/controls",
      "_model_module_version": "1.5.0",
      "_model_name": "ProgressStyleModel",
      "_view_count": null,
      "_view_module": "@jupyter-widgets/base",
      "_view_module_version": "1.2.0",
      "_view_name": "StyleView",
      "bar_color": null,
      "description_width": ""
     }
    },
    "2c84f670481047f79ef5c26809fc67a8": {
     "model_module": "@jupyter-widgets/controls",
     "model_module_version": "1.5.0",
     "model_name": "ProgressStyleModel",
     "state": {
      "_model_module": "@jupyter-widgets/controls",
      "_model_module_version": "1.5.0",
      "_model_name": "ProgressStyleModel",
      "_view_count": null,
      "_view_module": "@jupyter-widgets/base",
      "_view_module_version": "1.2.0",
      "_view_name": "StyleView",
      "bar_color": null,
      "description_width": ""
     }
    },
    "2f3336f4a44c4a27b76534fcf5593bdf": {
     "model_module": "@jupyter-widgets/controls",
     "model_module_version": "1.5.0",
     "model_name": "FloatProgressModel",
     "state": {
      "_dom_classes": [],
      "_model_module": "@jupyter-widgets/controls",
      "_model_module_version": "1.5.0",
      "_model_name": "FloatProgressModel",
      "_view_count": null,
      "_view_module": "@jupyter-widgets/controls",
      "_view_module_version": "1.5.0",
      "_view_name": "ProgressView",
      "bar_style": "danger",
      "description": "",
      "description_tooltip": null,
      "layout": "IPY_MODEL_af2b4899b1db41e596a9d76d7779c384",
      "max": 100000,
      "min": 0,
      "orientation": "horizontal",
      "style": "IPY_MODEL_80370be96b7843bb8d5045ae75a4d0bc",
      "value": 23106
     }
    },
    "2fd30c88c52e4365bffb8accad5e2176": {
     "model_module": "@jupyter-widgets/controls",
     "model_module_version": "1.5.0",
     "model_name": "HTMLModel",
     "state": {
      "_dom_classes": [],
      "_model_module": "@jupyter-widgets/controls",
      "_model_module_version": "1.5.0",
      "_model_name": "HTMLModel",
      "_view_count": null,
      "_view_module": "@jupyter-widgets/controls",
      "_view_module_version": "1.5.0",
      "_view_name": "HTMLView",
      "description": "",
      "description_tooltip": null,
      "layout": "IPY_MODEL_24d72a5de9924f58b4da9f54082ca15e",
      "placeholder": "​",
      "style": "IPY_MODEL_6dcbc3eae4f74e6a860640ff30883efc",
      "value": "  6%"
     }
    },
    "36ad271f92dc4822bddcb10b61fa14b3": {
     "model_module": "@jupyter-widgets/base",
     "model_module_version": "1.2.0",
     "model_name": "LayoutModel",
     "state": {
      "_model_module": "@jupyter-widgets/base",
      "_model_module_version": "1.2.0",
      "_model_name": "LayoutModel",
      "_view_count": null,
      "_view_module": "@jupyter-widgets/base",
      "_view_module_version": "1.2.0",
      "_view_name": "LayoutView",
      "align_content": null,
      "align_items": null,
      "align_self": null,
      "border": null,
      "bottom": null,
      "display": null,
      "flex": null,
      "flex_flow": null,
      "grid_area": null,
      "grid_auto_columns": null,
      "grid_auto_flow": null,
      "grid_auto_rows": null,
      "grid_column": null,
      "grid_gap": null,
      "grid_row": null,
      "grid_template_areas": null,
      "grid_template_columns": null,
      "grid_template_rows": null,
      "height": null,
      "justify_content": null,
      "justify_items": null,
      "left": null,
      "margin": null,
      "max_height": null,
      "max_width": null,
      "min_height": null,
      "min_width": null,
      "object_fit": null,
      "object_position": null,
      "order": null,
      "overflow": null,
      "overflow_x": null,
      "overflow_y": null,
      "padding": null,
      "right": null,
      "top": null,
      "visibility": null,
      "width": null
     }
    },
    "40af87f13b2541e4a3403b171bd91903": {
     "model_module": "@jupyter-widgets/base",
     "model_module_version": "1.2.0",
     "model_name": "LayoutModel",
     "state": {
      "_model_module": "@jupyter-widgets/base",
      "_model_module_version": "1.2.0",
      "_model_name": "LayoutModel",
      "_view_count": null,
      "_view_module": "@jupyter-widgets/base",
      "_view_module_version": "1.2.0",
      "_view_name": "LayoutView",
      "align_content": null,
      "align_items": null,
      "align_self": null,
      "border": null,
      "bottom": null,
      "display": null,
      "flex": null,
      "flex_flow": null,
      "grid_area": null,
      "grid_auto_columns": null,
      "grid_auto_flow": null,
      "grid_auto_rows": null,
      "grid_column": null,
      "grid_gap": null,
      "grid_row": null,
      "grid_template_areas": null,
      "grid_template_columns": null,
      "grid_template_rows": null,
      "height": null,
      "justify_content": null,
      "justify_items": null,
      "left": null,
      "margin": null,
      "max_height": null,
      "max_width": null,
      "min_height": null,
      "min_width": null,
      "object_fit": null,
      "object_position": null,
      "order": null,
      "overflow": null,
      "overflow_x": null,
      "overflow_y": null,
      "padding": null,
      "right": null,
      "top": null,
      "visibility": null,
      "width": null
     }
    },
    "44dbc77cb86545859209fa42e8062076": {
     "model_module": "@jupyter-widgets/controls",
     "model_module_version": "1.5.0",
     "model_name": "HTMLModel",
     "state": {
      "_dom_classes": [],
      "_model_module": "@jupyter-widgets/controls",
      "_model_module_version": "1.5.0",
      "_model_name": "HTMLModel",
      "_view_count": null,
      "_view_module": "@jupyter-widgets/controls",
      "_view_module_version": "1.5.0",
      "_view_name": "HTMLView",
      "description": "",
      "description_tooltip": null,
      "layout": "IPY_MODEL_5662dd17aabc429badbf1597ea09603f",
      "placeholder": "​",
      "style": "IPY_MODEL_4cb551550fcf44368e1a4b6ac03b3fe0",
      "value": " 52%"
     }
    },
    "4508f91f58084ee1a32dcc72620088ae": {
     "model_module": "@jupyter-widgets/base",
     "model_module_version": "1.2.0",
     "model_name": "LayoutModel",
     "state": {
      "_model_module": "@jupyter-widgets/base",
      "_model_module_version": "1.2.0",
      "_model_name": "LayoutModel",
      "_view_count": null,
      "_view_module": "@jupyter-widgets/base",
      "_view_module_version": "1.2.0",
      "_view_name": "LayoutView",
      "align_content": null,
      "align_items": null,
      "align_self": null,
      "border": null,
      "bottom": null,
      "display": null,
      "flex": null,
      "flex_flow": null,
      "grid_area": null,
      "grid_auto_columns": null,
      "grid_auto_flow": null,
      "grid_auto_rows": null,
      "grid_column": null,
      "grid_gap": null,
      "grid_row": null,
      "grid_template_areas": null,
      "grid_template_columns": null,
      "grid_template_rows": null,
      "height": null,
      "justify_content": null,
      "justify_items": null,
      "left": null,
      "margin": null,
      "max_height": null,
      "max_width": null,
      "min_height": null,
      "min_width": null,
      "object_fit": null,
      "object_position": null,
      "order": null,
      "overflow": null,
      "overflow_x": null,
      "overflow_y": null,
      "padding": null,
      "right": null,
      "top": null,
      "visibility": null,
      "width": null
     }
    },
    "4591c083dc064a758815a3091e1de643": {
     "model_module": "@jupyter-widgets/controls",
     "model_module_version": "1.5.0",
     "model_name": "FloatProgressModel",
     "state": {
      "_dom_classes": [],
      "_model_module": "@jupyter-widgets/controls",
      "_model_module_version": "1.5.0",
      "_model_name": "FloatProgressModel",
      "_view_count": null,
      "_view_module": "@jupyter-widgets/controls",
      "_view_module_version": "1.5.0",
      "_view_name": "ProgressView",
      "bar_style": "danger",
      "description": "",
      "description_tooltip": null,
      "layout": "IPY_MODEL_b1806e25b3fb494d80c66c805823cf9e",
      "max": 100000,
      "min": 0,
      "orientation": "horizontal",
      "style": "IPY_MODEL_f0c9b97bf9e14387a78af58d07178743",
      "value": 31236
     }
    },
    "47620a1e3904432191a8095cd4c81e84": {
     "model_module": "@jupyter-widgets/base",
     "model_module_version": "1.2.0",
     "model_name": "LayoutModel",
     "state": {
      "_model_module": "@jupyter-widgets/base",
      "_model_module_version": "1.2.0",
      "_model_name": "LayoutModel",
      "_view_count": null,
      "_view_module": "@jupyter-widgets/base",
      "_view_module_version": "1.2.0",
      "_view_name": "LayoutView",
      "align_content": null,
      "align_items": null,
      "align_self": null,
      "border": null,
      "bottom": null,
      "display": null,
      "flex": null,
      "flex_flow": null,
      "grid_area": null,
      "grid_auto_columns": null,
      "grid_auto_flow": null,
      "grid_auto_rows": null,
      "grid_column": null,
      "grid_gap": null,
      "grid_row": null,
      "grid_template_areas": null,
      "grid_template_columns": null,
      "grid_template_rows": null,
      "height": null,
      "justify_content": null,
      "justify_items": null,
      "left": null,
      "margin": null,
      "max_height": null,
      "max_width": null,
      "min_height": null,
      "min_width": null,
      "object_fit": null,
      "object_position": null,
      "order": null,
      "overflow": null,
      "overflow_x": null,
      "overflow_y": null,
      "padding": null,
      "right": null,
      "top": null,
      "visibility": null,
      "width": null
     }
    },
    "482b54afcaad40b4a017c8c26876041c": {
     "model_module": "@jupyter-widgets/controls",
     "model_module_version": "1.5.0",
     "model_name": "HTMLModel",
     "state": {
      "_dom_classes": [],
      "_model_module": "@jupyter-widgets/controls",
      "_model_module_version": "1.5.0",
      "_model_name": "HTMLModel",
      "_view_count": null,
      "_view_module": "@jupyter-widgets/controls",
      "_view_module_version": "1.5.0",
      "_view_name": "HTMLView",
      "description": "",
      "description_tooltip": null,
      "layout": "IPY_MODEL_1befcea6b79d47169964052d58ce9ee1",
      "placeholder": "​",
      "style": "IPY_MODEL_21d5456313024a88bfa8732ccaf1ac99",
      "value": " 1312/100000 [00:42&lt;51:49, 31.74it/s]"
     }
    },
    "48bc48fbb0a845d584aefaa3ab8abe83": {
     "model_module": "@jupyter-widgets/controls",
     "model_module_version": "1.5.0",
     "model_name": "HBoxModel",
     "state": {
      "_dom_classes": [],
      "_model_module": "@jupyter-widgets/controls",
      "_model_module_version": "1.5.0",
      "_model_name": "HBoxModel",
      "_view_count": null,
      "_view_module": "@jupyter-widgets/controls",
      "_view_module_version": "1.5.0",
      "_view_name": "HBoxView",
      "box_style": "",
      "children": [
       "IPY_MODEL_215ceb95a59f4fab8ee482d3e928b035",
       "IPY_MODEL_c73da06c21eb4989937baebe13be8c33",
       "IPY_MODEL_77a616d072664fb0933fbbe34d9d4b1b"
      ],
      "layout": "IPY_MODEL_36ad271f92dc4822bddcb10b61fa14b3"
     }
    },
    "4c86a5047a014174b350a0526c149f2b": {
     "model_module": "@jupyter-widgets/base",
     "model_module_version": "1.2.0",
     "model_name": "LayoutModel",
     "state": {
      "_model_module": "@jupyter-widgets/base",
      "_model_module_version": "1.2.0",
      "_model_name": "LayoutModel",
      "_view_count": null,
      "_view_module": "@jupyter-widgets/base",
      "_view_module_version": "1.2.0",
      "_view_name": "LayoutView",
      "align_content": null,
      "align_items": null,
      "align_self": null,
      "border": null,
      "bottom": null,
      "display": null,
      "flex": null,
      "flex_flow": null,
      "grid_area": null,
      "grid_auto_columns": null,
      "grid_auto_flow": null,
      "grid_auto_rows": null,
      "grid_column": null,
      "grid_gap": null,
      "grid_row": null,
      "grid_template_areas": null,
      "grid_template_columns": null,
      "grid_template_rows": null,
      "height": null,
      "justify_content": null,
      "justify_items": null,
      "left": null,
      "margin": null,
      "max_height": null,
      "max_width": null,
      "min_height": null,
      "min_width": null,
      "object_fit": null,
      "object_position": null,
      "order": null,
      "overflow": null,
      "overflow_x": null,
      "overflow_y": null,
      "padding": null,
      "right": null,
      "top": null,
      "visibility": null,
      "width": null
     }
    },
    "4cb551550fcf44368e1a4b6ac03b3fe0": {
     "model_module": "@jupyter-widgets/controls",
     "model_module_version": "1.5.0",
     "model_name": "DescriptionStyleModel",
     "state": {
      "_model_module": "@jupyter-widgets/controls",
      "_model_module_version": "1.5.0",
      "_model_name": "DescriptionStyleModel",
      "_view_count": null,
      "_view_module": "@jupyter-widgets/base",
      "_view_module_version": "1.2.0",
      "_view_name": "StyleView",
      "description_width": ""
     }
    },
    "5662dd17aabc429badbf1597ea09603f": {
     "model_module": "@jupyter-widgets/base",
     "model_module_version": "1.2.0",
     "model_name": "LayoutModel",
     "state": {
      "_model_module": "@jupyter-widgets/base",
      "_model_module_version": "1.2.0",
      "_model_name": "LayoutModel",
      "_view_count": null,
      "_view_module": "@jupyter-widgets/base",
      "_view_module_version": "1.2.0",
      "_view_name": "LayoutView",
      "align_content": null,
      "align_items": null,
      "align_self": null,
      "border": null,
      "bottom": null,
      "display": null,
      "flex": null,
      "flex_flow": null,
      "grid_area": null,
      "grid_auto_columns": null,
      "grid_auto_flow": null,
      "grid_auto_rows": null,
      "grid_column": null,
      "grid_gap": null,
      "grid_row": null,
      "grid_template_areas": null,
      "grid_template_columns": null,
      "grid_template_rows": null,
      "height": null,
      "justify_content": null,
      "justify_items": null,
      "left": null,
      "margin": null,
      "max_height": null,
      "max_width": null,
      "min_height": null,
      "min_width": null,
      "object_fit": null,
      "object_position": null,
      "order": null,
      "overflow": null,
      "overflow_x": null,
      "overflow_y": null,
      "padding": null,
      "right": null,
      "top": null,
      "visibility": null,
      "width": null
     }
    },
    "5c083813e4ba4d94ba472986b8cc5c7d": {
     "model_module": "@jupyter-widgets/controls",
     "model_module_version": "1.5.0",
     "model_name": "HTMLModel",
     "state": {
      "_dom_classes": [],
      "_model_module": "@jupyter-widgets/controls",
      "_model_module_version": "1.5.0",
      "_model_name": "HTMLModel",
      "_view_count": null,
      "_view_module": "@jupyter-widgets/controls",
      "_view_module_version": "1.5.0",
      "_view_name": "HTMLView",
      "description": "",
      "description_tooltip": null,
      "layout": "IPY_MODEL_25fdbba8bc374623bd56596753214d30",
      "placeholder": "​",
      "style": "IPY_MODEL_a71d568d54014cbca07bbc86f3b2dc61",
      "value": " 23106/100000 [07:27&lt;24:46, 51.72it/s]"
     }
    },
    "615781eddfc34a9482acc8106529fcc8": {
     "model_module": "@jupyter-widgets/base",
     "model_module_version": "1.2.0",
     "model_name": "LayoutModel",
     "state": {
      "_model_module": "@jupyter-widgets/base",
      "_model_module_version": "1.2.0",
      "_model_name": "LayoutModel",
      "_view_count": null,
      "_view_module": "@jupyter-widgets/base",
      "_view_module_version": "1.2.0",
      "_view_name": "LayoutView",
      "align_content": null,
      "align_items": null,
      "align_self": null,
      "border": null,
      "bottom": null,
      "display": null,
      "flex": null,
      "flex_flow": null,
      "grid_area": null,
      "grid_auto_columns": null,
      "grid_auto_flow": null,
      "grid_auto_rows": null,
      "grid_column": null,
      "grid_gap": null,
      "grid_row": null,
      "grid_template_areas": null,
      "grid_template_columns": null,
      "grid_template_rows": null,
      "height": null,
      "justify_content": null,
      "justify_items": null,
      "left": null,
      "margin": null,
      "max_height": null,
      "max_width": null,
      "min_height": null,
      "min_width": null,
      "object_fit": null,
      "object_position": null,
      "order": null,
      "overflow": null,
      "overflow_x": null,
      "overflow_y": null,
      "padding": null,
      "right": null,
      "top": null,
      "visibility": null,
      "width": null
     }
    },
    "6412f0bea5f1474198182792055e4c26": {
     "model_module": "@jupyter-widgets/base",
     "model_module_version": "1.2.0",
     "model_name": "LayoutModel",
     "state": {
      "_model_module": "@jupyter-widgets/base",
      "_model_module_version": "1.2.0",
      "_model_name": "LayoutModel",
      "_view_count": null,
      "_view_module": "@jupyter-widgets/base",
      "_view_module_version": "1.2.0",
      "_view_name": "LayoutView",
      "align_content": null,
      "align_items": null,
      "align_self": null,
      "border": null,
      "bottom": null,
      "display": null,
      "flex": null,
      "flex_flow": null,
      "grid_area": null,
      "grid_auto_columns": null,
      "grid_auto_flow": null,
      "grid_auto_rows": null,
      "grid_column": null,
      "grid_gap": null,
      "grid_row": null,
      "grid_template_areas": null,
      "grid_template_columns": null,
      "grid_template_rows": null,
      "height": null,
      "justify_content": null,
      "justify_items": null,
      "left": null,
      "margin": null,
      "max_height": null,
      "max_width": null,
      "min_height": null,
      "min_width": null,
      "object_fit": null,
      "object_position": null,
      "order": null,
      "overflow": null,
      "overflow_x": null,
      "overflow_y": null,
      "padding": null,
      "right": null,
      "top": null,
      "visibility": null,
      "width": null
     }
    },
    "668ae4dfe29647a2a155f966dcbe1b41": {
     "model_module": "@jupyter-widgets/base",
     "model_module_version": "1.2.0",
     "model_name": "LayoutModel",
     "state": {
      "_model_module": "@jupyter-widgets/base",
      "_model_module_version": "1.2.0",
      "_model_name": "LayoutModel",
      "_view_count": null,
      "_view_module": "@jupyter-widgets/base",
      "_view_module_version": "1.2.0",
      "_view_name": "LayoutView",
      "align_content": null,
      "align_items": null,
      "align_self": null,
      "border": null,
      "bottom": null,
      "display": null,
      "flex": null,
      "flex_flow": null,
      "grid_area": null,
      "grid_auto_columns": null,
      "grid_auto_flow": null,
      "grid_auto_rows": null,
      "grid_column": null,
      "grid_gap": null,
      "grid_row": null,
      "grid_template_areas": null,
      "grid_template_columns": null,
      "grid_template_rows": null,
      "height": null,
      "justify_content": null,
      "justify_items": null,
      "left": null,
      "margin": null,
      "max_height": null,
      "max_width": null,
      "min_height": null,
      "min_width": null,
      "object_fit": null,
      "object_position": null,
      "order": null,
      "overflow": null,
      "overflow_x": null,
      "overflow_y": null,
      "padding": null,
      "right": null,
      "top": null,
      "visibility": null,
      "width": null
     }
    },
    "67f0d8993a024d66ab3ef4ce18be2b72": {
     "model_module": "@jupyter-widgets/controls",
     "model_module_version": "1.5.0",
     "model_name": "DescriptionStyleModel",
     "state": {
      "_model_module": "@jupyter-widgets/controls",
      "_model_module_version": "1.5.0",
      "_model_name": "DescriptionStyleModel",
      "_view_count": null,
      "_view_module": "@jupyter-widgets/base",
      "_view_module_version": "1.2.0",
      "_view_name": "StyleView",
      "description_width": ""
     }
    },
    "6a0ad28822d14fec9994ed502b2b9f29": {
     "model_module": "@jupyter-widgets/controls",
     "model_module_version": "1.5.0",
     "model_name": "DescriptionStyleModel",
     "state": {
      "_model_module": "@jupyter-widgets/controls",
      "_model_module_version": "1.5.0",
      "_model_name": "DescriptionStyleModel",
      "_view_count": null,
      "_view_module": "@jupyter-widgets/base",
      "_view_module_version": "1.2.0",
      "_view_name": "StyleView",
      "description_width": ""
     }
    },
    "6a723d24799d4e4d907390ff3466390a": {
     "model_module": "@jupyter-widgets/controls",
     "model_module_version": "1.5.0",
     "model_name": "HTMLModel",
     "state": {
      "_dom_classes": [],
      "_model_module": "@jupyter-widgets/controls",
      "_model_module_version": "1.5.0",
      "_model_name": "HTMLModel",
      "_view_count": null,
      "_view_module": "@jupyter-widgets/controls",
      "_view_module_version": "1.5.0",
      "_view_name": "HTMLView",
      "description": "",
      "description_tooltip": null,
      "layout": "IPY_MODEL_4508f91f58084ee1a32dcc72620088ae",
      "placeholder": "​",
      "style": "IPY_MODEL_800c9bcc3e36464588c24772ec3d9831",
      "value": "  1%"
     }
    },
    "6d4d701c914b406ba024c27e751a6d6d": {
     "model_module": "@jupyter-widgets/controls",
     "model_module_version": "1.5.0",
     "model_name": "HTMLModel",
     "state": {
      "_dom_classes": [],
      "_model_module": "@jupyter-widgets/controls",
      "_model_module_version": "1.5.0",
      "_model_name": "HTMLModel",
      "_view_count": null,
      "_view_module": "@jupyter-widgets/controls",
      "_view_module_version": "1.5.0",
      "_view_name": "HTMLView",
      "description": "",
      "description_tooltip": null,
      "layout": "IPY_MODEL_615781eddfc34a9482acc8106529fcc8",
      "placeholder": "​",
      "style": "IPY_MODEL_cc19b8e9350b45fdba43edf5bfcc085f",
      "value": " 6200/100000 [00:05&lt;01:11, 1312.49it/s]"
     }
    },
    "6dcbc3eae4f74e6a860640ff30883efc": {
     "model_module": "@jupyter-widgets/controls",
     "model_module_version": "1.5.0",
     "model_name": "DescriptionStyleModel",
     "state": {
      "_model_module": "@jupyter-widgets/controls",
      "_model_module_version": "1.5.0",
      "_model_name": "DescriptionStyleModel",
      "_view_count": null,
      "_view_module": "@jupyter-widgets/base",
      "_view_module_version": "1.2.0",
      "_view_name": "StyleView",
      "description_width": ""
     }
    },
    "77a616d072664fb0933fbbe34d9d4b1b": {
     "model_module": "@jupyter-widgets/controls",
     "model_module_version": "1.5.0",
     "model_name": "HTMLModel",
     "state": {
      "_dom_classes": [],
      "_model_module": "@jupyter-widgets/controls",
      "_model_module_version": "1.5.0",
      "_model_name": "HTMLModel",
      "_view_count": null,
      "_view_module": "@jupyter-widgets/controls",
      "_view_module_version": "1.5.0",
      "_view_name": "HTMLView",
      "description": "",
      "description_tooltip": null,
      "layout": "IPY_MODEL_668ae4dfe29647a2a155f966dcbe1b41",
      "placeholder": "​",
      "style": "IPY_MODEL_6a0ad28822d14fec9994ed502b2b9f29",
      "value": " 1678/100000 [00:27&lt;27:04, 60.53it/s]"
     }
    },
    "7ebf208966d44b34852057aef903c9e4": {
     "model_module": "@jupyter-widgets/controls",
     "model_module_version": "1.5.0",
     "model_name": "ProgressStyleModel",
     "state": {
      "_model_module": "@jupyter-widgets/controls",
      "_model_module_version": "1.5.0",
      "_model_name": "ProgressStyleModel",
      "_view_count": null,
      "_view_module": "@jupyter-widgets/base",
      "_view_module_version": "1.2.0",
      "_view_name": "StyleView",
      "bar_color": null,
      "description_width": ""
     }
    },
    "800c9bcc3e36464588c24772ec3d9831": {
     "model_module": "@jupyter-widgets/controls",
     "model_module_version": "1.5.0",
     "model_name": "DescriptionStyleModel",
     "state": {
      "_model_module": "@jupyter-widgets/controls",
      "_model_module_version": "1.5.0",
      "_model_name": "DescriptionStyleModel",
      "_view_count": null,
      "_view_module": "@jupyter-widgets/base",
      "_view_module_version": "1.2.0",
      "_view_name": "StyleView",
      "description_width": ""
     }
    },
    "80370be96b7843bb8d5045ae75a4d0bc": {
     "model_module": "@jupyter-widgets/controls",
     "model_module_version": "1.5.0",
     "model_name": "ProgressStyleModel",
     "state": {
      "_model_module": "@jupyter-widgets/controls",
      "_model_module_version": "1.5.0",
      "_model_name": "ProgressStyleModel",
      "_view_count": null,
      "_view_module": "@jupyter-widgets/base",
      "_view_module_version": "1.2.0",
      "_view_name": "StyleView",
      "bar_color": null,
      "description_width": ""
     }
    },
    "81b79522e2754392987cd9b8b122ef70": {
     "model_module": "@jupyter-widgets/base",
     "model_module_version": "1.2.0",
     "model_name": "LayoutModel",
     "state": {
      "_model_module": "@jupyter-widgets/base",
      "_model_module_version": "1.2.0",
      "_model_name": "LayoutModel",
      "_view_count": null,
      "_view_module": "@jupyter-widgets/base",
      "_view_module_version": "1.2.0",
      "_view_name": "LayoutView",
      "align_content": null,
      "align_items": null,
      "align_self": null,
      "border": null,
      "bottom": null,
      "display": null,
      "flex": null,
      "flex_flow": null,
      "grid_area": null,
      "grid_auto_columns": null,
      "grid_auto_flow": null,
      "grid_auto_rows": null,
      "grid_column": null,
      "grid_gap": null,
      "grid_row": null,
      "grid_template_areas": null,
      "grid_template_columns": null,
      "grid_template_rows": null,
      "height": null,
      "justify_content": null,
      "justify_items": null,
      "left": null,
      "margin": null,
      "max_height": null,
      "max_width": null,
      "min_height": null,
      "min_width": null,
      "object_fit": null,
      "object_position": null,
      "order": null,
      "overflow": null,
      "overflow_x": null,
      "overflow_y": null,
      "padding": null,
      "right": null,
      "top": null,
      "visibility": null,
      "width": null
     }
    },
    "8817f518a8734a36abb64ab6d2890a45": {
     "model_module": "@jupyter-widgets/controls",
     "model_module_version": "1.5.0",
     "model_name": "DescriptionStyleModel",
     "state": {
      "_model_module": "@jupyter-widgets/controls",
      "_model_module_version": "1.5.0",
      "_model_name": "DescriptionStyleModel",
      "_view_count": null,
      "_view_module": "@jupyter-widgets/base",
      "_view_module_version": "1.2.0",
      "_view_name": "StyleView",
      "description_width": ""
     }
    },
    "9160020957fa4355a6ae0c28a66abaf2": {
     "model_module": "@jupyter-widgets/base",
     "model_module_version": "1.2.0",
     "model_name": "LayoutModel",
     "state": {
      "_model_module": "@jupyter-widgets/base",
      "_model_module_version": "1.2.0",
      "_model_name": "LayoutModel",
      "_view_count": null,
      "_view_module": "@jupyter-widgets/base",
      "_view_module_version": "1.2.0",
      "_view_name": "LayoutView",
      "align_content": null,
      "align_items": null,
      "align_self": null,
      "border": null,
      "bottom": null,
      "display": null,
      "flex": null,
      "flex_flow": null,
      "grid_area": null,
      "grid_auto_columns": null,
      "grid_auto_flow": null,
      "grid_auto_rows": null,
      "grid_column": null,
      "grid_gap": null,
      "grid_row": null,
      "grid_template_areas": null,
      "grid_template_columns": null,
      "grid_template_rows": null,
      "height": null,
      "justify_content": null,
      "justify_items": null,
      "left": null,
      "margin": null,
      "max_height": null,
      "max_width": null,
      "min_height": null,
      "min_width": null,
      "object_fit": null,
      "object_position": null,
      "order": null,
      "overflow": null,
      "overflow_x": null,
      "overflow_y": null,
      "padding": null,
      "right": null,
      "top": null,
      "visibility": null,
      "width": null
     }
    },
    "9299bea8958340e48072027e42600470": {
     "model_module": "@jupyter-widgets/controls",
     "model_module_version": "1.5.0",
     "model_name": "DescriptionStyleModel",
     "state": {
      "_model_module": "@jupyter-widgets/controls",
      "_model_module_version": "1.5.0",
      "_model_name": "DescriptionStyleModel",
      "_view_count": null,
      "_view_module": "@jupyter-widgets/base",
      "_view_module_version": "1.2.0",
      "_view_name": "StyleView",
      "description_width": ""
     }
    },
    "92ecb2094f7044948507aea9e8bcb4b2": {
     "model_module": "@jupyter-widgets/base",
     "model_module_version": "1.2.0",
     "model_name": "LayoutModel",
     "state": {
      "_model_module": "@jupyter-widgets/base",
      "_model_module_version": "1.2.0",
      "_model_name": "LayoutModel",
      "_view_count": null,
      "_view_module": "@jupyter-widgets/base",
      "_view_module_version": "1.2.0",
      "_view_name": "LayoutView",
      "align_content": null,
      "align_items": null,
      "align_self": null,
      "border": null,
      "bottom": null,
      "display": null,
      "flex": null,
      "flex_flow": null,
      "grid_area": null,
      "grid_auto_columns": null,
      "grid_auto_flow": null,
      "grid_auto_rows": null,
      "grid_column": null,
      "grid_gap": null,
      "grid_row": null,
      "grid_template_areas": null,
      "grid_template_columns": null,
      "grid_template_rows": null,
      "height": null,
      "justify_content": null,
      "justify_items": null,
      "left": null,
      "margin": null,
      "max_height": null,
      "max_width": null,
      "min_height": null,
      "min_width": null,
      "object_fit": null,
      "object_position": null,
      "order": null,
      "overflow": null,
      "overflow_x": null,
      "overflow_y": null,
      "padding": null,
      "right": null,
      "top": null,
      "visibility": null,
      "width": null
     }
    },
    "958b7dc948aa4eea8d37cb6461fe984e": {
     "model_module": "@jupyter-widgets/controls",
     "model_module_version": "1.5.0",
     "model_name": "DescriptionStyleModel",
     "state": {
      "_model_module": "@jupyter-widgets/controls",
      "_model_module_version": "1.5.0",
      "_model_name": "DescriptionStyleModel",
      "_view_count": null,
      "_view_module": "@jupyter-widgets/base",
      "_view_module_version": "1.2.0",
      "_view_name": "StyleView",
      "description_width": ""
     }
    },
    "964a173c845a4dfeb175555e7bf72cb9": {
     "model_module": "@jupyter-widgets/base",
     "model_module_version": "1.2.0",
     "model_name": "LayoutModel",
     "state": {
      "_model_module": "@jupyter-widgets/base",
      "_model_module_version": "1.2.0",
      "_model_name": "LayoutModel",
      "_view_count": null,
      "_view_module": "@jupyter-widgets/base",
      "_view_module_version": "1.2.0",
      "_view_name": "LayoutView",
      "align_content": null,
      "align_items": null,
      "align_self": null,
      "border": null,
      "bottom": null,
      "display": null,
      "flex": null,
      "flex_flow": null,
      "grid_area": null,
      "grid_auto_columns": null,
      "grid_auto_flow": null,
      "grid_auto_rows": null,
      "grid_column": null,
      "grid_gap": null,
      "grid_row": null,
      "grid_template_areas": null,
      "grid_template_columns": null,
      "grid_template_rows": null,
      "height": null,
      "justify_content": null,
      "justify_items": null,
      "left": null,
      "margin": null,
      "max_height": null,
      "max_width": null,
      "min_height": null,
      "min_width": null,
      "object_fit": null,
      "object_position": null,
      "order": null,
      "overflow": null,
      "overflow_x": null,
      "overflow_y": null,
      "padding": null,
      "right": null,
      "top": null,
      "visibility": null,
      "width": null
     }
    },
    "99f6a4a23f5846f2afe7c4abaeee8ef8": {
     "model_module": "@jupyter-widgets/controls",
     "model_module_version": "1.5.0",
     "model_name": "HTMLModel",
     "state": {
      "_dom_classes": [],
      "_model_module": "@jupyter-widgets/controls",
      "_model_module_version": "1.5.0",
      "_model_name": "HTMLModel",
      "_view_count": null,
      "_view_module": "@jupyter-widgets/controls",
      "_view_module_version": "1.5.0",
      "_view_name": "HTMLView",
      "description": "",
      "description_tooltip": null,
      "layout": "IPY_MODEL_bd7a28cd46fc4e9c9c5adcde74f07c67",
      "placeholder": "​",
      "style": "IPY_MODEL_958b7dc948aa4eea8d37cb6461fe984e",
      "value": " 52374/100000 [00:35&lt;00:31, 1517.79it/s]"
     }
    },
    "a2bf6ab9ec6d48c49bfb4d8647d4d03f": {
     "model_module": "@jupyter-widgets/controls",
     "model_module_version": "1.5.0",
     "model_name": "FloatProgressModel",
     "state": {
      "_dom_classes": [],
      "_model_module": "@jupyter-widgets/controls",
      "_model_module_version": "1.5.0",
      "_model_name": "FloatProgressModel",
      "_view_count": null,
      "_view_module": "@jupyter-widgets/controls",
      "_view_module_version": "1.5.0",
      "_view_name": "ProgressView",
      "bar_style": "danger",
      "description": "",
      "description_tooltip": null,
      "layout": "IPY_MODEL_1ac138490e2e4431923e1a5404f43075",
      "max": 100000,
      "min": 0,
      "orientation": "horizontal",
      "style": "IPY_MODEL_7ebf208966d44b34852057aef903c9e4",
      "value": 56144
     }
    },
    "a47d032081d74ecda051d39afdcabe36": {
     "model_module": "@jupyter-widgets/base",
     "model_module_version": "1.2.0",
     "model_name": "LayoutModel",
     "state": {
      "_model_module": "@jupyter-widgets/base",
      "_model_module_version": "1.2.0",
      "_model_name": "LayoutModel",
      "_view_count": null,
      "_view_module": "@jupyter-widgets/base",
      "_view_module_version": "1.2.0",
      "_view_name": "LayoutView",
      "align_content": null,
      "align_items": null,
      "align_self": null,
      "border": null,
      "bottom": null,
      "display": null,
      "flex": null,
      "flex_flow": null,
      "grid_area": null,
      "grid_auto_columns": null,
      "grid_auto_flow": null,
      "grid_auto_rows": null,
      "grid_column": null,
      "grid_gap": null,
      "grid_row": null,
      "grid_template_areas": null,
      "grid_template_columns": null,
      "grid_template_rows": null,
      "height": null,
      "justify_content": null,
      "justify_items": null,
      "left": null,
      "margin": null,
      "max_height": null,
      "max_width": null,
      "min_height": null,
      "min_width": null,
      "object_fit": null,
      "object_position": null,
      "order": null,
      "overflow": null,
      "overflow_x": null,
      "overflow_y": null,
      "padding": null,
      "right": null,
      "top": null,
      "visibility": null,
      "width": null
     }
    },
    "a71d568d54014cbca07bbc86f3b2dc61": {
     "model_module": "@jupyter-widgets/controls",
     "model_module_version": "1.5.0",
     "model_name": "DescriptionStyleModel",
     "state": {
      "_model_module": "@jupyter-widgets/controls",
      "_model_module_version": "1.5.0",
      "_model_name": "DescriptionStyleModel",
      "_view_count": null,
      "_view_module": "@jupyter-widgets/base",
      "_view_module_version": "1.2.0",
      "_view_name": "StyleView",
      "description_width": ""
     }
    },
    "acb336f016e6459bb5098df1bce768c0": {
     "model_module": "@jupyter-widgets/base",
     "model_module_version": "1.2.0",
     "model_name": "LayoutModel",
     "state": {
      "_model_module": "@jupyter-widgets/base",
      "_model_module_version": "1.2.0",
      "_model_name": "LayoutModel",
      "_view_count": null,
      "_view_module": "@jupyter-widgets/base",
      "_view_module_version": "1.2.0",
      "_view_name": "LayoutView",
      "align_content": null,
      "align_items": null,
      "align_self": null,
      "border": null,
      "bottom": null,
      "display": null,
      "flex": null,
      "flex_flow": null,
      "grid_area": null,
      "grid_auto_columns": null,
      "grid_auto_flow": null,
      "grid_auto_rows": null,
      "grid_column": null,
      "grid_gap": null,
      "grid_row": null,
      "grid_template_areas": null,
      "grid_template_columns": null,
      "grid_template_rows": null,
      "height": null,
      "justify_content": null,
      "justify_items": null,
      "left": null,
      "margin": null,
      "max_height": null,
      "max_width": null,
      "min_height": null,
      "min_width": null,
      "object_fit": null,
      "object_position": null,
      "order": null,
      "overflow": null,
      "overflow_x": null,
      "overflow_y": null,
      "padding": null,
      "right": null,
      "top": null,
      "visibility": null,
      "width": null
     }
    },
    "af2b4899b1db41e596a9d76d7779c384": {
     "model_module": "@jupyter-widgets/base",
     "model_module_version": "1.2.0",
     "model_name": "LayoutModel",
     "state": {
      "_model_module": "@jupyter-widgets/base",
      "_model_module_version": "1.2.0",
      "_model_name": "LayoutModel",
      "_view_count": null,
      "_view_module": "@jupyter-widgets/base",
      "_view_module_version": "1.2.0",
      "_view_name": "LayoutView",
      "align_content": null,
      "align_items": null,
      "align_self": null,
      "border": null,
      "bottom": null,
      "display": null,
      "flex": null,
      "flex_flow": null,
      "grid_area": null,
      "grid_auto_columns": null,
      "grid_auto_flow": null,
      "grid_auto_rows": null,
      "grid_column": null,
      "grid_gap": null,
      "grid_row": null,
      "grid_template_areas": null,
      "grid_template_columns": null,
      "grid_template_rows": null,
      "height": null,
      "justify_content": null,
      "justify_items": null,
      "left": null,
      "margin": null,
      "max_height": null,
      "max_width": null,
      "min_height": null,
      "min_width": null,
      "object_fit": null,
      "object_position": null,
      "order": null,
      "overflow": null,
      "overflow_x": null,
      "overflow_y": null,
      "padding": null,
      "right": null,
      "top": null,
      "visibility": null,
      "width": null
     }
    },
    "b1806e25b3fb494d80c66c805823cf9e": {
     "model_module": "@jupyter-widgets/base",
     "model_module_version": "1.2.0",
     "model_name": "LayoutModel",
     "state": {
      "_model_module": "@jupyter-widgets/base",
      "_model_module_version": "1.2.0",
      "_model_name": "LayoutModel",
      "_view_count": null,
      "_view_module": "@jupyter-widgets/base",
      "_view_module_version": "1.2.0",
      "_view_name": "LayoutView",
      "align_content": null,
      "align_items": null,
      "align_self": null,
      "border": null,
      "bottom": null,
      "display": null,
      "flex": null,
      "flex_flow": null,
      "grid_area": null,
      "grid_auto_columns": null,
      "grid_auto_flow": null,
      "grid_auto_rows": null,
      "grid_column": null,
      "grid_gap": null,
      "grid_row": null,
      "grid_template_areas": null,
      "grid_template_columns": null,
      "grid_template_rows": null,
      "height": null,
      "justify_content": null,
      "justify_items": null,
      "left": null,
      "margin": null,
      "max_height": null,
      "max_width": null,
      "min_height": null,
      "min_width": null,
      "object_fit": null,
      "object_position": null,
      "order": null,
      "overflow": null,
      "overflow_x": null,
      "overflow_y": null,
      "padding": null,
      "right": null,
      "top": null,
      "visibility": null,
      "width": null
     }
    },
    "b272c1dddcc84cb3ab9c8520c9761dc6": {
     "model_module": "@jupyter-widgets/controls",
     "model_module_version": "1.5.0",
     "model_name": "DescriptionStyleModel",
     "state": {
      "_model_module": "@jupyter-widgets/controls",
      "_model_module_version": "1.5.0",
      "_model_name": "DescriptionStyleModel",
      "_view_count": null,
      "_view_module": "@jupyter-widgets/base",
      "_view_module_version": "1.2.0",
      "_view_name": "StyleView",
      "description_width": ""
     }
    },
    "b4271c9fcced452787f1718de30e2e7b": {
     "model_module": "@jupyter-widgets/controls",
     "model_module_version": "1.5.0",
     "model_name": "HBoxModel",
     "state": {
      "_dom_classes": [],
      "_model_module": "@jupyter-widgets/controls",
      "_model_module_version": "1.5.0",
      "_model_name": "HBoxModel",
      "_view_count": null,
      "_view_module": "@jupyter-widgets/controls",
      "_view_module_version": "1.5.0",
      "_view_name": "HBoxView",
      "box_style": "",
      "children": [
       "IPY_MODEL_12e1fe7855294fe98d650d5a9c175077",
       "IPY_MODEL_a2bf6ab9ec6d48c49bfb4d8647d4d03f",
       "IPY_MODEL_e3deec8f10554b828da62868bef34b18"
      ],
      "layout": "IPY_MODEL_92ecb2094f7044948507aea9e8bcb4b2"
     }
    },
    "bcd0ae28b25c4f239aea61373569adf8": {
     "model_module": "@jupyter-widgets/base",
     "model_module_version": "1.2.0",
     "model_name": "LayoutModel",
     "state": {
      "_model_module": "@jupyter-widgets/base",
      "_model_module_version": "1.2.0",
      "_model_name": "LayoutModel",
      "_view_count": null,
      "_view_module": "@jupyter-widgets/base",
      "_view_module_version": "1.2.0",
      "_view_name": "LayoutView",
      "align_content": null,
      "align_items": null,
      "align_self": null,
      "border": null,
      "bottom": null,
      "display": null,
      "flex": null,
      "flex_flow": null,
      "grid_area": null,
      "grid_auto_columns": null,
      "grid_auto_flow": null,
      "grid_auto_rows": null,
      "grid_column": null,
      "grid_gap": null,
      "grid_row": null,
      "grid_template_areas": null,
      "grid_template_columns": null,
      "grid_template_rows": null,
      "height": null,
      "justify_content": null,
      "justify_items": null,
      "left": null,
      "margin": null,
      "max_height": null,
      "max_width": null,
      "min_height": null,
      "min_width": null,
      "object_fit": null,
      "object_position": null,
      "order": null,
      "overflow": null,
      "overflow_x": null,
      "overflow_y": null,
      "padding": null,
      "right": null,
      "top": null,
      "visibility": null,
      "width": null
     }
    },
    "bd7a28cd46fc4e9c9c5adcde74f07c67": {
     "model_module": "@jupyter-widgets/base",
     "model_module_version": "1.2.0",
     "model_name": "LayoutModel",
     "state": {
      "_model_module": "@jupyter-widgets/base",
      "_model_module_version": "1.2.0",
      "_model_name": "LayoutModel",
      "_view_count": null,
      "_view_module": "@jupyter-widgets/base",
      "_view_module_version": "1.2.0",
      "_view_name": "LayoutView",
      "align_content": null,
      "align_items": null,
      "align_self": null,
      "border": null,
      "bottom": null,
      "display": null,
      "flex": null,
      "flex_flow": null,
      "grid_area": null,
      "grid_auto_columns": null,
      "grid_auto_flow": null,
      "grid_auto_rows": null,
      "grid_column": null,
      "grid_gap": null,
      "grid_row": null,
      "grid_template_areas": null,
      "grid_template_columns": null,
      "grid_template_rows": null,
      "height": null,
      "justify_content": null,
      "justify_items": null,
      "left": null,
      "margin": null,
      "max_height": null,
      "max_width": null,
      "min_height": null,
      "min_width": null,
      "object_fit": null,
      "object_position": null,
      "order": null,
      "overflow": null,
      "overflow_x": null,
      "overflow_y": null,
      "padding": null,
      "right": null,
      "top": null,
      "visibility": null,
      "width": null
     }
    },
    "c0a63f8af6d14892a4538752f3854adf": {
     "model_module": "@jupyter-widgets/controls",
     "model_module_version": "1.5.0",
     "model_name": "FloatProgressModel",
     "state": {
      "_dom_classes": [],
      "_model_module": "@jupyter-widgets/controls",
      "_model_module_version": "1.5.0",
      "_model_name": "FloatProgressModel",
      "_view_count": null,
      "_view_module": "@jupyter-widgets/controls",
      "_view_module_version": "1.5.0",
      "_view_name": "ProgressView",
      "bar_style": "danger",
      "description": "",
      "description_tooltip": null,
      "layout": "IPY_MODEL_da43b553edc2483fa4633775f07f93db",
      "max": 100000,
      "min": 0,
      "orientation": "horizontal",
      "style": "IPY_MODEL_eaa5d2842f8e45b0a9d249b978c3bb58",
      "value": 1312
     }
    },
    "c33a87dc6dd74688a5f775fcf8767645": {
     "model_module": "@jupyter-widgets/controls",
     "model_module_version": "1.5.0",
     "model_name": "DescriptionStyleModel",
     "state": {
      "_model_module": "@jupyter-widgets/controls",
      "_model_module_version": "1.5.0",
      "_model_name": "DescriptionStyleModel",
      "_view_count": null,
      "_view_module": "@jupyter-widgets/base",
      "_view_module_version": "1.2.0",
      "_view_name": "StyleView",
      "description_width": ""
     }
    },
    "c5b5345ab62549ed877dc9599e1efb93": {
     "model_module": "@jupyter-widgets/base",
     "model_module_version": "1.2.0",
     "model_name": "LayoutModel",
     "state": {
      "_model_module": "@jupyter-widgets/base",
      "_model_module_version": "1.2.0",
      "_model_name": "LayoutModel",
      "_view_count": null,
      "_view_module": "@jupyter-widgets/base",
      "_view_module_version": "1.2.0",
      "_view_name": "LayoutView",
      "align_content": null,
      "align_items": null,
      "align_self": null,
      "border": null,
      "bottom": null,
      "display": null,
      "flex": null,
      "flex_flow": null,
      "grid_area": null,
      "grid_auto_columns": null,
      "grid_auto_flow": null,
      "grid_auto_rows": null,
      "grid_column": null,
      "grid_gap": null,
      "grid_row": null,
      "grid_template_areas": null,
      "grid_template_columns": null,
      "grid_template_rows": null,
      "height": null,
      "justify_content": null,
      "justify_items": null,
      "left": null,
      "margin": null,
      "max_height": null,
      "max_width": null,
      "min_height": null,
      "min_width": null,
      "object_fit": null,
      "object_position": null,
      "order": null,
      "overflow": null,
      "overflow_x": null,
      "overflow_y": null,
      "padding": null,
      "right": null,
      "top": null,
      "visibility": null,
      "width": null
     }
    },
    "c73da06c21eb4989937baebe13be8c33": {
     "model_module": "@jupyter-widgets/controls",
     "model_module_version": "1.5.0",
     "model_name": "FloatProgressModel",
     "state": {
      "_dom_classes": [],
      "_model_module": "@jupyter-widgets/controls",
      "_model_module_version": "1.5.0",
      "_model_name": "FloatProgressModel",
      "_view_count": null,
      "_view_module": "@jupyter-widgets/controls",
      "_view_module_version": "1.5.0",
      "_view_name": "ProgressView",
      "bar_style": "danger",
      "description": "",
      "description_tooltip": null,
      "layout": "IPY_MODEL_1d42beb396d145f9b8994df395b2915e",
      "max": 100000,
      "min": 0,
      "orientation": "horizontal",
      "style": "IPY_MODEL_238d78c6f83c42fba7e5f7398270b927",
      "value": 1678
     }
    },
    "cc19b8e9350b45fdba43edf5bfcc085f": {
     "model_module": "@jupyter-widgets/controls",
     "model_module_version": "1.5.0",
     "model_name": "DescriptionStyleModel",
     "state": {
      "_model_module": "@jupyter-widgets/controls",
      "_model_module_version": "1.5.0",
      "_model_name": "DescriptionStyleModel",
      "_view_count": null,
      "_view_module": "@jupyter-widgets/base",
      "_view_module_version": "1.2.0",
      "_view_name": "StyleView",
      "description_width": ""
     }
    },
    "ce166b812f314580ab254c6a4f1adcf6": {
     "model_module": "@jupyter-widgets/controls",
     "model_module_version": "1.5.0",
     "model_name": "DescriptionStyleModel",
     "state": {
      "_model_module": "@jupyter-widgets/controls",
      "_model_module_version": "1.5.0",
      "_model_name": "DescriptionStyleModel",
      "_view_count": null,
      "_view_module": "@jupyter-widgets/base",
      "_view_module_version": "1.2.0",
      "_view_name": "StyleView",
      "description_width": ""
     }
    },
    "d3d8cf0eab64442d8319fbfe71516811": {
     "model_module": "@jupyter-widgets/controls",
     "model_module_version": "1.5.0",
     "model_name": "FloatProgressModel",
     "state": {
      "_dom_classes": [],
      "_model_module": "@jupyter-widgets/controls",
      "_model_module_version": "1.5.0",
      "_model_name": "FloatProgressModel",
      "_view_count": null,
      "_view_module": "@jupyter-widgets/controls",
      "_view_module_version": "1.5.0",
      "_view_name": "ProgressView",
      "bar_style": "danger",
      "description": "",
      "description_tooltip": null,
      "layout": "IPY_MODEL_9160020957fa4355a6ae0c28a66abaf2",
      "max": 100000,
      "min": 0,
      "orientation": "horizontal",
      "style": "IPY_MODEL_2c84f670481047f79ef5c26809fc67a8",
      "value": 52374
     }
    },
    "da43b553edc2483fa4633775f07f93db": {
     "model_module": "@jupyter-widgets/base",
     "model_module_version": "1.2.0",
     "model_name": "LayoutModel",
     "state": {
      "_model_module": "@jupyter-widgets/base",
      "_model_module_version": "1.2.0",
      "_model_name": "LayoutModel",
      "_view_count": null,
      "_view_module": "@jupyter-widgets/base",
      "_view_module_version": "1.2.0",
      "_view_name": "LayoutView",
      "align_content": null,
      "align_items": null,
      "align_self": null,
      "border": null,
      "bottom": null,
      "display": null,
      "flex": null,
      "flex_flow": null,
      "grid_area": null,
      "grid_auto_columns": null,
      "grid_auto_flow": null,
      "grid_auto_rows": null,
      "grid_column": null,
      "grid_gap": null,
      "grid_row": null,
      "grid_template_areas": null,
      "grid_template_columns": null,
      "grid_template_rows": null,
      "height": null,
      "justify_content": null,
      "justify_items": null,
      "left": null,
      "margin": null,
      "max_height": null,
      "max_width": null,
      "min_height": null,
      "min_width": null,
      "object_fit": null,
      "object_position": null,
      "order": null,
      "overflow": null,
      "overflow_x": null,
      "overflow_y": null,
      "padding": null,
      "right": null,
      "top": null,
      "visibility": null,
      "width": null
     }
    },
    "e0b459c08f744a64bcbecc7886144267": {
     "model_module": "@jupyter-widgets/base",
     "model_module_version": "1.2.0",
     "model_name": "LayoutModel",
     "state": {
      "_model_module": "@jupyter-widgets/base",
      "_model_module_version": "1.2.0",
      "_model_name": "LayoutModel",
      "_view_count": null,
      "_view_module": "@jupyter-widgets/base",
      "_view_module_version": "1.2.0",
      "_view_name": "LayoutView",
      "align_content": null,
      "align_items": null,
      "align_self": null,
      "border": null,
      "bottom": null,
      "display": null,
      "flex": null,
      "flex_flow": null,
      "grid_area": null,
      "grid_auto_columns": null,
      "grid_auto_flow": null,
      "grid_auto_rows": null,
      "grid_column": null,
      "grid_gap": null,
      "grid_row": null,
      "grid_template_areas": null,
      "grid_template_columns": null,
      "grid_template_rows": null,
      "height": null,
      "justify_content": null,
      "justify_items": null,
      "left": null,
      "margin": null,
      "max_height": null,
      "max_width": null,
      "min_height": null,
      "min_width": null,
      "object_fit": null,
      "object_position": null,
      "order": null,
      "overflow": null,
      "overflow_x": null,
      "overflow_y": null,
      "padding": null,
      "right": null,
      "top": null,
      "visibility": null,
      "width": null
     }
    },
    "e2b3657eefde48688cd4eeb1da2265ab": {
     "model_module": "@jupyter-widgets/controls",
     "model_module_version": "1.5.0",
     "model_name": "HTMLModel",
     "state": {
      "_dom_classes": [],
      "_model_module": "@jupyter-widgets/controls",
      "_model_module_version": "1.5.0",
      "_model_name": "HTMLModel",
      "_view_count": null,
      "_view_module": "@jupyter-widgets/controls",
      "_view_module_version": "1.5.0",
      "_view_name": "HTMLView",
      "description": "",
      "description_tooltip": null,
      "layout": "IPY_MODEL_a47d032081d74ecda051d39afdcabe36",
      "placeholder": "​",
      "style": "IPY_MODEL_b272c1dddcc84cb3ab9c8520c9761dc6",
      "value": " 23%"
     }
    },
    "e3deec8f10554b828da62868bef34b18": {
     "model_module": "@jupyter-widgets/controls",
     "model_module_version": "1.5.0",
     "model_name": "HTMLModel",
     "state": {
      "_dom_classes": [],
      "_model_module": "@jupyter-widgets/controls",
      "_model_module_version": "1.5.0",
      "_model_name": "HTMLModel",
      "_view_count": null,
      "_view_module": "@jupyter-widgets/controls",
      "_view_module_version": "1.5.0",
      "_view_name": "HTMLView",
      "description": "",
      "description_tooltip": null,
      "layout": "IPY_MODEL_e0b459c08f744a64bcbecc7886144267",
      "placeholder": "​",
      "style": "IPY_MODEL_c33a87dc6dd74688a5f775fcf8767645",
      "value": " 56144/100000 [00:50&lt;00:38, 1127.68it/s]"
     }
    },
    "e91291fd0693405e975ef399ca353090": {
     "model_module": "@jupyter-widgets/controls",
     "model_module_version": "1.5.0",
     "model_name": "HBoxModel",
     "state": {
      "_dom_classes": [],
      "_model_module": "@jupyter-widgets/controls",
      "_model_module_version": "1.5.0",
      "_model_name": "HBoxModel",
      "_view_count": null,
      "_view_module": "@jupyter-widgets/controls",
      "_view_module_version": "1.5.0",
      "_view_name": "HBoxView",
      "box_style": "",
      "children": [
       "IPY_MODEL_2fd30c88c52e4365bffb8accad5e2176",
       "IPY_MODEL_fb356783a26f4d6bad9ae0dd5f7aaa58",
       "IPY_MODEL_6d4d701c914b406ba024c27e751a6d6d"
      ],
      "layout": "IPY_MODEL_964a173c845a4dfeb175555e7bf72cb9"
     }
    },
    "eaa5d2842f8e45b0a9d249b978c3bb58": {
     "model_module": "@jupyter-widgets/controls",
     "model_module_version": "1.5.0",
     "model_name": "ProgressStyleModel",
     "state": {
      "_model_module": "@jupyter-widgets/controls",
      "_model_module_version": "1.5.0",
      "_model_name": "ProgressStyleModel",
      "_view_count": null,
      "_view_module": "@jupyter-widgets/base",
      "_view_module_version": "1.2.0",
      "_view_name": "StyleView",
      "bar_color": null,
      "description_width": ""
     }
    },
    "f0c9b97bf9e14387a78af58d07178743": {
     "model_module": "@jupyter-widgets/controls",
     "model_module_version": "1.5.0",
     "model_name": "ProgressStyleModel",
     "state": {
      "_model_module": "@jupyter-widgets/controls",
      "_model_module_version": "1.5.0",
      "_model_name": "ProgressStyleModel",
      "_view_count": null,
      "_view_module": "@jupyter-widgets/base",
      "_view_module_version": "1.2.0",
      "_view_name": "StyleView",
      "bar_color": null,
      "description_width": ""
     }
    },
    "fb356783a26f4d6bad9ae0dd5f7aaa58": {
     "model_module": "@jupyter-widgets/controls",
     "model_module_version": "1.5.0",
     "model_name": "FloatProgressModel",
     "state": {
      "_dom_classes": [],
      "_model_module": "@jupyter-widgets/controls",
      "_model_module_version": "1.5.0",
      "_model_name": "FloatProgressModel",
      "_view_count": null,
      "_view_module": "@jupyter-widgets/controls",
      "_view_module_version": "1.5.0",
      "_view_name": "ProgressView",
      "bar_style": "danger",
      "description": "",
      "description_tooltip": null,
      "layout": "IPY_MODEL_acb336f016e6459bb5098df1bce768c0",
      "max": 100000,
      "min": 0,
      "orientation": "horizontal",
      "style": "IPY_MODEL_2c3ea4af6e804d00832ec42b1e1d366b",
      "value": 6200
     }
    },
    "fcfffd8915584b70b3b5b527a8599c10": {
     "model_module": "@jupyter-widgets/base",
     "model_module_version": "1.2.0",
     "model_name": "LayoutModel",
     "state": {
      "_model_module": "@jupyter-widgets/base",
      "_model_module_version": "1.2.0",
      "_model_name": "LayoutModel",
      "_view_count": null,
      "_view_module": "@jupyter-widgets/base",
      "_view_module_version": "1.2.0",
      "_view_name": "LayoutView",
      "align_content": null,
      "align_items": null,
      "align_self": null,
      "border": null,
      "bottom": null,
      "display": null,
      "flex": null,
      "flex_flow": null,
      "grid_area": null,
      "grid_auto_columns": null,
      "grid_auto_flow": null,
      "grid_auto_rows": null,
      "grid_column": null,
      "grid_gap": null,
      "grid_row": null,
      "grid_template_areas": null,
      "grid_template_columns": null,
      "grid_template_rows": null,
      "height": null,
      "justify_content": null,
      "justify_items": null,
      "left": null,
      "margin": null,
      "max_height": null,
      "max_width": null,
      "min_height": null,
      "min_width": null,
      "object_fit": null,
      "object_position": null,
      "order": null,
      "overflow": null,
      "overflow_x": null,
      "overflow_y": null,
      "padding": null,
      "right": null,
      "top": null,
      "visibility": null,
      "width": null
     }
    }
   }
  }
 },
 "nbformat": 4,
 "nbformat_minor": 4
}
